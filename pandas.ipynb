{
 "cells": [
  {
   "cell_type": "markdown",
   "metadata": {
    "collapsed": true,
    "pycharm": {
     "name": "#%% md\n"
    }
   },
   "source": [
    "# Pandas 정리\n",
    "Pandas의 공식 문서를 보고 정리합니다.\n",
    "\n",
    "- [유저 가이드](https://pandas.pydata.org/docs/user_guide/index.html)\n",
    "- [API 레퍼런스](https://pandas.pydata.org/docs/reference/index.html)\n",
    "\n"
   ]
  },
  {
   "cell_type": "markdown",
   "source": [
    "### 10 minutes  to pandas 따라하기\n"
   ],
   "metadata": {
    "collapsed": false,
    "pycharm": {
     "name": "#%% md\n"
    }
   }
  },
  {
   "cell_type": "code",
   "execution_count": 233,
   "outputs": [
    {
     "data": {
      "text/plain": "0    1.0\n1    3.0\n2    5.0\n3    NaN\n4    6.0\n5    8.0\ndtype: float64"
     },
     "execution_count": 233,
     "metadata": {},
     "output_type": "execute_result"
    }
   ],
   "source": [
    "import numpy as np\n",
    "import pandas as pd\n",
    "\n",
    "# 넘파이와 시리즈 호환\n",
    "s = pd.Series([1, 3, 5, np.nan, 6, 8])\n",
    "s"
   ],
   "metadata": {
    "collapsed": false,
    "pycharm": {
     "name": "#%%\n"
    }
   }
  },
  {
   "cell_type": "code",
   "execution_count": 234,
   "outputs": [
    {
     "data": {
      "text/plain": "                   A         B         C         D\n2013-01-01  1.492914 -0.829124  0.534430 -1.779962\n2013-01-02  0.250533  0.076300 -2.134205  0.382448\n2013-01-03  0.207836 -0.236692  1.831408  1.260429\n2013-01-04 -0.031868  1.290931  0.033075  0.619626\n2013-01-05 -0.489236  0.917038  0.075151  0.212301\n2013-01-06  1.091738 -0.621264 -1.082289  1.825291",
      "text/html": "<div>\n<style scoped>\n    .dataframe tbody tr th:only-of-type {\n        vertical-align: middle;\n    }\n\n    .dataframe tbody tr th {\n        vertical-align: top;\n    }\n\n    .dataframe thead th {\n        text-align: right;\n    }\n</style>\n<table border=\"1\" class=\"dataframe\">\n  <thead>\n    <tr style=\"text-align: right;\">\n      <th></th>\n      <th>A</th>\n      <th>B</th>\n      <th>C</th>\n      <th>D</th>\n    </tr>\n  </thead>\n  <tbody>\n    <tr>\n      <th>2013-01-01</th>\n      <td>1.492914</td>\n      <td>-0.829124</td>\n      <td>0.534430</td>\n      <td>-1.779962</td>\n    </tr>\n    <tr>\n      <th>2013-01-02</th>\n      <td>0.250533</td>\n      <td>0.076300</td>\n      <td>-2.134205</td>\n      <td>0.382448</td>\n    </tr>\n    <tr>\n      <th>2013-01-03</th>\n      <td>0.207836</td>\n      <td>-0.236692</td>\n      <td>1.831408</td>\n      <td>1.260429</td>\n    </tr>\n    <tr>\n      <th>2013-01-04</th>\n      <td>-0.031868</td>\n      <td>1.290931</td>\n      <td>0.033075</td>\n      <td>0.619626</td>\n    </tr>\n    <tr>\n      <th>2013-01-05</th>\n      <td>-0.489236</td>\n      <td>0.917038</td>\n      <td>0.075151</td>\n      <td>0.212301</td>\n    </tr>\n    <tr>\n      <th>2013-01-06</th>\n      <td>1.091738</td>\n      <td>-0.621264</td>\n      <td>-1.082289</td>\n      <td>1.825291</td>\n    </tr>\n  </tbody>\n</table>\n</div>"
     },
     "execution_count": 234,
     "metadata": {},
     "output_type": "execute_result"
    }
   ],
   "source": [
    "dates = pd.date_range('20130101', periods=6)\n",
    "dates\n",
    "\n",
    "# 넘파이와 Dataframe 호환\n",
    "df = pd.DataFrame(np.random.randn(6, 4), index=dates, columns=list('ABCD'))\n",
    "df\n"
   ],
   "metadata": {
    "collapsed": false,
    "pycharm": {
     "name": "#%%\n"
    }
   }
  },
  {
   "cell_type": "code",
   "execution_count": 235,
   "outputs": [
    {
     "data": {
      "text/plain": "                   A         B         C         D\n2013-01-01 -2.494151 -0.422089 -0.009370 -1.874347\n2013-01-02  1.609916 -1.913429  1.132821  0.856051\n2013-01-03  2.052436 -0.202747 -0.455613  0.204076\n2013-01-04  0.774299 -0.277260  0.589272 -0.049582\n2013-01-05  0.766346  0.784104 -1.191702  0.464242\n2013-01-06  0.027132 -0.464599 -0.514315 -0.122955",
      "text/html": "<div>\n<style scoped>\n    .dataframe tbody tr th:only-of-type {\n        vertical-align: middle;\n    }\n\n    .dataframe tbody tr th {\n        vertical-align: top;\n    }\n\n    .dataframe thead th {\n        text-align: right;\n    }\n</style>\n<table border=\"1\" class=\"dataframe\">\n  <thead>\n    <tr style=\"text-align: right;\">\n      <th></th>\n      <th>A</th>\n      <th>B</th>\n      <th>C</th>\n      <th>D</th>\n    </tr>\n  </thead>\n  <tbody>\n    <tr>\n      <th>2013-01-01</th>\n      <td>-2.494151</td>\n      <td>-0.422089</td>\n      <td>-0.009370</td>\n      <td>-1.874347</td>\n    </tr>\n    <tr>\n      <th>2013-01-02</th>\n      <td>1.609916</td>\n      <td>-1.913429</td>\n      <td>1.132821</td>\n      <td>0.856051</td>\n    </tr>\n    <tr>\n      <th>2013-01-03</th>\n      <td>2.052436</td>\n      <td>-0.202747</td>\n      <td>-0.455613</td>\n      <td>0.204076</td>\n    </tr>\n    <tr>\n      <th>2013-01-04</th>\n      <td>0.774299</td>\n      <td>-0.277260</td>\n      <td>0.589272</td>\n      <td>-0.049582</td>\n    </tr>\n    <tr>\n      <th>2013-01-05</th>\n      <td>0.766346</td>\n      <td>0.784104</td>\n      <td>-1.191702</td>\n      <td>0.464242</td>\n    </tr>\n    <tr>\n      <th>2013-01-06</th>\n      <td>0.027132</td>\n      <td>-0.464599</td>\n      <td>-0.514315</td>\n      <td>-0.122955</td>\n    </tr>\n  </tbody>\n</table>\n</div>"
     },
     "execution_count": 235,
     "metadata": {},
     "output_type": "execute_result"
    }
   ],
   "source": [
    "dates = pd.date_range('20130101', periods=6)\n",
    "dates\n",
    "\n",
    "df = pd.DataFrame(np.random.randn(6, 4), index=dates, columns=list('ABCD'))\n",
    "df\n"
   ],
   "metadata": {
    "collapsed": false,
    "pycharm": {
     "name": "#%%\n"
    }
   }
  },
  {
   "cell_type": "code",
   "execution_count": 236,
   "outputs": [
    {
     "data": {
      "text/plain": "     A          B    C  D      E    F\n0  1.0 2013-01-02  1.0  3   test  foo\n1  1.0 2013-01-02  1.0  3  train  foo\n2  1.0 2013-01-02  1.0  3   test  foo\n3  1.0 2013-01-02  1.0  3  train  foo",
      "text/html": "<div>\n<style scoped>\n    .dataframe tbody tr th:only-of-type {\n        vertical-align: middle;\n    }\n\n    .dataframe tbody tr th {\n        vertical-align: top;\n    }\n\n    .dataframe thead th {\n        text-align: right;\n    }\n</style>\n<table border=\"1\" class=\"dataframe\">\n  <thead>\n    <tr style=\"text-align: right;\">\n      <th></th>\n      <th>A</th>\n      <th>B</th>\n      <th>C</th>\n      <th>D</th>\n      <th>E</th>\n      <th>F</th>\n    </tr>\n  </thead>\n  <tbody>\n    <tr>\n      <th>0</th>\n      <td>1.0</td>\n      <td>2013-01-02</td>\n      <td>1.0</td>\n      <td>3</td>\n      <td>test</td>\n      <td>foo</td>\n    </tr>\n    <tr>\n      <th>1</th>\n      <td>1.0</td>\n      <td>2013-01-02</td>\n      <td>1.0</td>\n      <td>3</td>\n      <td>train</td>\n      <td>foo</td>\n    </tr>\n    <tr>\n      <th>2</th>\n      <td>1.0</td>\n      <td>2013-01-02</td>\n      <td>1.0</td>\n      <td>3</td>\n      <td>test</td>\n      <td>foo</td>\n    </tr>\n    <tr>\n      <th>3</th>\n      <td>1.0</td>\n      <td>2013-01-02</td>\n      <td>1.0</td>\n      <td>3</td>\n      <td>train</td>\n      <td>foo</td>\n    </tr>\n  </tbody>\n</table>\n</div>"
     },
     "execution_count": 236,
     "metadata": {},
     "output_type": "execute_result"
    }
   ],
   "source": [
    "# 쉽게 딕셔너리에서 컨버트할 수 있음\n",
    "df2 = pd.DataFrame({'A': 1.,\n",
    "'B': pd.Timestamp('20130102'),\n",
    "'C': pd.Series(1, index=list(range(4)), dtype='float32'),\n",
    "'D': np.array([3] * 4, dtype='int32'),\n",
    "'E': pd.Categorical([\"test\", \"train\", \"test\", \"train\"]),\n",
    "'F': 'foo'})\n",
    "\n",
    "df2"
   ],
   "metadata": {
    "collapsed": false,
    "pycharm": {
     "name": "#%%\n"
    }
   }
  },
  {
   "cell_type": "code",
   "execution_count": 237,
   "outputs": [
    {
     "data": {
      "text/plain": "A           float64\nB    datetime64[ns]\nC           float32\nD             int32\nE          category\nF            object\ndtype: object"
     },
     "execution_count": 237,
     "metadata": {},
     "output_type": "execute_result"
    }
   ],
   "source": [
    "df2.dtypes"
   ],
   "metadata": {
    "collapsed": false,
    "pycharm": {
     "name": "#%%\n"
    }
   }
  },
  {
   "cell_type": "code",
   "execution_count": 238,
   "outputs": [
    {
     "data": {
      "text/plain": "                   A         B         C         D\n2013-01-01 -2.494151 -0.422089 -0.009370 -1.874347\n2013-01-02  1.609916 -1.913429  1.132821  0.856051",
      "text/html": "<div>\n<style scoped>\n    .dataframe tbody tr th:only-of-type {\n        vertical-align: middle;\n    }\n\n    .dataframe tbody tr th {\n        vertical-align: top;\n    }\n\n    .dataframe thead th {\n        text-align: right;\n    }\n</style>\n<table border=\"1\" class=\"dataframe\">\n  <thead>\n    <tr style=\"text-align: right;\">\n      <th></th>\n      <th>A</th>\n      <th>B</th>\n      <th>C</th>\n      <th>D</th>\n    </tr>\n  </thead>\n  <tbody>\n    <tr>\n      <th>2013-01-01</th>\n      <td>-2.494151</td>\n      <td>-0.422089</td>\n      <td>-0.009370</td>\n      <td>-1.874347</td>\n    </tr>\n    <tr>\n      <th>2013-01-02</th>\n      <td>1.609916</td>\n      <td>-1.913429</td>\n      <td>1.132821</td>\n      <td>0.856051</td>\n    </tr>\n  </tbody>\n</table>\n</div>"
     },
     "execution_count": 238,
     "metadata": {},
     "output_type": "execute_result"
    }
   ],
   "source": [
    "# 위에서부터 몇개\n",
    "df.head(2)"
   ],
   "metadata": {
    "collapsed": false,
    "pycharm": {
     "name": "#%%\n"
    }
   }
  },
  {
   "cell_type": "code",
   "execution_count": 239,
   "outputs": [
    {
     "data": {
      "text/plain": "                   A         B         C         D\n2013-01-05  0.766346  0.784104 -1.191702  0.464242\n2013-01-06  0.027132 -0.464599 -0.514315 -0.122955",
      "text/html": "<div>\n<style scoped>\n    .dataframe tbody tr th:only-of-type {\n        vertical-align: middle;\n    }\n\n    .dataframe tbody tr th {\n        vertical-align: top;\n    }\n\n    .dataframe thead th {\n        text-align: right;\n    }\n</style>\n<table border=\"1\" class=\"dataframe\">\n  <thead>\n    <tr style=\"text-align: right;\">\n      <th></th>\n      <th>A</th>\n      <th>B</th>\n      <th>C</th>\n      <th>D</th>\n    </tr>\n  </thead>\n  <tbody>\n    <tr>\n      <th>2013-01-05</th>\n      <td>0.766346</td>\n      <td>0.784104</td>\n      <td>-1.191702</td>\n      <td>0.464242</td>\n    </tr>\n    <tr>\n      <th>2013-01-06</th>\n      <td>0.027132</td>\n      <td>-0.464599</td>\n      <td>-0.514315</td>\n      <td>-0.122955</td>\n    </tr>\n  </tbody>\n</table>\n</div>"
     },
     "execution_count": 239,
     "metadata": {},
     "output_type": "execute_result"
    }
   ],
   "source": [
    "# 아래서부터 몇개\n",
    "df.tail(2)"
   ],
   "metadata": {
    "collapsed": false,
    "pycharm": {
     "name": "#%%\n"
    }
   }
  },
  {
   "cell_type": "code",
   "execution_count": 240,
   "outputs": [
    {
     "data": {
      "text/plain": "DatetimeIndex(['2013-01-01', '2013-01-02', '2013-01-03', '2013-01-04',\n               '2013-01-05', '2013-01-06'],\n              dtype='datetime64[ns]', freq='D')"
     },
     "execution_count": 240,
     "metadata": {},
     "output_type": "execute_result"
    }
   ],
   "source": [
    "# 인덱스를 출력해줌\n",
    "df.index"
   ],
   "metadata": {
    "collapsed": false,
    "pycharm": {
     "name": "#%%\n"
    }
   }
  },
  {
   "cell_type": "code",
   "execution_count": 241,
   "outputs": [
    {
     "data": {
      "text/plain": "Index(['A', 'B', 'C', 'D'], dtype='object')"
     },
     "execution_count": 241,
     "metadata": {},
     "output_type": "execute_result"
    }
   ],
   "source": [
    "df.columns"
   ],
   "metadata": {
    "collapsed": false,
    "pycharm": {
     "name": "#%%\n"
    }
   }
  },
  {
   "cell_type": "code",
   "execution_count": 242,
   "outputs": [
    {
     "data": {
      "text/plain": "array([[1.0, Timestamp('2013-01-02 00:00:00'), 1.0, 3, 'test', 'foo'],\n       [1.0, Timestamp('2013-01-02 00:00:00'), 1.0, 3, 'train', 'foo'],\n       [1.0, Timestamp('2013-01-02 00:00:00'), 1.0, 3, 'test', 'foo'],\n       [1.0, Timestamp('2013-01-02 00:00:00'), 1.0, 3, 'train', 'foo']],\n      dtype=object)"
     },
     "execution_count": 242,
     "metadata": {},
     "output_type": "execute_result"
    }
   ],
   "source": [
    "# NumPy Array로 변경해준다\n",
    "df2.to_numpy()"
   ],
   "metadata": {
    "collapsed": false,
    "pycharm": {
     "name": "#%%\n"
    }
   }
  },
  {
   "cell_type": "code",
   "execution_count": 243,
   "outputs": [
    {
     "data": {
      "text/plain": "              A         B         C         D\ncount  6.000000  6.000000  6.000000  6.000000\nmean   0.455996 -0.416003 -0.074818 -0.087086\nstd    1.610284  0.865987  0.835378  0.946070\nmin   -2.494151 -1.913429 -1.191702 -1.874347\n25%    0.211935 -0.453971 -0.499640 -0.104612\n50%    0.770322 -0.349674 -0.232491  0.077247\n75%    1.401011 -0.221376  0.439612  0.399201\nmax    2.052436  0.784104  1.132821  0.856051",
      "text/html": "<div>\n<style scoped>\n    .dataframe tbody tr th:only-of-type {\n        vertical-align: middle;\n    }\n\n    .dataframe tbody tr th {\n        vertical-align: top;\n    }\n\n    .dataframe thead th {\n        text-align: right;\n    }\n</style>\n<table border=\"1\" class=\"dataframe\">\n  <thead>\n    <tr style=\"text-align: right;\">\n      <th></th>\n      <th>A</th>\n      <th>B</th>\n      <th>C</th>\n      <th>D</th>\n    </tr>\n  </thead>\n  <tbody>\n    <tr>\n      <th>count</th>\n      <td>6.000000</td>\n      <td>6.000000</td>\n      <td>6.000000</td>\n      <td>6.000000</td>\n    </tr>\n    <tr>\n      <th>mean</th>\n      <td>0.455996</td>\n      <td>-0.416003</td>\n      <td>-0.074818</td>\n      <td>-0.087086</td>\n    </tr>\n    <tr>\n      <th>std</th>\n      <td>1.610284</td>\n      <td>0.865987</td>\n      <td>0.835378</td>\n      <td>0.946070</td>\n    </tr>\n    <tr>\n      <th>min</th>\n      <td>-2.494151</td>\n      <td>-1.913429</td>\n      <td>-1.191702</td>\n      <td>-1.874347</td>\n    </tr>\n    <tr>\n      <th>25%</th>\n      <td>0.211935</td>\n      <td>-0.453971</td>\n      <td>-0.499640</td>\n      <td>-0.104612</td>\n    </tr>\n    <tr>\n      <th>50%</th>\n      <td>0.770322</td>\n      <td>-0.349674</td>\n      <td>-0.232491</td>\n      <td>0.077247</td>\n    </tr>\n    <tr>\n      <th>75%</th>\n      <td>1.401011</td>\n      <td>-0.221376</td>\n      <td>0.439612</td>\n      <td>0.399201</td>\n    </tr>\n    <tr>\n      <th>max</th>\n      <td>2.052436</td>\n      <td>0.784104</td>\n      <td>1.132821</td>\n      <td>0.856051</td>\n    </tr>\n  </tbody>\n</table>\n</div>"
     },
     "execution_count": 243,
     "metadata": {},
     "output_type": "execute_result"
    }
   ],
   "source": [
    "# 빠르게 Dataframe의 statistics를 보여준다\n",
    "df.describe()"
   ],
   "metadata": {
    "collapsed": false,
    "pycharm": {
     "name": "#%%\n"
    }
   }
  },
  {
   "cell_type": "code",
   "execution_count": 244,
   "outputs": [
    {
     "data": {
      "text/plain": "   2013-01-01  2013-01-02  2013-01-03  2013-01-04  2013-01-05  2013-01-06\nA   -2.494151    1.609916    2.052436    0.774299    0.766346    0.027132\nB   -0.422089   -1.913429   -0.202747   -0.277260    0.784104   -0.464599\nC   -0.009370    1.132821   -0.455613    0.589272   -1.191702   -0.514315\nD   -1.874347    0.856051    0.204076   -0.049582    0.464242   -0.122955",
      "text/html": "<div>\n<style scoped>\n    .dataframe tbody tr th:only-of-type {\n        vertical-align: middle;\n    }\n\n    .dataframe tbody tr th {\n        vertical-align: top;\n    }\n\n    .dataframe thead th {\n        text-align: right;\n    }\n</style>\n<table border=\"1\" class=\"dataframe\">\n  <thead>\n    <tr style=\"text-align: right;\">\n      <th></th>\n      <th>2013-01-01</th>\n      <th>2013-01-02</th>\n      <th>2013-01-03</th>\n      <th>2013-01-04</th>\n      <th>2013-01-05</th>\n      <th>2013-01-06</th>\n    </tr>\n  </thead>\n  <tbody>\n    <tr>\n      <th>A</th>\n      <td>-2.494151</td>\n      <td>1.609916</td>\n      <td>2.052436</td>\n      <td>0.774299</td>\n      <td>0.766346</td>\n      <td>0.027132</td>\n    </tr>\n    <tr>\n      <th>B</th>\n      <td>-0.422089</td>\n      <td>-1.913429</td>\n      <td>-0.202747</td>\n      <td>-0.277260</td>\n      <td>0.784104</td>\n      <td>-0.464599</td>\n    </tr>\n    <tr>\n      <th>C</th>\n      <td>-0.009370</td>\n      <td>1.132821</td>\n      <td>-0.455613</td>\n      <td>0.589272</td>\n      <td>-1.191702</td>\n      <td>-0.514315</td>\n    </tr>\n    <tr>\n      <th>D</th>\n      <td>-1.874347</td>\n      <td>0.856051</td>\n      <td>0.204076</td>\n      <td>-0.049582</td>\n      <td>0.464242</td>\n      <td>-0.122955</td>\n    </tr>\n  </tbody>\n</table>\n</div>"
     },
     "execution_count": 244,
     "metadata": {},
     "output_type": "execute_result"
    }
   ],
   "source": [
    "# 전치행렬 (넘파이와 같음)\n",
    "df.T"
   ],
   "metadata": {
    "collapsed": false,
    "pycharm": {
     "name": "#%%\n"
    }
   }
  },
  {
   "cell_type": "code",
   "execution_count": 245,
   "outputs": [
    {
     "data": {
      "text/plain": "                   D         C         B         A\n2013-01-01 -1.874347 -0.009370 -0.422089 -2.494151\n2013-01-02  0.856051  1.132821 -1.913429  1.609916\n2013-01-03  0.204076 -0.455613 -0.202747  2.052436\n2013-01-04 -0.049582  0.589272 -0.277260  0.774299\n2013-01-05  0.464242 -1.191702  0.784104  0.766346\n2013-01-06 -0.122955 -0.514315 -0.464599  0.027132",
      "text/html": "<div>\n<style scoped>\n    .dataframe tbody tr th:only-of-type {\n        vertical-align: middle;\n    }\n\n    .dataframe tbody tr th {\n        vertical-align: top;\n    }\n\n    .dataframe thead th {\n        text-align: right;\n    }\n</style>\n<table border=\"1\" class=\"dataframe\">\n  <thead>\n    <tr style=\"text-align: right;\">\n      <th></th>\n      <th>D</th>\n      <th>C</th>\n      <th>B</th>\n      <th>A</th>\n    </tr>\n  </thead>\n  <tbody>\n    <tr>\n      <th>2013-01-01</th>\n      <td>-1.874347</td>\n      <td>-0.009370</td>\n      <td>-0.422089</td>\n      <td>-2.494151</td>\n    </tr>\n    <tr>\n      <th>2013-01-02</th>\n      <td>0.856051</td>\n      <td>1.132821</td>\n      <td>-1.913429</td>\n      <td>1.609916</td>\n    </tr>\n    <tr>\n      <th>2013-01-03</th>\n      <td>0.204076</td>\n      <td>-0.455613</td>\n      <td>-0.202747</td>\n      <td>2.052436</td>\n    </tr>\n    <tr>\n      <th>2013-01-04</th>\n      <td>-0.049582</td>\n      <td>0.589272</td>\n      <td>-0.277260</td>\n      <td>0.774299</td>\n    </tr>\n    <tr>\n      <th>2013-01-05</th>\n      <td>0.464242</td>\n      <td>-1.191702</td>\n      <td>0.784104</td>\n      <td>0.766346</td>\n    </tr>\n    <tr>\n      <th>2013-01-06</th>\n      <td>-0.122955</td>\n      <td>-0.514315</td>\n      <td>-0.464599</td>\n      <td>0.027132</td>\n    </tr>\n  </tbody>\n</table>\n</div>"
     },
     "execution_count": 245,
     "metadata": {},
     "output_type": "execute_result"
    }
   ],
   "source": [
    "df.sort_index(axis=1, ascending=False)"
   ],
   "metadata": {
    "collapsed": false,
    "pycharm": {
     "name": "#%%\n"
    }
   }
  },
  {
   "cell_type": "code",
   "execution_count": 246,
   "outputs": [
    {
     "data": {
      "text/plain": "                   A         B         C         D\n2013-01-02  1.609916 -1.913429  1.132821  0.856051\n2013-01-06  0.027132 -0.464599 -0.514315 -0.122955\n2013-01-01 -2.494151 -0.422089 -0.009370 -1.874347\n2013-01-04  0.774299 -0.277260  0.589272 -0.049582\n2013-01-03  2.052436 -0.202747 -0.455613  0.204076\n2013-01-05  0.766346  0.784104 -1.191702  0.464242",
      "text/html": "<div>\n<style scoped>\n    .dataframe tbody tr th:only-of-type {\n        vertical-align: middle;\n    }\n\n    .dataframe tbody tr th {\n        vertical-align: top;\n    }\n\n    .dataframe thead th {\n        text-align: right;\n    }\n</style>\n<table border=\"1\" class=\"dataframe\">\n  <thead>\n    <tr style=\"text-align: right;\">\n      <th></th>\n      <th>A</th>\n      <th>B</th>\n      <th>C</th>\n      <th>D</th>\n    </tr>\n  </thead>\n  <tbody>\n    <tr>\n      <th>2013-01-02</th>\n      <td>1.609916</td>\n      <td>-1.913429</td>\n      <td>1.132821</td>\n      <td>0.856051</td>\n    </tr>\n    <tr>\n      <th>2013-01-06</th>\n      <td>0.027132</td>\n      <td>-0.464599</td>\n      <td>-0.514315</td>\n      <td>-0.122955</td>\n    </tr>\n    <tr>\n      <th>2013-01-01</th>\n      <td>-2.494151</td>\n      <td>-0.422089</td>\n      <td>-0.009370</td>\n      <td>-1.874347</td>\n    </tr>\n    <tr>\n      <th>2013-01-04</th>\n      <td>0.774299</td>\n      <td>-0.277260</td>\n      <td>0.589272</td>\n      <td>-0.049582</td>\n    </tr>\n    <tr>\n      <th>2013-01-03</th>\n      <td>2.052436</td>\n      <td>-0.202747</td>\n      <td>-0.455613</td>\n      <td>0.204076</td>\n    </tr>\n    <tr>\n      <th>2013-01-05</th>\n      <td>0.766346</td>\n      <td>0.784104</td>\n      <td>-1.191702</td>\n      <td>0.464242</td>\n    </tr>\n  </tbody>\n</table>\n</div>"
     },
     "execution_count": 246,
     "metadata": {},
     "output_type": "execute_result"
    }
   ],
   "source": [
    "df.sort_values(by='B')"
   ],
   "metadata": {
    "collapsed": false,
    "pycharm": {
     "name": "#%%\n"
    }
   }
  },
  {
   "cell_type": "markdown",
   "source": [
    "Selection"
   ],
   "metadata": {
    "collapsed": false,
    "pycharm": {
     "name": "#%% md\n"
    }
   }
  },
  {
   "cell_type": "code",
   "execution_count": 247,
   "outputs": [
    {
     "data": {
      "text/plain": "2013-01-01   -2.494151\n2013-01-02    1.609916\n2013-01-03    2.052436\n2013-01-04    0.774299\n2013-01-05    0.766346\n2013-01-06    0.027132\nFreq: D, Name: A, dtype: float64"
     },
     "execution_count": 247,
     "metadata": {},
     "output_type": "execute_result"
    }
   ],
   "source": [
    "df['A']"
   ],
   "metadata": {
    "collapsed": false,
    "pycharm": {
     "name": "#%%\n"
    }
   }
  },
  {
   "cell_type": "code",
   "execution_count": 248,
   "outputs": [
    {
     "data": {
      "text/plain": "                   A         B         C         D\n2013-01-01 -2.494151 -0.422089 -0.009370 -1.874347\n2013-01-02  1.609916 -1.913429  1.132821  0.856051\n2013-01-03  2.052436 -0.202747 -0.455613  0.204076",
      "text/html": "<div>\n<style scoped>\n    .dataframe tbody tr th:only-of-type {\n        vertical-align: middle;\n    }\n\n    .dataframe tbody tr th {\n        vertical-align: top;\n    }\n\n    .dataframe thead th {\n        text-align: right;\n    }\n</style>\n<table border=\"1\" class=\"dataframe\">\n  <thead>\n    <tr style=\"text-align: right;\">\n      <th></th>\n      <th>A</th>\n      <th>B</th>\n      <th>C</th>\n      <th>D</th>\n    </tr>\n  </thead>\n  <tbody>\n    <tr>\n      <th>2013-01-01</th>\n      <td>-2.494151</td>\n      <td>-0.422089</td>\n      <td>-0.009370</td>\n      <td>-1.874347</td>\n    </tr>\n    <tr>\n      <th>2013-01-02</th>\n      <td>1.609916</td>\n      <td>-1.913429</td>\n      <td>1.132821</td>\n      <td>0.856051</td>\n    </tr>\n    <tr>\n      <th>2013-01-03</th>\n      <td>2.052436</td>\n      <td>-0.202747</td>\n      <td>-0.455613</td>\n      <td>0.204076</td>\n    </tr>\n  </tbody>\n</table>\n</div>"
     },
     "execution_count": 248,
     "metadata": {},
     "output_type": "execute_result"
    }
   ],
   "source": [
    "df[0:3]"
   ],
   "metadata": {
    "collapsed": false,
    "pycharm": {
     "name": "#%%\n"
    }
   }
  },
  {
   "cell_type": "code",
   "execution_count": 249,
   "outputs": [
    {
     "data": {
      "text/plain": "                   A         B         C         D\n2013-01-02  1.609916 -1.913429  1.132821  0.856051\n2013-01-03  2.052436 -0.202747 -0.455613  0.204076\n2013-01-04  0.774299 -0.277260  0.589272 -0.049582",
      "text/html": "<div>\n<style scoped>\n    .dataframe tbody tr th:only-of-type {\n        vertical-align: middle;\n    }\n\n    .dataframe tbody tr th {\n        vertical-align: top;\n    }\n\n    .dataframe thead th {\n        text-align: right;\n    }\n</style>\n<table border=\"1\" class=\"dataframe\">\n  <thead>\n    <tr style=\"text-align: right;\">\n      <th></th>\n      <th>A</th>\n      <th>B</th>\n      <th>C</th>\n      <th>D</th>\n    </tr>\n  </thead>\n  <tbody>\n    <tr>\n      <th>2013-01-02</th>\n      <td>1.609916</td>\n      <td>-1.913429</td>\n      <td>1.132821</td>\n      <td>0.856051</td>\n    </tr>\n    <tr>\n      <th>2013-01-03</th>\n      <td>2.052436</td>\n      <td>-0.202747</td>\n      <td>-0.455613</td>\n      <td>0.204076</td>\n    </tr>\n    <tr>\n      <th>2013-01-04</th>\n      <td>0.774299</td>\n      <td>-0.277260</td>\n      <td>0.589272</td>\n      <td>-0.049582</td>\n    </tr>\n  </tbody>\n</table>\n</div>"
     },
     "execution_count": 249,
     "metadata": {},
     "output_type": "execute_result"
    }
   ],
   "source": [
    "df['20130102':'20130104']"
   ],
   "metadata": {
    "collapsed": false,
    "pycharm": {
     "name": "#%%\n"
    }
   }
  },
  {
   "cell_type": "code",
   "execution_count": 250,
   "outputs": [
    {
     "data": {
      "text/plain": "A   -2.494151\nB   -0.422089\nC   -0.009370\nD   -1.874347\nName: 2013-01-01 00:00:00, dtype: float64"
     },
     "execution_count": 250,
     "metadata": {},
     "output_type": "execute_result"
    }
   ],
   "source": [
    "# 아래에 loc에 대한 설명이 나와있다. 필요한 데이터만 추출할 때 유용하게 사용할 수 있을 듯 하다\n",
    "# https://m.blog.naver.com/wideeyed/221964700554\n",
    "# 아래는 시리즈\n",
    "df.loc[dates[0]]"
   ],
   "metadata": {
    "collapsed": false,
    "pycharm": {
     "name": "#%%\n"
    }
   }
  },
  {
   "cell_type": "code",
   "execution_count": 251,
   "outputs": [
    {
     "data": {
      "text/plain": "                   A         B        C         D\n2013-01-01 -2.494151 -0.422089 -0.00937 -1.874347",
      "text/html": "<div>\n<style scoped>\n    .dataframe tbody tr th:only-of-type {\n        vertical-align: middle;\n    }\n\n    .dataframe tbody tr th {\n        vertical-align: top;\n    }\n\n    .dataframe thead th {\n        text-align: right;\n    }\n</style>\n<table border=\"1\" class=\"dataframe\">\n  <thead>\n    <tr style=\"text-align: right;\">\n      <th></th>\n      <th>A</th>\n      <th>B</th>\n      <th>C</th>\n      <th>D</th>\n    </tr>\n  </thead>\n  <tbody>\n    <tr>\n      <th>2013-01-01</th>\n      <td>-2.494151</td>\n      <td>-0.422089</td>\n      <td>-0.00937</td>\n      <td>-1.874347</td>\n    </tr>\n  </tbody>\n</table>\n</div>"
     },
     "execution_count": 251,
     "metadata": {},
     "output_type": "execute_result"
    }
   ],
   "source": [
    "# 아래는 데이터프레임\n",
    "df.loc[[dates[0]]]"
   ],
   "metadata": {
    "collapsed": false,
    "pycharm": {
     "name": "#%%\n"
    }
   }
  },
  {
   "cell_type": "code",
   "execution_count": 252,
   "outputs": [
    {
     "data": {
      "text/plain": "                   A         B\n2013-01-01 -2.494151 -0.422089\n2013-01-02  1.609916 -1.913429\n2013-01-03  2.052436 -0.202747\n2013-01-04  0.774299 -0.277260\n2013-01-05  0.766346  0.784104\n2013-01-06  0.027132 -0.464599",
      "text/html": "<div>\n<style scoped>\n    .dataframe tbody tr th:only-of-type {\n        vertical-align: middle;\n    }\n\n    .dataframe tbody tr th {\n        vertical-align: top;\n    }\n\n    .dataframe thead th {\n        text-align: right;\n    }\n</style>\n<table border=\"1\" class=\"dataframe\">\n  <thead>\n    <tr style=\"text-align: right;\">\n      <th></th>\n      <th>A</th>\n      <th>B</th>\n    </tr>\n  </thead>\n  <tbody>\n    <tr>\n      <th>2013-01-01</th>\n      <td>-2.494151</td>\n      <td>-0.422089</td>\n    </tr>\n    <tr>\n      <th>2013-01-02</th>\n      <td>1.609916</td>\n      <td>-1.913429</td>\n    </tr>\n    <tr>\n      <th>2013-01-03</th>\n      <td>2.052436</td>\n      <td>-0.202747</td>\n    </tr>\n    <tr>\n      <th>2013-01-04</th>\n      <td>0.774299</td>\n      <td>-0.277260</td>\n    </tr>\n    <tr>\n      <th>2013-01-05</th>\n      <td>0.766346</td>\n      <td>0.784104</td>\n    </tr>\n    <tr>\n      <th>2013-01-06</th>\n      <td>0.027132</td>\n      <td>-0.464599</td>\n    </tr>\n  </tbody>\n</table>\n</div>"
     },
     "execution_count": 252,
     "metadata": {},
     "output_type": "execute_result"
    }
   ],
   "source": [
    "df.loc[:, ['A', 'B']]"
   ],
   "metadata": {
    "collapsed": false,
    "pycharm": {
     "name": "#%%\n"
    }
   }
  },
  {
   "cell_type": "code",
   "execution_count": 253,
   "outputs": [
    {
     "data": {
      "text/plain": "                   A         B\n2013-01-02  1.609916 -1.913429\n2013-01-03  2.052436 -0.202747\n2013-01-04  0.774299 -0.277260",
      "text/html": "<div>\n<style scoped>\n    .dataframe tbody tr th:only-of-type {\n        vertical-align: middle;\n    }\n\n    .dataframe tbody tr th {\n        vertical-align: top;\n    }\n\n    .dataframe thead th {\n        text-align: right;\n    }\n</style>\n<table border=\"1\" class=\"dataframe\">\n  <thead>\n    <tr style=\"text-align: right;\">\n      <th></th>\n      <th>A</th>\n      <th>B</th>\n    </tr>\n  </thead>\n  <tbody>\n    <tr>\n      <th>2013-01-02</th>\n      <td>1.609916</td>\n      <td>-1.913429</td>\n    </tr>\n    <tr>\n      <th>2013-01-03</th>\n      <td>2.052436</td>\n      <td>-0.202747</td>\n    </tr>\n    <tr>\n      <th>2013-01-04</th>\n      <td>0.774299</td>\n      <td>-0.277260</td>\n    </tr>\n  </tbody>\n</table>\n</div>"
     },
     "execution_count": 253,
     "metadata": {},
     "output_type": "execute_result"
    }
   ],
   "source": [
    "df.loc['20130102':'20130104', ['A','B']]"
   ],
   "metadata": {
    "collapsed": false,
    "pycharm": {
     "name": "#%%\n"
    }
   }
  },
  {
   "cell_type": "code",
   "execution_count": 254,
   "outputs": [
    {
     "data": {
      "text/plain": "A    1.609916\nB   -1.913429\nName: 2013-01-02 00:00:00, dtype: float64"
     },
     "execution_count": 254,
     "metadata": {},
     "output_type": "execute_result"
    }
   ],
   "source": [
    "df.loc['20130102', ['A', 'B']]"
   ],
   "metadata": {
    "collapsed": false,
    "pycharm": {
     "name": "#%%\n"
    }
   }
  },
  {
   "cell_type": "code",
   "execution_count": 255,
   "outputs": [
    {
     "data": {
      "text/plain": "-2.4941508019659793"
     },
     "execution_count": 255,
     "metadata": {},
     "output_type": "execute_result"
    }
   ],
   "source": [
    "# 시리즈에서 A 추출\n",
    "# 이는 스칼라를 추출하는 것,\n",
    "df.loc[dates[0], 'A']"
   ],
   "metadata": {
    "collapsed": false,
    "pycharm": {
     "name": "#%%\n"
    }
   }
  },
  {
   "cell_type": "code",
   "execution_count": 256,
   "outputs": [
    {
     "data": {
      "text/plain": "-2.4941508019659793"
     },
     "execution_count": 256,
     "metadata": {},
     "output_type": "execute_result"
    }
   ],
   "source": [
    "# 스칼라는 at메소드를통해 구하면 더 빠르게 구할 수 있다\n",
    "df.at[dates[0], 'A']"
   ],
   "metadata": {
    "collapsed": false,
    "pycharm": {
     "name": "#%%\n"
    }
   }
  },
  {
   "cell_type": "code",
   "execution_count": 257,
   "outputs": [
    {
     "data": {
      "text/plain": "A    0.774299\nB   -0.277260\nC    0.589272\nD   -0.049582\nName: 2013-01-04 00:00:00, dtype: float64"
     },
     "execution_count": 257,
     "metadata": {},
     "output_type": "execute_result"
    }
   ],
   "source": [
    "# Selection By Position\n",
    "# 숫자를 이용해 선택하기\n",
    "df.iloc[3]"
   ],
   "metadata": {
    "collapsed": false,
    "pycharm": {
     "name": "#%%\n"
    }
   }
  },
  {
   "cell_type": "code",
   "execution_count": 258,
   "outputs": [
    {
     "data": {
      "text/plain": "                   A        B         C         D\n2013-01-04  0.774299 -0.27726  0.589272 -0.049582",
      "text/html": "<div>\n<style scoped>\n    .dataframe tbody tr th:only-of-type {\n        vertical-align: middle;\n    }\n\n    .dataframe tbody tr th {\n        vertical-align: top;\n    }\n\n    .dataframe thead th {\n        text-align: right;\n    }\n</style>\n<table border=\"1\" class=\"dataframe\">\n  <thead>\n    <tr style=\"text-align: right;\">\n      <th></th>\n      <th>A</th>\n      <th>B</th>\n      <th>C</th>\n      <th>D</th>\n    </tr>\n  </thead>\n  <tbody>\n    <tr>\n      <th>2013-01-04</th>\n      <td>0.774299</td>\n      <td>-0.27726</td>\n      <td>0.589272</td>\n      <td>-0.049582</td>\n    </tr>\n  </tbody>\n</table>\n</div>"
     },
     "execution_count": 258,
     "metadata": {},
     "output_type": "execute_result"
    }
   ],
   "source": [
    "# 역시 동일하게 배열이 아닌 값으로 넣으면 시리즈가 나오고\n",
    "# 배열을 넣으면 Dataframe으로 값이 나옴\n",
    "df.iloc[[3]]\n"
   ],
   "metadata": {
    "collapsed": false,
    "pycharm": {
     "name": "#%%\n"
    }
   }
  },
  {
   "cell_type": "code",
   "execution_count": 259,
   "outputs": [
    {
     "data": {
      "text/plain": "                   A         B\n2013-01-04  0.774299 -0.277260\n2013-01-05  0.766346  0.784104",
      "text/html": "<div>\n<style scoped>\n    .dataframe tbody tr th:only-of-type {\n        vertical-align: middle;\n    }\n\n    .dataframe tbody tr th {\n        vertical-align: top;\n    }\n\n    .dataframe thead th {\n        text-align: right;\n    }\n</style>\n<table border=\"1\" class=\"dataframe\">\n  <thead>\n    <tr style=\"text-align: right;\">\n      <th></th>\n      <th>A</th>\n      <th>B</th>\n    </tr>\n  </thead>\n  <tbody>\n    <tr>\n      <th>2013-01-04</th>\n      <td>0.774299</td>\n      <td>-0.277260</td>\n    </tr>\n    <tr>\n      <th>2013-01-05</th>\n      <td>0.766346</td>\n      <td>0.784104</td>\n    </tr>\n  </tbody>\n</table>\n</div>"
     },
     "execution_count": 259,
     "metadata": {},
     "output_type": "execute_result"
    }
   ],
   "source": [
    "# 정수로 슬라이싱\n",
    "df.iloc[3:5,0:2]\n"
   ],
   "metadata": {
    "collapsed": false,
    "pycharm": {
     "name": "#%%\n"
    }
   }
  },
  {
   "cell_type": "code",
   "execution_count": 260,
   "outputs": [
    {
     "data": {
      "text/plain": "                   A         C\n2013-01-02  1.609916  1.132821\n2013-01-03  2.052436 -0.455613\n2013-01-05  0.766346 -1.191702",
      "text/html": "<div>\n<style scoped>\n    .dataframe tbody tr th:only-of-type {\n        vertical-align: middle;\n    }\n\n    .dataframe tbody tr th {\n        vertical-align: top;\n    }\n\n    .dataframe thead th {\n        text-align: right;\n    }\n</style>\n<table border=\"1\" class=\"dataframe\">\n  <thead>\n    <tr style=\"text-align: right;\">\n      <th></th>\n      <th>A</th>\n      <th>C</th>\n    </tr>\n  </thead>\n  <tbody>\n    <tr>\n      <th>2013-01-02</th>\n      <td>1.609916</td>\n      <td>1.132821</td>\n    </tr>\n    <tr>\n      <th>2013-01-03</th>\n      <td>2.052436</td>\n      <td>-0.455613</td>\n    </tr>\n    <tr>\n      <th>2013-01-05</th>\n      <td>0.766346</td>\n      <td>-1.191702</td>\n    </tr>\n  </tbody>\n</table>\n</div>"
     },
     "execution_count": 260,
     "metadata": {},
     "output_type": "execute_result"
    }
   ],
   "source": [
    "# 특정 위치 가져오기\n",
    "df.iloc[[1,2,4],[0,2]]"
   ],
   "metadata": {
    "collapsed": false,
    "pycharm": {
     "name": "#%%\n"
    }
   }
  },
  {
   "cell_type": "code",
   "execution_count": 261,
   "outputs": [
    {
     "data": {
      "text/plain": "                   A         B         C         D\n2013-01-02  1.609916 -1.913429  1.132821  0.856051\n2013-01-03  2.052436 -0.202747 -0.455613  0.204076",
      "text/html": "<div>\n<style scoped>\n    .dataframe tbody tr th:only-of-type {\n        vertical-align: middle;\n    }\n\n    .dataframe tbody tr th {\n        vertical-align: top;\n    }\n\n    .dataframe thead th {\n        text-align: right;\n    }\n</style>\n<table border=\"1\" class=\"dataframe\">\n  <thead>\n    <tr style=\"text-align: right;\">\n      <th></th>\n      <th>A</th>\n      <th>B</th>\n      <th>C</th>\n      <th>D</th>\n    </tr>\n  </thead>\n  <tbody>\n    <tr>\n      <th>2013-01-02</th>\n      <td>1.609916</td>\n      <td>-1.913429</td>\n      <td>1.132821</td>\n      <td>0.856051</td>\n    </tr>\n    <tr>\n      <th>2013-01-03</th>\n      <td>2.052436</td>\n      <td>-0.202747</td>\n      <td>-0.455613</td>\n      <td>0.204076</td>\n    </tr>\n  </tbody>\n</table>\n</div>"
     },
     "execution_count": 261,
     "metadata": {},
     "output_type": "execute_result"
    }
   ],
   "source": [
    "# 명시적 슬라이싱\n",
    "df.iloc[1:3,:]"
   ],
   "metadata": {
    "collapsed": false,
    "pycharm": {
     "name": "#%%\n"
    }
   }
  },
  {
   "cell_type": "code",
   "execution_count": 262,
   "outputs": [
    {
     "data": {
      "text/plain": "                   B         C\n2013-01-01 -0.422089 -0.009370\n2013-01-02 -1.913429  1.132821\n2013-01-03 -0.202747 -0.455613\n2013-01-04 -0.277260  0.589272\n2013-01-05  0.784104 -1.191702\n2013-01-06 -0.464599 -0.514315",
      "text/html": "<div>\n<style scoped>\n    .dataframe tbody tr th:only-of-type {\n        vertical-align: middle;\n    }\n\n    .dataframe tbody tr th {\n        vertical-align: top;\n    }\n\n    .dataframe thead th {\n        text-align: right;\n    }\n</style>\n<table border=\"1\" class=\"dataframe\">\n  <thead>\n    <tr style=\"text-align: right;\">\n      <th></th>\n      <th>B</th>\n      <th>C</th>\n    </tr>\n  </thead>\n  <tbody>\n    <tr>\n      <th>2013-01-01</th>\n      <td>-0.422089</td>\n      <td>-0.009370</td>\n    </tr>\n    <tr>\n      <th>2013-01-02</th>\n      <td>-1.913429</td>\n      <td>1.132821</td>\n    </tr>\n    <tr>\n      <th>2013-01-03</th>\n      <td>-0.202747</td>\n      <td>-0.455613</td>\n    </tr>\n    <tr>\n      <th>2013-01-04</th>\n      <td>-0.277260</td>\n      <td>0.589272</td>\n    </tr>\n    <tr>\n      <th>2013-01-05</th>\n      <td>0.784104</td>\n      <td>-1.191702</td>\n    </tr>\n    <tr>\n      <th>2013-01-06</th>\n      <td>-0.464599</td>\n      <td>-0.514315</td>\n    </tr>\n  </tbody>\n</table>\n</div>"
     },
     "execution_count": 262,
     "metadata": {},
     "output_type": "execute_result"
    }
   ],
   "source": [
    "# 명시적 슬라이싱\n",
    "df.iloc[:,1:3]"
   ],
   "metadata": {
    "collapsed": false,
    "pycharm": {
     "name": "#%%\n"
    }
   }
  },
  {
   "cell_type": "code",
   "execution_count": 263,
   "outputs": [
    {
     "data": {
      "text/plain": "-1.913429056089032"
     },
     "execution_count": 263,
     "metadata": {},
     "output_type": "execute_result"
    }
   ],
   "source": [
    "# 스칼라(값) 얻기\n",
    "df.iloc[1,1]"
   ],
   "metadata": {
    "collapsed": false,
    "pycharm": {
     "name": "#%%\n"
    }
   }
  },
  {
   "cell_type": "code",
   "execution_count": 264,
   "outputs": [
    {
     "data": {
      "text/plain": "-1.913429056089032"
     },
     "execution_count": 264,
     "metadata": {},
     "output_type": "execute_result"
    }
   ],
   "source": [
    "# 역시 at더 빠름\n",
    "df.iat[1,1]"
   ],
   "metadata": {
    "collapsed": false,
    "pycharm": {
     "name": "#%%\n"
    }
   }
  },
  {
   "cell_type": "code",
   "execution_count": 265,
   "outputs": [
    {
     "data": {
      "text/plain": "                   A         B         C         D\n2013-01-02  1.609916 -1.913429  1.132821  0.856051\n2013-01-03  2.052436 -0.202747 -0.455613  0.204076\n2013-01-04  0.774299 -0.277260  0.589272 -0.049582\n2013-01-05  0.766346  0.784104 -1.191702  0.464242\n2013-01-06  0.027132 -0.464599 -0.514315 -0.122955",
      "text/html": "<div>\n<style scoped>\n    .dataframe tbody tr th:only-of-type {\n        vertical-align: middle;\n    }\n\n    .dataframe tbody tr th {\n        vertical-align: top;\n    }\n\n    .dataframe thead th {\n        text-align: right;\n    }\n</style>\n<table border=\"1\" class=\"dataframe\">\n  <thead>\n    <tr style=\"text-align: right;\">\n      <th></th>\n      <th>A</th>\n      <th>B</th>\n      <th>C</th>\n      <th>D</th>\n    </tr>\n  </thead>\n  <tbody>\n    <tr>\n      <th>2013-01-02</th>\n      <td>1.609916</td>\n      <td>-1.913429</td>\n      <td>1.132821</td>\n      <td>0.856051</td>\n    </tr>\n    <tr>\n      <th>2013-01-03</th>\n      <td>2.052436</td>\n      <td>-0.202747</td>\n      <td>-0.455613</td>\n      <td>0.204076</td>\n    </tr>\n    <tr>\n      <th>2013-01-04</th>\n      <td>0.774299</td>\n      <td>-0.277260</td>\n      <td>0.589272</td>\n      <td>-0.049582</td>\n    </tr>\n    <tr>\n      <th>2013-01-05</th>\n      <td>0.766346</td>\n      <td>0.784104</td>\n      <td>-1.191702</td>\n      <td>0.464242</td>\n    </tr>\n    <tr>\n      <th>2013-01-06</th>\n      <td>0.027132</td>\n      <td>-0.464599</td>\n      <td>-0.514315</td>\n      <td>-0.122955</td>\n    </tr>\n  </tbody>\n</table>\n</div>"
     },
     "execution_count": 265,
     "metadata": {},
     "output_type": "execute_result"
    }
   ],
   "source": [
    "# 조건주기, 열 A에 대한\n",
    "df[df.A > 0]"
   ],
   "metadata": {
    "collapsed": false,
    "pycharm": {
     "name": "#%%\n"
    }
   }
  },
  {
   "cell_type": "code",
   "execution_count": 266,
   "outputs": [
    {
     "data": {
      "text/plain": "                   A         B         C         D\n2013-01-01       NaN       NaN       NaN       NaN\n2013-01-02  1.609916       NaN  1.132821  0.856051\n2013-01-03  2.052436       NaN       NaN  0.204076\n2013-01-04  0.774299       NaN  0.589272       NaN\n2013-01-05  0.766346  0.784104       NaN  0.464242\n2013-01-06  0.027132       NaN       NaN       NaN",
      "text/html": "<div>\n<style scoped>\n    .dataframe tbody tr th:only-of-type {\n        vertical-align: middle;\n    }\n\n    .dataframe tbody tr th {\n        vertical-align: top;\n    }\n\n    .dataframe thead th {\n        text-align: right;\n    }\n</style>\n<table border=\"1\" class=\"dataframe\">\n  <thead>\n    <tr style=\"text-align: right;\">\n      <th></th>\n      <th>A</th>\n      <th>B</th>\n      <th>C</th>\n      <th>D</th>\n    </tr>\n  </thead>\n  <tbody>\n    <tr>\n      <th>2013-01-01</th>\n      <td>NaN</td>\n      <td>NaN</td>\n      <td>NaN</td>\n      <td>NaN</td>\n    </tr>\n    <tr>\n      <th>2013-01-02</th>\n      <td>1.609916</td>\n      <td>NaN</td>\n      <td>1.132821</td>\n      <td>0.856051</td>\n    </tr>\n    <tr>\n      <th>2013-01-03</th>\n      <td>2.052436</td>\n      <td>NaN</td>\n      <td>NaN</td>\n      <td>0.204076</td>\n    </tr>\n    <tr>\n      <th>2013-01-04</th>\n      <td>0.774299</td>\n      <td>NaN</td>\n      <td>0.589272</td>\n      <td>NaN</td>\n    </tr>\n    <tr>\n      <th>2013-01-05</th>\n      <td>0.766346</td>\n      <td>0.784104</td>\n      <td>NaN</td>\n      <td>0.464242</td>\n    </tr>\n    <tr>\n      <th>2013-01-06</th>\n      <td>0.027132</td>\n      <td>NaN</td>\n      <td>NaN</td>\n      <td>NaN</td>\n    </tr>\n  </tbody>\n</table>\n</div>"
     },
     "execution_count": 266,
     "metadata": {},
     "output_type": "execute_result"
    }
   ],
   "source": [
    "# 전체 데이터프레임에 대한 조건주기\n",
    "df[df > 0]"
   ],
   "metadata": {
    "collapsed": false,
    "pycharm": {
     "name": "#%%\n"
    }
   }
  },
  {
   "cell_type": "code",
   "execution_count": 267,
   "outputs": [
    {
     "data": {
      "text/plain": "                   A         B         C         D      E\n2013-01-01 -2.494151 -0.422089 -0.009370 -1.874347    one\n2013-01-02  1.609916 -1.913429  1.132821  0.856051    one\n2013-01-03  2.052436 -0.202747 -0.455613  0.204076    two\n2013-01-04  0.774299 -0.277260  0.589272 -0.049582  three\n2013-01-05  0.766346  0.784104 -1.191702  0.464242   four\n2013-01-06  0.027132 -0.464599 -0.514315 -0.122955   five",
      "text/html": "<div>\n<style scoped>\n    .dataframe tbody tr th:only-of-type {\n        vertical-align: middle;\n    }\n\n    .dataframe tbody tr th {\n        vertical-align: top;\n    }\n\n    .dataframe thead th {\n        text-align: right;\n    }\n</style>\n<table border=\"1\" class=\"dataframe\">\n  <thead>\n    <tr style=\"text-align: right;\">\n      <th></th>\n      <th>A</th>\n      <th>B</th>\n      <th>C</th>\n      <th>D</th>\n      <th>E</th>\n    </tr>\n  </thead>\n  <tbody>\n    <tr>\n      <th>2013-01-01</th>\n      <td>-2.494151</td>\n      <td>-0.422089</td>\n      <td>-0.009370</td>\n      <td>-1.874347</td>\n      <td>one</td>\n    </tr>\n    <tr>\n      <th>2013-01-02</th>\n      <td>1.609916</td>\n      <td>-1.913429</td>\n      <td>1.132821</td>\n      <td>0.856051</td>\n      <td>one</td>\n    </tr>\n    <tr>\n      <th>2013-01-03</th>\n      <td>2.052436</td>\n      <td>-0.202747</td>\n      <td>-0.455613</td>\n      <td>0.204076</td>\n      <td>two</td>\n    </tr>\n    <tr>\n      <th>2013-01-04</th>\n      <td>0.774299</td>\n      <td>-0.277260</td>\n      <td>0.589272</td>\n      <td>-0.049582</td>\n      <td>three</td>\n    </tr>\n    <tr>\n      <th>2013-01-05</th>\n      <td>0.766346</td>\n      <td>0.784104</td>\n      <td>-1.191702</td>\n      <td>0.464242</td>\n      <td>four</td>\n    </tr>\n    <tr>\n      <th>2013-01-06</th>\n      <td>0.027132</td>\n      <td>-0.464599</td>\n      <td>-0.514315</td>\n      <td>-0.122955</td>\n      <td>five</td>\n    </tr>\n  </tbody>\n</table>\n</div>"
     },
     "execution_count": 267,
     "metadata": {},
     "output_type": "execute_result"
    }
   ],
   "source": [
    "df2 = df.copy()\n",
    "df2['E'] = ['one', 'one', 'two', 'three', 'four', 'five']\n",
    "df2"
   ],
   "metadata": {
    "collapsed": false,
    "pycharm": {
     "name": "#%%\n"
    }
   }
  },
  {
   "cell_type": "code",
   "execution_count": 268,
   "outputs": [
    {
     "data": {
      "text/plain": "                   A         B         C         D     E\n2013-01-03  2.052436 -0.202747 -0.455613  0.204076   two\n2013-01-05  0.766346  0.784104 -1.191702  0.464242  four",
      "text/html": "<div>\n<style scoped>\n    .dataframe tbody tr th:only-of-type {\n        vertical-align: middle;\n    }\n\n    .dataframe tbody tr th {\n        vertical-align: top;\n    }\n\n    .dataframe thead th {\n        text-align: right;\n    }\n</style>\n<table border=\"1\" class=\"dataframe\">\n  <thead>\n    <tr style=\"text-align: right;\">\n      <th></th>\n      <th>A</th>\n      <th>B</th>\n      <th>C</th>\n      <th>D</th>\n      <th>E</th>\n    </tr>\n  </thead>\n  <tbody>\n    <tr>\n      <th>2013-01-03</th>\n      <td>2.052436</td>\n      <td>-0.202747</td>\n      <td>-0.455613</td>\n      <td>0.204076</td>\n      <td>two</td>\n    </tr>\n    <tr>\n      <th>2013-01-05</th>\n      <td>0.766346</td>\n      <td>0.784104</td>\n      <td>-1.191702</td>\n      <td>0.464242</td>\n      <td>four</td>\n    </tr>\n  </tbody>\n</table>\n</div>"
     },
     "execution_count": 268,
     "metadata": {},
     "output_type": "execute_result"
    }
   ],
   "source": [
    "df2[df2['E'].isin(['two', 'four'])]"
   ],
   "metadata": {
    "collapsed": false,
    "pycharm": {
     "name": "#%%\n"
    }
   }
  },
  {
   "cell_type": "code",
   "execution_count": 269,
   "outputs": [
    {
     "data": {
      "text/plain": "2013-01-02    1\n2013-01-03    2\n2013-01-04    3\n2013-01-05    4\n2013-01-06    5\n2013-01-07    6\nFreq: D, dtype: int64"
     },
     "execution_count": 269,
     "metadata": {},
     "output_type": "execute_result"
    }
   ],
   "source": [
    "# 시리즈에 인덱스를 주면 인덱스로 자동정렬\n",
    "s1 = pd.Series([1,2,3,4,5,6], index=pd.date_range('20130102', periods=6))\n",
    "s1"
   ],
   "metadata": {
    "collapsed": false,
    "pycharm": {
     "name": "#%%\n"
    }
   }
  },
  {
   "cell_type": "code",
   "execution_count": 270,
   "outputs": [],
   "source": [
    "df['F'] = s1"
   ],
   "metadata": {
    "collapsed": false,
    "pycharm": {
     "name": "#%%\n"
    }
   }
  },
  {
   "cell_type": "code",
   "execution_count": 271,
   "outputs": [
    {
     "data": {
      "text/plain": "                   A         B         C         D    F\n2013-01-01  0.000000 -0.422089 -0.009370 -1.874347  NaN\n2013-01-02  1.609916 -1.913429  1.132821  0.856051  1.0\n2013-01-03  2.052436 -0.202747 -0.455613  0.204076  2.0\n2013-01-04  0.774299 -0.277260  0.589272 -0.049582  3.0\n2013-01-05  0.766346  0.784104 -1.191702  0.464242  4.0\n2013-01-06  0.027132 -0.464599 -0.514315 -0.122955  5.0",
      "text/html": "<div>\n<style scoped>\n    .dataframe tbody tr th:only-of-type {\n        vertical-align: middle;\n    }\n\n    .dataframe tbody tr th {\n        vertical-align: top;\n    }\n\n    .dataframe thead th {\n        text-align: right;\n    }\n</style>\n<table border=\"1\" class=\"dataframe\">\n  <thead>\n    <tr style=\"text-align: right;\">\n      <th></th>\n      <th>A</th>\n      <th>B</th>\n      <th>C</th>\n      <th>D</th>\n      <th>F</th>\n    </tr>\n  </thead>\n  <tbody>\n    <tr>\n      <th>2013-01-01</th>\n      <td>0.000000</td>\n      <td>-0.422089</td>\n      <td>-0.009370</td>\n      <td>-1.874347</td>\n      <td>NaN</td>\n    </tr>\n    <tr>\n      <th>2013-01-02</th>\n      <td>1.609916</td>\n      <td>-1.913429</td>\n      <td>1.132821</td>\n      <td>0.856051</td>\n      <td>1.0</td>\n    </tr>\n    <tr>\n      <th>2013-01-03</th>\n      <td>2.052436</td>\n      <td>-0.202747</td>\n      <td>-0.455613</td>\n      <td>0.204076</td>\n      <td>2.0</td>\n    </tr>\n    <tr>\n      <th>2013-01-04</th>\n      <td>0.774299</td>\n      <td>-0.277260</td>\n      <td>0.589272</td>\n      <td>-0.049582</td>\n      <td>3.0</td>\n    </tr>\n    <tr>\n      <th>2013-01-05</th>\n      <td>0.766346</td>\n      <td>0.784104</td>\n      <td>-1.191702</td>\n      <td>0.464242</td>\n      <td>4.0</td>\n    </tr>\n    <tr>\n      <th>2013-01-06</th>\n      <td>0.027132</td>\n      <td>-0.464599</td>\n      <td>-0.514315</td>\n      <td>-0.122955</td>\n      <td>5.0</td>\n    </tr>\n  </tbody>\n</table>\n</div>"
     },
     "execution_count": 271,
     "metadata": {},
     "output_type": "execute_result"
    }
   ],
   "source": [
    "# label로 값 설정\n",
    "df.at[dates[0], 'A'] = 0\n",
    "df"
   ],
   "metadata": {
    "collapsed": false,
    "pycharm": {
     "name": "#%%\n"
    }
   }
  },
  {
   "cell_type": "code",
   "execution_count": 272,
   "outputs": [
    {
     "data": {
      "text/plain": "                   A         B         C         D    F\n2013-01-01  0.000000  0.000000 -0.009370 -1.874347  NaN\n2013-01-02  1.609916 -1.913429  1.132821  0.856051  1.0\n2013-01-03  2.052436 -0.202747 -0.455613  0.204076  2.0\n2013-01-04  0.774299 -0.277260  0.589272 -0.049582  3.0\n2013-01-05  0.766346  0.784104 -1.191702  0.464242  4.0\n2013-01-06  0.027132 -0.464599 -0.514315 -0.122955  5.0",
      "text/html": "<div>\n<style scoped>\n    .dataframe tbody tr th:only-of-type {\n        vertical-align: middle;\n    }\n\n    .dataframe tbody tr th {\n        vertical-align: top;\n    }\n\n    .dataframe thead th {\n        text-align: right;\n    }\n</style>\n<table border=\"1\" class=\"dataframe\">\n  <thead>\n    <tr style=\"text-align: right;\">\n      <th></th>\n      <th>A</th>\n      <th>B</th>\n      <th>C</th>\n      <th>D</th>\n      <th>F</th>\n    </tr>\n  </thead>\n  <tbody>\n    <tr>\n      <th>2013-01-01</th>\n      <td>0.000000</td>\n      <td>0.000000</td>\n      <td>-0.009370</td>\n      <td>-1.874347</td>\n      <td>NaN</td>\n    </tr>\n    <tr>\n      <th>2013-01-02</th>\n      <td>1.609916</td>\n      <td>-1.913429</td>\n      <td>1.132821</td>\n      <td>0.856051</td>\n      <td>1.0</td>\n    </tr>\n    <tr>\n      <th>2013-01-03</th>\n      <td>2.052436</td>\n      <td>-0.202747</td>\n      <td>-0.455613</td>\n      <td>0.204076</td>\n      <td>2.0</td>\n    </tr>\n    <tr>\n      <th>2013-01-04</th>\n      <td>0.774299</td>\n      <td>-0.277260</td>\n      <td>0.589272</td>\n      <td>-0.049582</td>\n      <td>3.0</td>\n    </tr>\n    <tr>\n      <th>2013-01-05</th>\n      <td>0.766346</td>\n      <td>0.784104</td>\n      <td>-1.191702</td>\n      <td>0.464242</td>\n      <td>4.0</td>\n    </tr>\n    <tr>\n      <th>2013-01-06</th>\n      <td>0.027132</td>\n      <td>-0.464599</td>\n      <td>-0.514315</td>\n      <td>-0.122955</td>\n      <td>5.0</td>\n    </tr>\n  </tbody>\n</table>\n</div>"
     },
     "execution_count": 272,
     "metadata": {},
     "output_type": "execute_result"
    }
   ],
   "source": [
    "# 위치로 값 설정\n",
    "df.iat[0, 1] = 0\n",
    "df"
   ],
   "metadata": {
    "collapsed": false,
    "pycharm": {
     "name": "#%%\n"
    }
   }
  },
  {
   "cell_type": "code",
   "execution_count": 273,
   "outputs": [
    {
     "data": {
      "text/plain": "                   A         B         C         D    F\n2013-01-01  0.000000  0.000000  0.000000 -1.874347  NaN\n2013-01-02  1.609916 -1.913429  1.132821  0.856051  1.0\n2013-01-03  2.052436 -0.202747 -0.455613  0.204076  2.0\n2013-01-04  0.774299 -0.277260  0.589272 -0.049582  3.0\n2013-01-05  0.766346  0.784104 -1.191702  0.464242  4.0\n2013-01-06  0.027132 -0.464599 -0.514315 -0.122955  5.0",
      "text/html": "<div>\n<style scoped>\n    .dataframe tbody tr th:only-of-type {\n        vertical-align: middle;\n    }\n\n    .dataframe tbody tr th {\n        vertical-align: top;\n    }\n\n    .dataframe thead th {\n        text-align: right;\n    }\n</style>\n<table border=\"1\" class=\"dataframe\">\n  <thead>\n    <tr style=\"text-align: right;\">\n      <th></th>\n      <th>A</th>\n      <th>B</th>\n      <th>C</th>\n      <th>D</th>\n      <th>F</th>\n    </tr>\n  </thead>\n  <tbody>\n    <tr>\n      <th>2013-01-01</th>\n      <td>0.000000</td>\n      <td>0.000000</td>\n      <td>0.000000</td>\n      <td>-1.874347</td>\n      <td>NaN</td>\n    </tr>\n    <tr>\n      <th>2013-01-02</th>\n      <td>1.609916</td>\n      <td>-1.913429</td>\n      <td>1.132821</td>\n      <td>0.856051</td>\n      <td>1.0</td>\n    </tr>\n    <tr>\n      <th>2013-01-03</th>\n      <td>2.052436</td>\n      <td>-0.202747</td>\n      <td>-0.455613</td>\n      <td>0.204076</td>\n      <td>2.0</td>\n    </tr>\n    <tr>\n      <th>2013-01-04</th>\n      <td>0.774299</td>\n      <td>-0.277260</td>\n      <td>0.589272</td>\n      <td>-0.049582</td>\n      <td>3.0</td>\n    </tr>\n    <tr>\n      <th>2013-01-05</th>\n      <td>0.766346</td>\n      <td>0.784104</td>\n      <td>-1.191702</td>\n      <td>0.464242</td>\n      <td>4.0</td>\n    </tr>\n    <tr>\n      <th>2013-01-06</th>\n      <td>0.027132</td>\n      <td>-0.464599</td>\n      <td>-0.514315</td>\n      <td>-0.122955</td>\n      <td>5.0</td>\n    </tr>\n  </tbody>\n</table>\n</div>"
     },
     "execution_count": 273,
     "metadata": {},
     "output_type": "execute_result"
    }
   ],
   "source": [
    "# at메소드가 아닌 loc메소드로도 값 대입 가능\n",
    "df.iloc[0, 2] = 0\n",
    "df"
   ],
   "metadata": {
    "collapsed": false,
    "pycharm": {
     "name": "#%%\n"
    }
   }
  },
  {
   "cell_type": "code",
   "execution_count": 274,
   "outputs": [
    {
     "data": {
      "text/plain": "                   A         B         C  D    F\n2013-01-01  0.000000  0.000000  0.000000  5  NaN\n2013-01-02  1.609916 -1.913429  1.132821  5  1.0\n2013-01-03  2.052436 -0.202747 -0.455613  5  2.0\n2013-01-04  0.774299 -0.277260  0.589272  5  3.0\n2013-01-05  0.766346  0.784104 -1.191702  5  4.0\n2013-01-06  0.027132 -0.464599 -0.514315  5  5.0",
      "text/html": "<div>\n<style scoped>\n    .dataframe tbody tr th:only-of-type {\n        vertical-align: middle;\n    }\n\n    .dataframe tbody tr th {\n        vertical-align: top;\n    }\n\n    .dataframe thead th {\n        text-align: right;\n    }\n</style>\n<table border=\"1\" class=\"dataframe\">\n  <thead>\n    <tr style=\"text-align: right;\">\n      <th></th>\n      <th>A</th>\n      <th>B</th>\n      <th>C</th>\n      <th>D</th>\n      <th>F</th>\n    </tr>\n  </thead>\n  <tbody>\n    <tr>\n      <th>2013-01-01</th>\n      <td>0.000000</td>\n      <td>0.000000</td>\n      <td>0.000000</td>\n      <td>5</td>\n      <td>NaN</td>\n    </tr>\n    <tr>\n      <th>2013-01-02</th>\n      <td>1.609916</td>\n      <td>-1.913429</td>\n      <td>1.132821</td>\n      <td>5</td>\n      <td>1.0</td>\n    </tr>\n    <tr>\n      <th>2013-01-03</th>\n      <td>2.052436</td>\n      <td>-0.202747</td>\n      <td>-0.455613</td>\n      <td>5</td>\n      <td>2.0</td>\n    </tr>\n    <tr>\n      <th>2013-01-04</th>\n      <td>0.774299</td>\n      <td>-0.277260</td>\n      <td>0.589272</td>\n      <td>5</td>\n      <td>3.0</td>\n    </tr>\n    <tr>\n      <th>2013-01-05</th>\n      <td>0.766346</td>\n      <td>0.784104</td>\n      <td>-1.191702</td>\n      <td>5</td>\n      <td>4.0</td>\n    </tr>\n    <tr>\n      <th>2013-01-06</th>\n      <td>0.027132</td>\n      <td>-0.464599</td>\n      <td>-0.514315</td>\n      <td>5</td>\n      <td>5.0</td>\n    </tr>\n  </tbody>\n</table>\n</div>"
     },
     "execution_count": 274,
     "metadata": {},
     "output_type": "execute_result"
    }
   ],
   "source": [
    "df.loc[:, 'D'] = np.array([5] * len(df))\n",
    "df"
   ],
   "metadata": {
    "collapsed": false,
    "pycharm": {
     "name": "#%%\n"
    }
   }
  },
  {
   "cell_type": "code",
   "execution_count": 275,
   "outputs": [
    {
     "data": {
      "text/plain": "                   A         B         C  D    F\n2013-01-01  0.000000  0.000000  0.000000 -5  NaN\n2013-01-02 -1.609916 -1.913429 -1.132821 -5 -1.0\n2013-01-03 -2.052436 -0.202747 -0.455613 -5 -2.0\n2013-01-04 -0.774299 -0.277260 -0.589272 -5 -3.0\n2013-01-05 -0.766346 -0.784104 -1.191702 -5 -4.0\n2013-01-06 -0.027132 -0.464599 -0.514315 -5 -5.0",
      "text/html": "<div>\n<style scoped>\n    .dataframe tbody tr th:only-of-type {\n        vertical-align: middle;\n    }\n\n    .dataframe tbody tr th {\n        vertical-align: top;\n    }\n\n    .dataframe thead th {\n        text-align: right;\n    }\n</style>\n<table border=\"1\" class=\"dataframe\">\n  <thead>\n    <tr style=\"text-align: right;\">\n      <th></th>\n      <th>A</th>\n      <th>B</th>\n      <th>C</th>\n      <th>D</th>\n      <th>F</th>\n    </tr>\n  </thead>\n  <tbody>\n    <tr>\n      <th>2013-01-01</th>\n      <td>0.000000</td>\n      <td>0.000000</td>\n      <td>0.000000</td>\n      <td>-5</td>\n      <td>NaN</td>\n    </tr>\n    <tr>\n      <th>2013-01-02</th>\n      <td>-1.609916</td>\n      <td>-1.913429</td>\n      <td>-1.132821</td>\n      <td>-5</td>\n      <td>-1.0</td>\n    </tr>\n    <tr>\n      <th>2013-01-03</th>\n      <td>-2.052436</td>\n      <td>-0.202747</td>\n      <td>-0.455613</td>\n      <td>-5</td>\n      <td>-2.0</td>\n    </tr>\n    <tr>\n      <th>2013-01-04</th>\n      <td>-0.774299</td>\n      <td>-0.277260</td>\n      <td>-0.589272</td>\n      <td>-5</td>\n      <td>-3.0</td>\n    </tr>\n    <tr>\n      <th>2013-01-05</th>\n      <td>-0.766346</td>\n      <td>-0.784104</td>\n      <td>-1.191702</td>\n      <td>-5</td>\n      <td>-4.0</td>\n    </tr>\n    <tr>\n      <th>2013-01-06</th>\n      <td>-0.027132</td>\n      <td>-0.464599</td>\n      <td>-0.514315</td>\n      <td>-5</td>\n      <td>-5.0</td>\n    </tr>\n  </tbody>\n</table>\n</div>"
     },
     "execution_count": 275,
     "metadata": {},
     "output_type": "execute_result"
    }
   ],
   "source": [
    "df2 = df.copy()\n",
    "df2[df2 > 0] = -df2\n",
    "df2"
   ],
   "metadata": {
    "collapsed": false,
    "pycharm": {
     "name": "#%%\n"
    }
   }
  },
  {
   "cell_type": "code",
   "execution_count": 276,
   "outputs": [
    {
     "data": {
      "text/plain": "                   A         B         C  D    E\n2013-01-01  0.000000  0.000000  0.000000  5  1.0\n2013-01-02  1.609916 -1.913429  1.132821  5  1.0\n2013-01-03  2.052436 -0.202747 -0.455613  5  NaN\n2013-01-04  0.774299 -0.277260  0.589272  5  NaN",
      "text/html": "<div>\n<style scoped>\n    .dataframe tbody tr th:only-of-type {\n        vertical-align: middle;\n    }\n\n    .dataframe tbody tr th {\n        vertical-align: top;\n    }\n\n    .dataframe thead th {\n        text-align: right;\n    }\n</style>\n<table border=\"1\" class=\"dataframe\">\n  <thead>\n    <tr style=\"text-align: right;\">\n      <th></th>\n      <th>A</th>\n      <th>B</th>\n      <th>C</th>\n      <th>D</th>\n      <th>E</th>\n    </tr>\n  </thead>\n  <tbody>\n    <tr>\n      <th>2013-01-01</th>\n      <td>0.000000</td>\n      <td>0.000000</td>\n      <td>0.000000</td>\n      <td>5</td>\n      <td>1.0</td>\n    </tr>\n    <tr>\n      <th>2013-01-02</th>\n      <td>1.609916</td>\n      <td>-1.913429</td>\n      <td>1.132821</td>\n      <td>5</td>\n      <td>1.0</td>\n    </tr>\n    <tr>\n      <th>2013-01-03</th>\n      <td>2.052436</td>\n      <td>-0.202747</td>\n      <td>-0.455613</td>\n      <td>5</td>\n      <td>NaN</td>\n    </tr>\n    <tr>\n      <th>2013-01-04</th>\n      <td>0.774299</td>\n      <td>-0.277260</td>\n      <td>0.589272</td>\n      <td>5</td>\n      <td>NaN</td>\n    </tr>\n  </tbody>\n</table>\n</div>"
     },
     "execution_count": 276,
     "metadata": {},
     "output_type": "execute_result"
    }
   ],
   "source": [
    "# 결측치는 np.nan으로 표현된다. 계산에는 포함되지 않는다.\n",
    "# Reindexing을 통해 인덱스를 변경 가능하다\n",
    "df1 = df.reindex(index=dates[0:4], columns=['A', 'B', 'C', 'D'] + ['E'])\n",
    "df1.loc[dates[0]:dates[1], 'E'] = 1\n",
    "df1"
   ],
   "metadata": {
    "collapsed": false,
    "pycharm": {
     "name": "#%%\n"
    }
   }
  },
  {
   "cell_type": "code",
   "execution_count": 277,
   "outputs": [
    {
     "data": {
      "text/plain": "                   A         B         C  D    E\n2013-01-01  0.000000  0.000000  0.000000  5  1.0\n2013-01-02  1.609916 -1.913429  1.132821  5  1.0",
      "text/html": "<div>\n<style scoped>\n    .dataframe tbody tr th:only-of-type {\n        vertical-align: middle;\n    }\n\n    .dataframe tbody tr th {\n        vertical-align: top;\n    }\n\n    .dataframe thead th {\n        text-align: right;\n    }\n</style>\n<table border=\"1\" class=\"dataframe\">\n  <thead>\n    <tr style=\"text-align: right;\">\n      <th></th>\n      <th>A</th>\n      <th>B</th>\n      <th>C</th>\n      <th>D</th>\n      <th>E</th>\n    </tr>\n  </thead>\n  <tbody>\n    <tr>\n      <th>2013-01-01</th>\n      <td>0.000000</td>\n      <td>0.000000</td>\n      <td>0.000000</td>\n      <td>5</td>\n      <td>1.0</td>\n    </tr>\n    <tr>\n      <th>2013-01-02</th>\n      <td>1.609916</td>\n      <td>-1.913429</td>\n      <td>1.132821</td>\n      <td>5</td>\n      <td>1.0</td>\n    </tr>\n  </tbody>\n</table>\n</div>"
     },
     "execution_count": 277,
     "metadata": {},
     "output_type": "execute_result"
    }
   ],
   "source": [
    "# 결측치가 있는 행을 지운다\n",
    "df1.dropna(how='any')"
   ],
   "metadata": {
    "collapsed": false,
    "pycharm": {
     "name": "#%%\n"
    }
   }
  },
  {
   "cell_type": "code",
   "execution_count": 278,
   "outputs": [
    {
     "data": {
      "text/plain": "                   A         B         C  D    E\n2013-01-01  0.000000  0.000000  0.000000  5  1.0\n2013-01-02  1.609916 -1.913429  1.132821  5  1.0\n2013-01-03  2.052436 -0.202747 -0.455613  5  5.0\n2013-01-04  0.774299 -0.277260  0.589272  5  5.0",
      "text/html": "<div>\n<style scoped>\n    .dataframe tbody tr th:only-of-type {\n        vertical-align: middle;\n    }\n\n    .dataframe tbody tr th {\n        vertical-align: top;\n    }\n\n    .dataframe thead th {\n        text-align: right;\n    }\n</style>\n<table border=\"1\" class=\"dataframe\">\n  <thead>\n    <tr style=\"text-align: right;\">\n      <th></th>\n      <th>A</th>\n      <th>B</th>\n      <th>C</th>\n      <th>D</th>\n      <th>E</th>\n    </tr>\n  </thead>\n  <tbody>\n    <tr>\n      <th>2013-01-01</th>\n      <td>0.000000</td>\n      <td>0.000000</td>\n      <td>0.000000</td>\n      <td>5</td>\n      <td>1.0</td>\n    </tr>\n    <tr>\n      <th>2013-01-02</th>\n      <td>1.609916</td>\n      <td>-1.913429</td>\n      <td>1.132821</td>\n      <td>5</td>\n      <td>1.0</td>\n    </tr>\n    <tr>\n      <th>2013-01-03</th>\n      <td>2.052436</td>\n      <td>-0.202747</td>\n      <td>-0.455613</td>\n      <td>5</td>\n      <td>5.0</td>\n    </tr>\n    <tr>\n      <th>2013-01-04</th>\n      <td>0.774299</td>\n      <td>-0.277260</td>\n      <td>0.589272</td>\n      <td>5</td>\n      <td>5.0</td>\n    </tr>\n  </tbody>\n</table>\n</div>"
     },
     "execution_count": 278,
     "metadata": {},
     "output_type": "execute_result"
    }
   ],
   "source": [
    "# 결측치를 채운다\n",
    "df1.fillna(value=5)"
   ],
   "metadata": {
    "collapsed": false,
    "pycharm": {
     "name": "#%%\n"
    }
   }
  },
  {
   "cell_type": "code",
   "execution_count": 279,
   "outputs": [
    {
     "data": {
      "text/plain": "                A      B      C      D      E\n2013-01-01  False  False  False  False  False\n2013-01-02  False  False  False  False  False\n2013-01-03  False  False  False  False   True\n2013-01-04  False  False  False  False   True",
      "text/html": "<div>\n<style scoped>\n    .dataframe tbody tr th:only-of-type {\n        vertical-align: middle;\n    }\n\n    .dataframe tbody tr th {\n        vertical-align: top;\n    }\n\n    .dataframe thead th {\n        text-align: right;\n    }\n</style>\n<table border=\"1\" class=\"dataframe\">\n  <thead>\n    <tr style=\"text-align: right;\">\n      <th></th>\n      <th>A</th>\n      <th>B</th>\n      <th>C</th>\n      <th>D</th>\n      <th>E</th>\n    </tr>\n  </thead>\n  <tbody>\n    <tr>\n      <th>2013-01-01</th>\n      <td>False</td>\n      <td>False</td>\n      <td>False</td>\n      <td>False</td>\n      <td>False</td>\n    </tr>\n    <tr>\n      <th>2013-01-02</th>\n      <td>False</td>\n      <td>False</td>\n      <td>False</td>\n      <td>False</td>\n      <td>False</td>\n    </tr>\n    <tr>\n      <th>2013-01-03</th>\n      <td>False</td>\n      <td>False</td>\n      <td>False</td>\n      <td>False</td>\n      <td>True</td>\n    </tr>\n    <tr>\n      <th>2013-01-04</th>\n      <td>False</td>\n      <td>False</td>\n      <td>False</td>\n      <td>False</td>\n      <td>True</td>\n    </tr>\n  </tbody>\n</table>\n</div>"
     },
     "execution_count": 279,
     "metadata": {},
     "output_type": "execute_result"
    }
   ],
   "source": [
    "# Boolean Dataframe을 얻는다. 결측치가 있는 스칼라는 True가 됨\n",
    "pd.isna(df1)\n"
   ],
   "metadata": {
    "collapsed": false,
    "pycharm": {
     "name": "#%%\n"
    }
   }
  },
  {
   "cell_type": "code",
   "execution_count": 280,
   "outputs": [
    {
     "data": {
      "text/plain": "A    0.871688\nB   -0.345655\nC   -0.073256\nD    5.000000\nF    3.000000\ndtype: float64"
     },
     "execution_count": 280,
     "metadata": {},
     "output_type": "execute_result"
    }
   ],
   "source": [
    "# Operation\n",
    "\n",
    "# mean메소드, 파라미터로 axis가 들어감 default는 axis=0\n",
    "df.mean() # Series"
   ],
   "metadata": {
    "collapsed": false,
    "pycharm": {
     "name": "#%%\n"
    }
   }
  },
  {
   "cell_type": "code",
   "execution_count": 281,
   "outputs": [
    {
     "data": {
      "text/plain": "2013-01-01    1.250000\n2013-01-02    1.365861\n2013-01-03    1.678815\n2013-01-04    1.817262\n2013-01-05    1.871750\n2013-01-06    1.809644\nFreq: D, dtype: float64"
     },
     "execution_count": 281,
     "metadata": {},
     "output_type": "execute_result"
    }
   ],
   "source": [
    "df.mean(axis=1)"
   ],
   "metadata": {
    "collapsed": false,
    "pycharm": {
     "name": "#%%\n"
    }
   }
  },
  {
   "cell_type": "code",
   "execution_count": 282,
   "outputs": [
    {
     "data": {
      "text/plain": "2013-01-01    NaN\n2013-01-02    NaN\n2013-01-03    1.0\n2013-01-04    3.0\n2013-01-05    5.0\n2013-01-06    NaN\nFreq: D, dtype: float64"
     },
     "execution_count": 282,
     "metadata": {},
     "output_type": "execute_result"
    }
   ],
   "source": [
    "s = pd.Series([1, 3, 5, np.nan, 6, 8], index=dates).shift(2)\n",
    "s"
   ],
   "metadata": {
    "collapsed": false,
    "pycharm": {
     "name": "#%%\n"
    }
   }
  },
  {
   "cell_type": "code",
   "execution_count": 283,
   "outputs": [
    {
     "data": {
      "text/plain": "                   A         B         C  D    F\n2013-01-01  0.000000  0.000000  0.000000  5  NaN\n2013-01-02  1.609916 -1.913429  1.132821  5  1.0\n2013-01-03  2.052436 -0.202747 -0.455613  5  2.0\n2013-01-04  0.774299 -0.277260  0.589272  5  3.0\n2013-01-05  0.766346  0.784104 -1.191702  5  4.0\n2013-01-06  0.027132 -0.464599 -0.514315  5  5.0",
      "text/html": "<div>\n<style scoped>\n    .dataframe tbody tr th:only-of-type {\n        vertical-align: middle;\n    }\n\n    .dataframe tbody tr th {\n        vertical-align: top;\n    }\n\n    .dataframe thead th {\n        text-align: right;\n    }\n</style>\n<table border=\"1\" class=\"dataframe\">\n  <thead>\n    <tr style=\"text-align: right;\">\n      <th></th>\n      <th>A</th>\n      <th>B</th>\n      <th>C</th>\n      <th>D</th>\n      <th>F</th>\n    </tr>\n  </thead>\n  <tbody>\n    <tr>\n      <th>2013-01-01</th>\n      <td>0.000000</td>\n      <td>0.000000</td>\n      <td>0.000000</td>\n      <td>5</td>\n      <td>NaN</td>\n    </tr>\n    <tr>\n      <th>2013-01-02</th>\n      <td>1.609916</td>\n      <td>-1.913429</td>\n      <td>1.132821</td>\n      <td>5</td>\n      <td>1.0</td>\n    </tr>\n    <tr>\n      <th>2013-01-03</th>\n      <td>2.052436</td>\n      <td>-0.202747</td>\n      <td>-0.455613</td>\n      <td>5</td>\n      <td>2.0</td>\n    </tr>\n    <tr>\n      <th>2013-01-04</th>\n      <td>0.774299</td>\n      <td>-0.277260</td>\n      <td>0.589272</td>\n      <td>5</td>\n      <td>3.0</td>\n    </tr>\n    <tr>\n      <th>2013-01-05</th>\n      <td>0.766346</td>\n      <td>0.784104</td>\n      <td>-1.191702</td>\n      <td>5</td>\n      <td>4.0</td>\n    </tr>\n    <tr>\n      <th>2013-01-06</th>\n      <td>0.027132</td>\n      <td>-0.464599</td>\n      <td>-0.514315</td>\n      <td>5</td>\n      <td>5.0</td>\n    </tr>\n  </tbody>\n</table>\n</div>"
     },
     "execution_count": 283,
     "metadata": {},
     "output_type": "execute_result"
    }
   ],
   "source": [
    "df"
   ],
   "metadata": {
    "collapsed": false,
    "pycharm": {
     "name": "#%%\n"
    }
   }
  },
  {
   "cell_type": "code",
   "execution_count": 284,
   "outputs": [
    {
     "data": {
      "text/plain": "                   A         B         C    D    F\n2013-01-01       NaN       NaN       NaN  NaN  NaN\n2013-01-02       NaN       NaN       NaN  NaN  NaN\n2013-01-03  1.052436 -1.202747 -1.455613  4.0  1.0\n2013-01-04 -2.225701 -3.277260 -2.410728  2.0  0.0\n2013-01-05 -4.233654 -4.215896 -6.191702  0.0 -1.0\n2013-01-06       NaN       NaN       NaN  NaN  NaN",
      "text/html": "<div>\n<style scoped>\n    .dataframe tbody tr th:only-of-type {\n        vertical-align: middle;\n    }\n\n    .dataframe tbody tr th {\n        vertical-align: top;\n    }\n\n    .dataframe thead th {\n        text-align: right;\n    }\n</style>\n<table border=\"1\" class=\"dataframe\">\n  <thead>\n    <tr style=\"text-align: right;\">\n      <th></th>\n      <th>A</th>\n      <th>B</th>\n      <th>C</th>\n      <th>D</th>\n      <th>F</th>\n    </tr>\n  </thead>\n  <tbody>\n    <tr>\n      <th>2013-01-01</th>\n      <td>NaN</td>\n      <td>NaN</td>\n      <td>NaN</td>\n      <td>NaN</td>\n      <td>NaN</td>\n    </tr>\n    <tr>\n      <th>2013-01-02</th>\n      <td>NaN</td>\n      <td>NaN</td>\n      <td>NaN</td>\n      <td>NaN</td>\n      <td>NaN</td>\n    </tr>\n    <tr>\n      <th>2013-01-03</th>\n      <td>1.052436</td>\n      <td>-1.202747</td>\n      <td>-1.455613</td>\n      <td>4.0</td>\n      <td>1.0</td>\n    </tr>\n    <tr>\n      <th>2013-01-04</th>\n      <td>-2.225701</td>\n      <td>-3.277260</td>\n      <td>-2.410728</td>\n      <td>2.0</td>\n      <td>0.0</td>\n    </tr>\n    <tr>\n      <th>2013-01-05</th>\n      <td>-4.233654</td>\n      <td>-4.215896</td>\n      <td>-6.191702</td>\n      <td>0.0</td>\n      <td>-1.0</td>\n    </tr>\n    <tr>\n      <th>2013-01-06</th>\n      <td>NaN</td>\n      <td>NaN</td>\n      <td>NaN</td>\n      <td>NaN</td>\n      <td>NaN</td>\n    </tr>\n  </tbody>\n</table>\n</div>"
     },
     "execution_count": 284,
     "metadata": {},
     "output_type": "execute_result"
    }
   ],
   "source": [
    "df.sub(s, axis='index')"
   ],
   "metadata": {
    "collapsed": false,
    "pycharm": {
     "name": "#%%\n"
    }
   }
  },
  {
   "cell_type": "code",
   "execution_count": 285,
   "outputs": [
    {
     "data": {
      "text/plain": "                   A         B         C   D     F\n2013-01-01  0.000000  0.000000  0.000000   5   NaN\n2013-01-02  1.609916 -1.913429  1.132821  10   1.0\n2013-01-03  3.662351 -2.116177  0.677208  15   3.0\n2013-01-04  4.436650 -2.393436  1.266480  20   6.0\n2013-01-05  5.202996 -1.609332  0.074778  25  10.0\n2013-01-06  5.230128 -2.073931 -0.439537  30  15.0",
      "text/html": "<div>\n<style scoped>\n    .dataframe tbody tr th:only-of-type {\n        vertical-align: middle;\n    }\n\n    .dataframe tbody tr th {\n        vertical-align: top;\n    }\n\n    .dataframe thead th {\n        text-align: right;\n    }\n</style>\n<table border=\"1\" class=\"dataframe\">\n  <thead>\n    <tr style=\"text-align: right;\">\n      <th></th>\n      <th>A</th>\n      <th>B</th>\n      <th>C</th>\n      <th>D</th>\n      <th>F</th>\n    </tr>\n  </thead>\n  <tbody>\n    <tr>\n      <th>2013-01-01</th>\n      <td>0.000000</td>\n      <td>0.000000</td>\n      <td>0.000000</td>\n      <td>5</td>\n      <td>NaN</td>\n    </tr>\n    <tr>\n      <th>2013-01-02</th>\n      <td>1.609916</td>\n      <td>-1.913429</td>\n      <td>1.132821</td>\n      <td>10</td>\n      <td>1.0</td>\n    </tr>\n    <tr>\n      <th>2013-01-03</th>\n      <td>3.662351</td>\n      <td>-2.116177</td>\n      <td>0.677208</td>\n      <td>15</td>\n      <td>3.0</td>\n    </tr>\n    <tr>\n      <th>2013-01-04</th>\n      <td>4.436650</td>\n      <td>-2.393436</td>\n      <td>1.266480</td>\n      <td>20</td>\n      <td>6.0</td>\n    </tr>\n    <tr>\n      <th>2013-01-05</th>\n      <td>5.202996</td>\n      <td>-1.609332</td>\n      <td>0.074778</td>\n      <td>25</td>\n      <td>10.0</td>\n    </tr>\n    <tr>\n      <th>2013-01-06</th>\n      <td>5.230128</td>\n      <td>-2.073931</td>\n      <td>-0.439537</td>\n      <td>30</td>\n      <td>15.0</td>\n    </tr>\n  </tbody>\n</table>\n</div>"
     },
     "execution_count": 285,
     "metadata": {},
     "output_type": "execute_result"
    }
   ],
   "source": [
    "# Apply 메소드, 데이터에 함수를 적용한다\n",
    "df.apply(np.cumsum)"
   ],
   "metadata": {
    "collapsed": false,
    "pycharm": {
     "name": "#%%\n"
    }
   }
  },
  {
   "cell_type": "code",
   "execution_count": 286,
   "outputs": [
    {
     "data": {
      "text/plain": "A    2.052436\nB    2.697533\nC    2.324523\nD    0.000000\nF    4.000000\ndtype: float64"
     },
     "execution_count": 286,
     "metadata": {},
     "output_type": "execute_result"
    }
   ],
   "source": [
    "df.apply(lambda x : x.max() - x.min())\n"
   ],
   "metadata": {
    "collapsed": false,
    "pycharm": {
     "name": "#%%\n"
    }
   }
  },
  {
   "cell_type": "code",
   "execution_count": 287,
   "outputs": [
    {
     "data": {
      "text/plain": "0    0\n1    5\n2    6\n3    6\n4    5\n5    5\n6    5\n7    3\n8    3\n9    0\ndtype: int64"
     },
     "execution_count": 287,
     "metadata": {},
     "output_type": "execute_result"
    }
   ],
   "source": [
    "# 히스토그래밍\n",
    "s = pd.Series(np.random.randint(0, 7, size=10))\n",
    "s"
   ],
   "metadata": {
    "collapsed": false,
    "pycharm": {
     "name": "#%%\n"
    }
   }
  },
  {
   "cell_type": "code",
   "execution_count": 288,
   "outputs": [
    {
     "data": {
      "text/plain": "5    4\n6    2\n3    2\n0    2\ndtype: int64"
     },
     "execution_count": 288,
     "metadata": {},
     "output_type": "execute_result"
    }
   ],
   "source": [
    "s.value_counts()"
   ],
   "metadata": {
    "collapsed": false,
    "pycharm": {
     "name": "#%%\n"
    }
   }
  },
  {
   "cell_type": "code",
   "execution_count": 289,
   "outputs": [
    {
     "data": {
      "text/plain": "0       a\n1       b\n2       c\n3    aaba\n4    baca\n5     NaN\n6    caba\n7     dog\n8     cat\ndtype: object"
     },
     "execution_count": 289,
     "metadata": {},
     "output_type": "execute_result"
    }
   ],
   "source": [
    "# String method\n",
    "s = pd.Series(['A', 'B', 'C', 'Aaba', 'Baca', np.nan, 'CABA', 'dog', 'cat'])\n",
    "s.str.lower()"
   ],
   "metadata": {
    "collapsed": false,
    "pycharm": {
     "name": "#%%\n"
    }
   }
  },
  {
   "cell_type": "code",
   "execution_count": 290,
   "outputs": [
    {
     "name": "stdout",
     "output_type": "stream",
     "text": [
      "2013-01-01    0.000000\n",
      "2013-01-02    1.609916\n",
      "2013-01-03    2.052436\n",
      "2013-01-04    0.774299\n",
      "2013-01-05    0.766346\n",
      "2013-01-06    0.027132\n",
      "Freq: D, Name: A, dtype: float64\n",
      "['', '', 'background-color: yellow', '', '', '']\n",
      "2013-01-01    0.000000\n",
      "2013-01-02   -1.913429\n",
      "2013-01-03   -0.202747\n",
      "2013-01-04   -0.277260\n",
      "2013-01-05    0.784104\n",
      "2013-01-06   -0.464599\n",
      "Freq: D, Name: B, dtype: float64\n",
      "['', '', '', '', 'background-color: yellow', '']\n",
      "2013-01-01    0.000000\n",
      "2013-01-02    1.132821\n",
      "2013-01-03   -0.455613\n",
      "2013-01-04    0.589272\n",
      "2013-01-05   -1.191702\n",
      "2013-01-06   -0.514315\n",
      "Freq: D, Name: C, dtype: float64\n",
      "['', 'background-color: yellow', '', '', '', '']\n",
      "2013-01-01    5\n",
      "2013-01-02    5\n",
      "2013-01-03    5\n",
      "2013-01-04    5\n",
      "2013-01-05    5\n",
      "2013-01-06    5\n",
      "Freq: D, Name: D, dtype: int64\n",
      "['background-color: yellow', 'background-color: yellow', 'background-color: yellow', 'background-color: yellow', 'background-color: yellow', 'background-color: yellow']\n",
      "2013-01-01    NaN\n",
      "2013-01-02    1.0\n",
      "2013-01-03    2.0\n",
      "2013-01-04    3.0\n",
      "2013-01-05    4.0\n",
      "2013-01-06    5.0\n",
      "Freq: D, Name: F, dtype: float64\n",
      "['', '', '', '', '', 'background-color: yellow']\n"
     ]
    },
    {
     "data": {
      "text/plain": "<pandas.io.formats.style.Styler at 0x126e9d978>",
      "text/html": "<style  type=\"text/css\" >\n#T_a6a52faa_1ea1_11eb_8a46_acde48001122row0_col3,#T_a6a52faa_1ea1_11eb_8a46_acde48001122row1_col2,#T_a6a52faa_1ea1_11eb_8a46_acde48001122row1_col3,#T_a6a52faa_1ea1_11eb_8a46_acde48001122row2_col0,#T_a6a52faa_1ea1_11eb_8a46_acde48001122row2_col3,#T_a6a52faa_1ea1_11eb_8a46_acde48001122row3_col3,#T_a6a52faa_1ea1_11eb_8a46_acde48001122row4_col1,#T_a6a52faa_1ea1_11eb_8a46_acde48001122row4_col3,#T_a6a52faa_1ea1_11eb_8a46_acde48001122row5_col3,#T_a6a52faa_1ea1_11eb_8a46_acde48001122row5_col4{\n            background-color:  yellow;\n        }</style><table id=\"T_a6a52faa_1ea1_11eb_8a46_acde48001122\" ><thead>    <tr>        <th class=\"blank level0\" ></th>        <th class=\"col_heading level0 col0\" >A</th>        <th class=\"col_heading level0 col1\" >B</th>        <th class=\"col_heading level0 col2\" >C</th>        <th class=\"col_heading level0 col3\" >D</th>        <th class=\"col_heading level0 col4\" >F</th>    </tr></thead><tbody>\n                <tr>\n                        <th id=\"T_a6a52faa_1ea1_11eb_8a46_acde48001122level0_row0\" class=\"row_heading level0 row0\" >2013-01-01 00:00:00</th>\n                        <td id=\"T_a6a52faa_1ea1_11eb_8a46_acde48001122row0_col0\" class=\"data row0 col0\" >0.000000</td>\n                        <td id=\"T_a6a52faa_1ea1_11eb_8a46_acde48001122row0_col1\" class=\"data row0 col1\" >0.000000</td>\n                        <td id=\"T_a6a52faa_1ea1_11eb_8a46_acde48001122row0_col2\" class=\"data row0 col2\" >0.000000</td>\n                        <td id=\"T_a6a52faa_1ea1_11eb_8a46_acde48001122row0_col3\" class=\"data row0 col3\" >5</td>\n                        <td id=\"T_a6a52faa_1ea1_11eb_8a46_acde48001122row0_col4\" class=\"data row0 col4\" >nan</td>\n            </tr>\n            <tr>\n                        <th id=\"T_a6a52faa_1ea1_11eb_8a46_acde48001122level0_row1\" class=\"row_heading level0 row1\" >2013-01-02 00:00:00</th>\n                        <td id=\"T_a6a52faa_1ea1_11eb_8a46_acde48001122row1_col0\" class=\"data row1 col0\" >1.609916</td>\n                        <td id=\"T_a6a52faa_1ea1_11eb_8a46_acde48001122row1_col1\" class=\"data row1 col1\" >-1.913429</td>\n                        <td id=\"T_a6a52faa_1ea1_11eb_8a46_acde48001122row1_col2\" class=\"data row1 col2\" >1.132821</td>\n                        <td id=\"T_a6a52faa_1ea1_11eb_8a46_acde48001122row1_col3\" class=\"data row1 col3\" >5</td>\n                        <td id=\"T_a6a52faa_1ea1_11eb_8a46_acde48001122row1_col4\" class=\"data row1 col4\" >1.000000</td>\n            </tr>\n            <tr>\n                        <th id=\"T_a6a52faa_1ea1_11eb_8a46_acde48001122level0_row2\" class=\"row_heading level0 row2\" >2013-01-03 00:00:00</th>\n                        <td id=\"T_a6a52faa_1ea1_11eb_8a46_acde48001122row2_col0\" class=\"data row2 col0\" >2.052436</td>\n                        <td id=\"T_a6a52faa_1ea1_11eb_8a46_acde48001122row2_col1\" class=\"data row2 col1\" >-0.202747</td>\n                        <td id=\"T_a6a52faa_1ea1_11eb_8a46_acde48001122row2_col2\" class=\"data row2 col2\" >-0.455613</td>\n                        <td id=\"T_a6a52faa_1ea1_11eb_8a46_acde48001122row2_col3\" class=\"data row2 col3\" >5</td>\n                        <td id=\"T_a6a52faa_1ea1_11eb_8a46_acde48001122row2_col4\" class=\"data row2 col4\" >2.000000</td>\n            </tr>\n            <tr>\n                        <th id=\"T_a6a52faa_1ea1_11eb_8a46_acde48001122level0_row3\" class=\"row_heading level0 row3\" >2013-01-04 00:00:00</th>\n                        <td id=\"T_a6a52faa_1ea1_11eb_8a46_acde48001122row3_col0\" class=\"data row3 col0\" >0.774299</td>\n                        <td id=\"T_a6a52faa_1ea1_11eb_8a46_acde48001122row3_col1\" class=\"data row3 col1\" >-0.277260</td>\n                        <td id=\"T_a6a52faa_1ea1_11eb_8a46_acde48001122row3_col2\" class=\"data row3 col2\" >0.589272</td>\n                        <td id=\"T_a6a52faa_1ea1_11eb_8a46_acde48001122row3_col3\" class=\"data row3 col3\" >5</td>\n                        <td id=\"T_a6a52faa_1ea1_11eb_8a46_acde48001122row3_col4\" class=\"data row3 col4\" >3.000000</td>\n            </tr>\n            <tr>\n                        <th id=\"T_a6a52faa_1ea1_11eb_8a46_acde48001122level0_row4\" class=\"row_heading level0 row4\" >2013-01-05 00:00:00</th>\n                        <td id=\"T_a6a52faa_1ea1_11eb_8a46_acde48001122row4_col0\" class=\"data row4 col0\" >0.766346</td>\n                        <td id=\"T_a6a52faa_1ea1_11eb_8a46_acde48001122row4_col1\" class=\"data row4 col1\" >0.784104</td>\n                        <td id=\"T_a6a52faa_1ea1_11eb_8a46_acde48001122row4_col2\" class=\"data row4 col2\" >-1.191702</td>\n                        <td id=\"T_a6a52faa_1ea1_11eb_8a46_acde48001122row4_col3\" class=\"data row4 col3\" >5</td>\n                        <td id=\"T_a6a52faa_1ea1_11eb_8a46_acde48001122row4_col4\" class=\"data row4 col4\" >4.000000</td>\n            </tr>\n            <tr>\n                        <th id=\"T_a6a52faa_1ea1_11eb_8a46_acde48001122level0_row5\" class=\"row_heading level0 row5\" >2013-01-06 00:00:00</th>\n                        <td id=\"T_a6a52faa_1ea1_11eb_8a46_acde48001122row5_col0\" class=\"data row5 col0\" >0.027132</td>\n                        <td id=\"T_a6a52faa_1ea1_11eb_8a46_acde48001122row5_col1\" class=\"data row5 col1\" >-0.464599</td>\n                        <td id=\"T_a6a52faa_1ea1_11eb_8a46_acde48001122row5_col2\" class=\"data row5 col2\" >-0.514315</td>\n                        <td id=\"T_a6a52faa_1ea1_11eb_8a46_acde48001122row5_col3\" class=\"data row5 col3\" >5</td>\n                        <td id=\"T_a6a52faa_1ea1_11eb_8a46_acde48001122row5_col4\" class=\"data row5 col4\" >5.000000</td>\n            </tr>\n    </tbody></table>"
     },
     "execution_count": 290,
     "metadata": {},
     "output_type": "execute_result"
    }
   ],
   "source": [
    "def highlight_max(s):\n",
    "    '''\n",
    "    highlight the maximum in a Series yellow.\n",
    "    '''\n",
    "    is_max = s == s.max()\n",
    "    # print(s)\n",
    "    # print(['background-color: yellow' if v else '' for v in is_max])\n",
    "    return ['background-color: yellow' if v else '' for v in is_max]\n",
    "\n",
    "df.style.apply(highlight_max)"
   ],
   "metadata": {
    "collapsed": false,
    "pycharm": {
     "name": "#%%\n"
    }
   }
  }
 ],
 "metadata": {
  "kernelspec": {
   "display_name": "Python 3",
   "language": "python",
   "name": "python3"
  },
  "language_info": {
   "codemirror_mode": {
    "name": "ipython",
    "version": 2
   },
   "file_extension": ".py",
   "mimetype": "text/x-python",
   "name": "python",
   "nbconvert_exporter": "python",
   "pygments_lexer": "ipython2",
   "version": "2.7.6"
  }
 },
 "nbformat": 4,
 "nbformat_minor": 0
}