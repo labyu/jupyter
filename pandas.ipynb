{
 "cells": [
  {
   "cell_type": "markdown",
   "metadata": {
    "collapsed": true,
    "pycharm": {
     "name": "#%% md\n"
    }
   },
   "source": [
    "# Pandas 정리\n",
    "Pandas의 공식 문서를 보고 정리합니다.\n",
    "\n",
    "- [유저 가이드](https://pandas.pydata.org/docs/user_guide/index.html)\n",
    "- [API 레퍼런스](https://pandas.pydata.org/docs/reference/index.html)\n",
    "\n"
   ]
  },
  {
   "cell_type": "markdown",
   "source": [
    "### 10 minutes  to pandas 따라하기\n"
   ],
   "metadata": {
    "collapsed": false,
    "pycharm": {
     "name": "#%% md\n"
    }
   }
  },
  {
   "cell_type": "code",
   "execution_count": 1,
   "outputs": [
    {
     "data": {
      "text/plain": "0    1.0\n1    3.0\n2    5.0\n3    NaN\n4    6.0\n5    8.0\ndtype: float64"
     },
     "execution_count": 1,
     "metadata": {},
     "output_type": "execute_result"
    }
   ],
   "source": [
    "import numpy as np\n",
    "import pandas as pd\n",
    "\n",
    "s = pd.Series([1, 3, 5, np.nan, 6, 8])\n",
    "s"
   ],
   "metadata": {
    "collapsed": false,
    "pycharm": {
     "name": "#%%\n"
    }
   }
  },
  {
   "cell_type": "code",
   "execution_count": 2,
   "outputs": [
    {
     "data": {
      "text/plain": "                   A         B         C         D\n2013-01-01  0.303555  0.991681  0.709899  0.080508\n2013-01-02  1.513509  0.723082  1.424542  1.339519\n2013-01-03 -0.289588  1.122373  0.477732  0.842053\n2013-01-04  1.744145 -0.140548  1.358933  0.335175\n2013-01-05  1.964311 -0.846902  1.517334  0.322594\n2013-01-06 -0.003133  0.452804  1.216031  1.181841",
      "text/html": "<div>\n<style scoped>\n    .dataframe tbody tr th:only-of-type {\n        vertical-align: middle;\n    }\n\n    .dataframe tbody tr th {\n        vertical-align: top;\n    }\n\n    .dataframe thead th {\n        text-align: right;\n    }\n</style>\n<table border=\"1\" class=\"dataframe\">\n  <thead>\n    <tr style=\"text-align: right;\">\n      <th></th>\n      <th>A</th>\n      <th>B</th>\n      <th>C</th>\n      <th>D</th>\n    </tr>\n  </thead>\n  <tbody>\n    <tr>\n      <th>2013-01-01</th>\n      <td>0.303555</td>\n      <td>0.991681</td>\n      <td>0.709899</td>\n      <td>0.080508</td>\n    </tr>\n    <tr>\n      <th>2013-01-02</th>\n      <td>1.513509</td>\n      <td>0.723082</td>\n      <td>1.424542</td>\n      <td>1.339519</td>\n    </tr>\n    <tr>\n      <th>2013-01-03</th>\n      <td>-0.289588</td>\n      <td>1.122373</td>\n      <td>0.477732</td>\n      <td>0.842053</td>\n    </tr>\n    <tr>\n      <th>2013-01-04</th>\n      <td>1.744145</td>\n      <td>-0.140548</td>\n      <td>1.358933</td>\n      <td>0.335175</td>\n    </tr>\n    <tr>\n      <th>2013-01-05</th>\n      <td>1.964311</td>\n      <td>-0.846902</td>\n      <td>1.517334</td>\n      <td>0.322594</td>\n    </tr>\n    <tr>\n      <th>2013-01-06</th>\n      <td>-0.003133</td>\n      <td>0.452804</td>\n      <td>1.216031</td>\n      <td>1.181841</td>\n    </tr>\n  </tbody>\n</table>\n</div>"
     },
     "execution_count": 2,
     "metadata": {},
     "output_type": "execute_result"
    }
   ],
   "source": [
    "dates = pd.date_range('20130101', periods=6)\n",
    "dates\n",
    "\n",
    "df = pd.DataFrame(np.random.randn(6, 4), index=dates, columns=list('ABCD'))\n",
    "df\n"
   ],
   "metadata": {
    "collapsed": false,
    "pycharm": {
     "name": "#%%\n"
    }
   }
  }
 ],
 "metadata": {
  "kernelspec": {
   "display_name": "Python 3",
   "language": "python",
   "name": "python3"
  },
  "language_info": {
   "codemirror_mode": {
    "name": "ipython",
    "version": 2
   },
   "file_extension": ".py",
   "mimetype": "text/x-python",
   "name": "python",
   "nbconvert_exporter": "python",
   "pygments_lexer": "ipython2",
   "version": "2.7.6"
  }
 },
 "nbformat": 4,
 "nbformat_minor": 0
}