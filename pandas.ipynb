{
 "cells": [
  {
   "cell_type": "markdown",
   "metadata": {
    "collapsed": true,
    "pycharm": {
     "name": "#%% md\n"
    }
   },
   "source": [
    "# Pandas 정리\n",
    "Pandas의 공식 문서를 보고 정리합니다.\n",
    "\n",
    "- [유저 가이드](https://pandas.pydata.org/docs/user_guide/index.html)\n",
    "- [API 레퍼런스](https://pandas.pydata.org/docs/reference/index.html)\n",
    "\n"
   ]
  },
  {
   "cell_type": "markdown",
   "source": [
    "### 10 minutes  to pandas 따라하기\n"
   ],
   "metadata": {
    "collapsed": false,
    "pycharm": {
     "name": "#%% md\n"
    }
   }
  },
  {
   "cell_type": "code",
   "execution_count": 1,
   "outputs": [
    {
     "data": {
      "text/plain": "0    1.0\n1    3.0\n2    5.0\n3    NaN\n4    6.0\n5    8.0\ndtype: float64"
     },
     "execution_count": 1,
     "metadata": {},
     "output_type": "execute_result"
    }
   ],
   "source": [
    "import numpy as np\n",
    "import pandas as pd\n",
    "\n",
    "# 넘파이와 시리즈 호환\n",
    "s = pd.Series([1, 3, 5, np.nan, 6, 8])\n",
    "s"
   ],
   "metadata": {
    "collapsed": false,
    "pycharm": {
     "name": "#%%\n"
    }
   }
  },
  {
   "cell_type": "code",
   "execution_count": 2,
   "outputs": [
    {
     "data": {
      "text/plain": "                   A         B         C         D\n2013-01-01  0.336836  0.517867 -2.203390 -0.666665\n2013-01-02  0.867998 -0.624793 -0.620770  0.015906\n2013-01-03 -0.213117 -1.162015  0.494309  1.797408\n2013-01-04 -0.752935  0.359355 -1.930304 -1.062063\n2013-01-05  2.090724  0.178591 -0.164987 -0.113822\n2013-01-06 -0.317792  0.041199  1.124161 -0.091447",
      "text/html": "<div>\n<style scoped>\n    .dataframe tbody tr th:only-of-type {\n        vertical-align: middle;\n    }\n\n    .dataframe tbody tr th {\n        vertical-align: top;\n    }\n\n    .dataframe thead th {\n        text-align: right;\n    }\n</style>\n<table border=\"1\" class=\"dataframe\">\n  <thead>\n    <tr style=\"text-align: right;\">\n      <th></th>\n      <th>A</th>\n      <th>B</th>\n      <th>C</th>\n      <th>D</th>\n    </tr>\n  </thead>\n  <tbody>\n    <tr>\n      <th>2013-01-01</th>\n      <td>0.336836</td>\n      <td>0.517867</td>\n      <td>-2.203390</td>\n      <td>-0.666665</td>\n    </tr>\n    <tr>\n      <th>2013-01-02</th>\n      <td>0.867998</td>\n      <td>-0.624793</td>\n      <td>-0.620770</td>\n      <td>0.015906</td>\n    </tr>\n    <tr>\n      <th>2013-01-03</th>\n      <td>-0.213117</td>\n      <td>-1.162015</td>\n      <td>0.494309</td>\n      <td>1.797408</td>\n    </tr>\n    <tr>\n      <th>2013-01-04</th>\n      <td>-0.752935</td>\n      <td>0.359355</td>\n      <td>-1.930304</td>\n      <td>-1.062063</td>\n    </tr>\n    <tr>\n      <th>2013-01-05</th>\n      <td>2.090724</td>\n      <td>0.178591</td>\n      <td>-0.164987</td>\n      <td>-0.113822</td>\n    </tr>\n    <tr>\n      <th>2013-01-06</th>\n      <td>-0.317792</td>\n      <td>0.041199</td>\n      <td>1.124161</td>\n      <td>-0.091447</td>\n    </tr>\n  </tbody>\n</table>\n</div>"
     },
     "execution_count": 2,
     "metadata": {},
     "output_type": "execute_result"
    }
   ],
   "source": [
    "dates = pd.date_range('20130101', periods=6)\n",
    "dates\n",
    "\n",
    "# 넘파이와 Dataframe 호환\n",
    "df = pd.DataFrame(np.random.randn(6, 4), index=dates, columns=list('ABCD'))\n",
    "df\n"
   ],
   "metadata": {
    "collapsed": false,
    "pycharm": {
     "name": "#%%\n"
    }
   }
  },
  {
   "cell_type": "code",
   "execution_count": 3,
   "outputs": [
    {
     "data": {
      "text/plain": "                   A         B         C         D\n2013-01-01  0.065328 -2.524831  0.808774  0.980046\n2013-01-02  0.271589 -1.004031 -0.938170  1.916114\n2013-01-03 -0.705430 -0.691201  0.570060 -0.101018\n2013-01-04 -1.333940  1.892076  0.571904  1.772800\n2013-01-05  2.676493 -0.603042 -0.762182  0.462667\n2013-01-06  1.303052  0.764967  0.449316 -0.587720",
      "text/html": "<div>\n<style scoped>\n    .dataframe tbody tr th:only-of-type {\n        vertical-align: middle;\n    }\n\n    .dataframe tbody tr th {\n        vertical-align: top;\n    }\n\n    .dataframe thead th {\n        text-align: right;\n    }\n</style>\n<table border=\"1\" class=\"dataframe\">\n  <thead>\n    <tr style=\"text-align: right;\">\n      <th></th>\n      <th>A</th>\n      <th>B</th>\n      <th>C</th>\n      <th>D</th>\n    </tr>\n  </thead>\n  <tbody>\n    <tr>\n      <th>2013-01-01</th>\n      <td>0.065328</td>\n      <td>-2.524831</td>\n      <td>0.808774</td>\n      <td>0.980046</td>\n    </tr>\n    <tr>\n      <th>2013-01-02</th>\n      <td>0.271589</td>\n      <td>-1.004031</td>\n      <td>-0.938170</td>\n      <td>1.916114</td>\n    </tr>\n    <tr>\n      <th>2013-01-03</th>\n      <td>-0.705430</td>\n      <td>-0.691201</td>\n      <td>0.570060</td>\n      <td>-0.101018</td>\n    </tr>\n    <tr>\n      <th>2013-01-04</th>\n      <td>-1.333940</td>\n      <td>1.892076</td>\n      <td>0.571904</td>\n      <td>1.772800</td>\n    </tr>\n    <tr>\n      <th>2013-01-05</th>\n      <td>2.676493</td>\n      <td>-0.603042</td>\n      <td>-0.762182</td>\n      <td>0.462667</td>\n    </tr>\n    <tr>\n      <th>2013-01-06</th>\n      <td>1.303052</td>\n      <td>0.764967</td>\n      <td>0.449316</td>\n      <td>-0.587720</td>\n    </tr>\n  </tbody>\n</table>\n</div>"
     },
     "execution_count": 3,
     "metadata": {},
     "output_type": "execute_result"
    }
   ],
   "source": [
    "dates = pd.date_range('20130101', periods=6)\n",
    "dates\n",
    "\n",
    "df = pd.DataFrame(np.random.randn(6, 4), index=dates, columns=list('ABCD'))\n",
    "df\n"
   ],
   "metadata": {
    "collapsed": false,
    "pycharm": {
     "name": "#%%\n"
    }
   }
  },
  {
   "cell_type": "code",
   "execution_count": 4,
   "outputs": [
    {
     "data": {
      "text/plain": "     A          B    C  D      E    F\n0  1.0 2013-01-02  1.0  3   test  foo\n1  1.0 2013-01-02  1.0  3  train  foo\n2  1.0 2013-01-02  1.0  3   test  foo\n3  1.0 2013-01-02  1.0  3  train  foo",
      "text/html": "<div>\n<style scoped>\n    .dataframe tbody tr th:only-of-type {\n        vertical-align: middle;\n    }\n\n    .dataframe tbody tr th {\n        vertical-align: top;\n    }\n\n    .dataframe thead th {\n        text-align: right;\n    }\n</style>\n<table border=\"1\" class=\"dataframe\">\n  <thead>\n    <tr style=\"text-align: right;\">\n      <th></th>\n      <th>A</th>\n      <th>B</th>\n      <th>C</th>\n      <th>D</th>\n      <th>E</th>\n      <th>F</th>\n    </tr>\n  </thead>\n  <tbody>\n    <tr>\n      <th>0</th>\n      <td>1.0</td>\n      <td>2013-01-02</td>\n      <td>1.0</td>\n      <td>3</td>\n      <td>test</td>\n      <td>foo</td>\n    </tr>\n    <tr>\n      <th>1</th>\n      <td>1.0</td>\n      <td>2013-01-02</td>\n      <td>1.0</td>\n      <td>3</td>\n      <td>train</td>\n      <td>foo</td>\n    </tr>\n    <tr>\n      <th>2</th>\n      <td>1.0</td>\n      <td>2013-01-02</td>\n      <td>1.0</td>\n      <td>3</td>\n      <td>test</td>\n      <td>foo</td>\n    </tr>\n    <tr>\n      <th>3</th>\n      <td>1.0</td>\n      <td>2013-01-02</td>\n      <td>1.0</td>\n      <td>3</td>\n      <td>train</td>\n      <td>foo</td>\n    </tr>\n  </tbody>\n</table>\n</div>"
     },
     "execution_count": 4,
     "metadata": {},
     "output_type": "execute_result"
    }
   ],
   "source": [
    "# 쉽게 딕셔너리에서 컨버트할 수 있음\n",
    "df2 = pd.DataFrame({'A': 1.,\n",
    "'B': pd.Timestamp('20130102'),\n",
    "'C': pd.Series(1, index=list(range(4)), dtype='float32'),\n",
    "'D': np.array([3] * 4, dtype='int32'),\n",
    "'E': pd.Categorical([\"test\", \"train\", \"test\", \"train\"]),\n",
    "'F': 'foo'})\n",
    "\n",
    "df2"
   ],
   "metadata": {
    "collapsed": false,
    "pycharm": {
     "name": "#%%\n"
    }
   }
  },
  {
   "cell_type": "code",
   "execution_count": 5,
   "outputs": [
    {
     "data": {
      "text/plain": "A           float64\nB    datetime64[ns]\nC           float32\nD             int32\nE          category\nF            object\ndtype: object"
     },
     "execution_count": 5,
     "metadata": {},
     "output_type": "execute_result"
    }
   ],
   "source": [
    "df2.dtypes"
   ],
   "metadata": {
    "collapsed": false,
    "pycharm": {
     "name": "#%%\n"
    }
   }
  },
  {
   "cell_type": "code",
   "execution_count": 6,
   "outputs": [
    {
     "data": {
      "text/plain": "                   A         B         C         D\n2013-01-01  0.065328 -2.524831  0.808774  0.980046\n2013-01-02  0.271589 -1.004031 -0.938170  1.916114",
      "text/html": "<div>\n<style scoped>\n    .dataframe tbody tr th:only-of-type {\n        vertical-align: middle;\n    }\n\n    .dataframe tbody tr th {\n        vertical-align: top;\n    }\n\n    .dataframe thead th {\n        text-align: right;\n    }\n</style>\n<table border=\"1\" class=\"dataframe\">\n  <thead>\n    <tr style=\"text-align: right;\">\n      <th></th>\n      <th>A</th>\n      <th>B</th>\n      <th>C</th>\n      <th>D</th>\n    </tr>\n  </thead>\n  <tbody>\n    <tr>\n      <th>2013-01-01</th>\n      <td>0.065328</td>\n      <td>-2.524831</td>\n      <td>0.808774</td>\n      <td>0.980046</td>\n    </tr>\n    <tr>\n      <th>2013-01-02</th>\n      <td>0.271589</td>\n      <td>-1.004031</td>\n      <td>-0.938170</td>\n      <td>1.916114</td>\n    </tr>\n  </tbody>\n</table>\n</div>"
     },
     "execution_count": 6,
     "metadata": {},
     "output_type": "execute_result"
    }
   ],
   "source": [
    "# 위에서부터 몇개\n",
    "df.head(2)"
   ],
   "metadata": {
    "collapsed": false,
    "pycharm": {
     "name": "#%%\n"
    }
   }
  },
  {
   "cell_type": "code",
   "execution_count": 7,
   "outputs": [
    {
     "data": {
      "text/plain": "                   A         B         C         D\n2013-01-05  2.676493 -0.603042 -0.762182  0.462667\n2013-01-06  1.303052  0.764967  0.449316 -0.587720",
      "text/html": "<div>\n<style scoped>\n    .dataframe tbody tr th:only-of-type {\n        vertical-align: middle;\n    }\n\n    .dataframe tbody tr th {\n        vertical-align: top;\n    }\n\n    .dataframe thead th {\n        text-align: right;\n    }\n</style>\n<table border=\"1\" class=\"dataframe\">\n  <thead>\n    <tr style=\"text-align: right;\">\n      <th></th>\n      <th>A</th>\n      <th>B</th>\n      <th>C</th>\n      <th>D</th>\n    </tr>\n  </thead>\n  <tbody>\n    <tr>\n      <th>2013-01-05</th>\n      <td>2.676493</td>\n      <td>-0.603042</td>\n      <td>-0.762182</td>\n      <td>0.462667</td>\n    </tr>\n    <tr>\n      <th>2013-01-06</th>\n      <td>1.303052</td>\n      <td>0.764967</td>\n      <td>0.449316</td>\n      <td>-0.587720</td>\n    </tr>\n  </tbody>\n</table>\n</div>"
     },
     "execution_count": 7,
     "metadata": {},
     "output_type": "execute_result"
    }
   ],
   "source": [
    "# 아래서부터 몇개\n",
    "df.tail(2)"
   ],
   "metadata": {
    "collapsed": false,
    "pycharm": {
     "name": "#%%\n"
    }
   }
  },
  {
   "cell_type": "code",
   "execution_count": 8,
   "outputs": [
    {
     "data": {
      "text/plain": "DatetimeIndex(['2013-01-01', '2013-01-02', '2013-01-03', '2013-01-04',\n               '2013-01-05', '2013-01-06'],\n              dtype='datetime64[ns]', freq='D')"
     },
     "execution_count": 8,
     "metadata": {},
     "output_type": "execute_result"
    }
   ],
   "source": [
    "# 인덱스를 출력해줌\n",
    "df.index"
   ],
   "metadata": {
    "collapsed": false,
    "pycharm": {
     "name": "#%%\n"
    }
   }
  },
  {
   "cell_type": "code",
   "execution_count": 9,
   "outputs": [
    {
     "data": {
      "text/plain": "Index(['A', 'B', 'C', 'D'], dtype='object')"
     },
     "execution_count": 9,
     "metadata": {},
     "output_type": "execute_result"
    }
   ],
   "source": [
    "df.columns"
   ],
   "metadata": {
    "collapsed": false,
    "pycharm": {
     "name": "#%%\n"
    }
   }
  },
  {
   "cell_type": "code",
   "execution_count": 10,
   "outputs": [
    {
     "data": {
      "text/plain": "array([[1.0, Timestamp('2013-01-02 00:00:00'), 1.0, 3, 'test', 'foo'],\n       [1.0, Timestamp('2013-01-02 00:00:00'), 1.0, 3, 'train', 'foo'],\n       [1.0, Timestamp('2013-01-02 00:00:00'), 1.0, 3, 'test', 'foo'],\n       [1.0, Timestamp('2013-01-02 00:00:00'), 1.0, 3, 'train', 'foo']],\n      dtype=object)"
     },
     "execution_count": 10,
     "metadata": {},
     "output_type": "execute_result"
    }
   ],
   "source": [
    "# NumPy Array로 변경해준다\n",
    "df2.to_numpy()"
   ],
   "metadata": {
    "collapsed": false,
    "pycharm": {
     "name": "#%%\n"
    }
   }
  },
  {
   "cell_type": "code",
   "execution_count": 11,
   "outputs": [
    {
     "data": {
      "text/plain": "              A         B         C         D\ncount  6.000000  6.000000  6.000000  6.000000\nmean   0.379515 -0.361010  0.116617  0.740481\nstd    1.438918  1.523642  0.759938  1.005446\nmin   -1.333940 -2.524831 -0.938170 -0.587720\n25%   -0.512741 -0.925824 -0.459308  0.039903\n50%    0.168458 -0.647122  0.509688  0.721356\n75%    1.045186  0.422965  0.571443  1.574612\nmax    2.676493  1.892076  0.808774  1.916114",
      "text/html": "<div>\n<style scoped>\n    .dataframe tbody tr th:only-of-type {\n        vertical-align: middle;\n    }\n\n    .dataframe tbody tr th {\n        vertical-align: top;\n    }\n\n    .dataframe thead th {\n        text-align: right;\n    }\n</style>\n<table border=\"1\" class=\"dataframe\">\n  <thead>\n    <tr style=\"text-align: right;\">\n      <th></th>\n      <th>A</th>\n      <th>B</th>\n      <th>C</th>\n      <th>D</th>\n    </tr>\n  </thead>\n  <tbody>\n    <tr>\n      <th>count</th>\n      <td>6.000000</td>\n      <td>6.000000</td>\n      <td>6.000000</td>\n      <td>6.000000</td>\n    </tr>\n    <tr>\n      <th>mean</th>\n      <td>0.379515</td>\n      <td>-0.361010</td>\n      <td>0.116617</td>\n      <td>0.740481</td>\n    </tr>\n    <tr>\n      <th>std</th>\n      <td>1.438918</td>\n      <td>1.523642</td>\n      <td>0.759938</td>\n      <td>1.005446</td>\n    </tr>\n    <tr>\n      <th>min</th>\n      <td>-1.333940</td>\n      <td>-2.524831</td>\n      <td>-0.938170</td>\n      <td>-0.587720</td>\n    </tr>\n    <tr>\n      <th>25%</th>\n      <td>-0.512741</td>\n      <td>-0.925824</td>\n      <td>-0.459308</td>\n      <td>0.039903</td>\n    </tr>\n    <tr>\n      <th>50%</th>\n      <td>0.168458</td>\n      <td>-0.647122</td>\n      <td>0.509688</td>\n      <td>0.721356</td>\n    </tr>\n    <tr>\n      <th>75%</th>\n      <td>1.045186</td>\n      <td>0.422965</td>\n      <td>0.571443</td>\n      <td>1.574612</td>\n    </tr>\n    <tr>\n      <th>max</th>\n      <td>2.676493</td>\n      <td>1.892076</td>\n      <td>0.808774</td>\n      <td>1.916114</td>\n    </tr>\n  </tbody>\n</table>\n</div>"
     },
     "execution_count": 11,
     "metadata": {},
     "output_type": "execute_result"
    }
   ],
   "source": [
    "# 빠르게 Dataframe의 statistics를 보여준다\n",
    "df.describe()"
   ],
   "metadata": {
    "collapsed": false,
    "pycharm": {
     "name": "#%%\n"
    }
   }
  },
  {
   "cell_type": "code",
   "execution_count": 12,
   "outputs": [
    {
     "data": {
      "text/plain": "   2013-01-01  2013-01-02  2013-01-03  2013-01-04  2013-01-05  2013-01-06\nA    0.065328    0.271589   -0.705430   -1.333940    2.676493    1.303052\nB   -2.524831   -1.004031   -0.691201    1.892076   -0.603042    0.764967\nC    0.808774   -0.938170    0.570060    0.571904   -0.762182    0.449316\nD    0.980046    1.916114   -0.101018    1.772800    0.462667   -0.587720",
      "text/html": "<div>\n<style scoped>\n    .dataframe tbody tr th:only-of-type {\n        vertical-align: middle;\n    }\n\n    .dataframe tbody tr th {\n        vertical-align: top;\n    }\n\n    .dataframe thead th {\n        text-align: right;\n    }\n</style>\n<table border=\"1\" class=\"dataframe\">\n  <thead>\n    <tr style=\"text-align: right;\">\n      <th></th>\n      <th>2013-01-01</th>\n      <th>2013-01-02</th>\n      <th>2013-01-03</th>\n      <th>2013-01-04</th>\n      <th>2013-01-05</th>\n      <th>2013-01-06</th>\n    </tr>\n  </thead>\n  <tbody>\n    <tr>\n      <th>A</th>\n      <td>0.065328</td>\n      <td>0.271589</td>\n      <td>-0.705430</td>\n      <td>-1.333940</td>\n      <td>2.676493</td>\n      <td>1.303052</td>\n    </tr>\n    <tr>\n      <th>B</th>\n      <td>-2.524831</td>\n      <td>-1.004031</td>\n      <td>-0.691201</td>\n      <td>1.892076</td>\n      <td>-0.603042</td>\n      <td>0.764967</td>\n    </tr>\n    <tr>\n      <th>C</th>\n      <td>0.808774</td>\n      <td>-0.938170</td>\n      <td>0.570060</td>\n      <td>0.571904</td>\n      <td>-0.762182</td>\n      <td>0.449316</td>\n    </tr>\n    <tr>\n      <th>D</th>\n      <td>0.980046</td>\n      <td>1.916114</td>\n      <td>-0.101018</td>\n      <td>1.772800</td>\n      <td>0.462667</td>\n      <td>-0.587720</td>\n    </tr>\n  </tbody>\n</table>\n</div>"
     },
     "execution_count": 12,
     "metadata": {},
     "output_type": "execute_result"
    }
   ],
   "source": [
    "# 전치행렬 (넘파이와 같음)\n",
    "df.T"
   ],
   "metadata": {
    "collapsed": false,
    "pycharm": {
     "name": "#%%\n"
    }
   }
  },
  {
   "cell_type": "code",
   "execution_count": 13,
   "outputs": [
    {
     "data": {
      "text/plain": "                   D         C         B         A\n2013-01-01  0.980046  0.808774 -2.524831  0.065328\n2013-01-02  1.916114 -0.938170 -1.004031  0.271589\n2013-01-03 -0.101018  0.570060 -0.691201 -0.705430\n2013-01-04  1.772800  0.571904  1.892076 -1.333940\n2013-01-05  0.462667 -0.762182 -0.603042  2.676493\n2013-01-06 -0.587720  0.449316  0.764967  1.303052",
      "text/html": "<div>\n<style scoped>\n    .dataframe tbody tr th:only-of-type {\n        vertical-align: middle;\n    }\n\n    .dataframe tbody tr th {\n        vertical-align: top;\n    }\n\n    .dataframe thead th {\n        text-align: right;\n    }\n</style>\n<table border=\"1\" class=\"dataframe\">\n  <thead>\n    <tr style=\"text-align: right;\">\n      <th></th>\n      <th>D</th>\n      <th>C</th>\n      <th>B</th>\n      <th>A</th>\n    </tr>\n  </thead>\n  <tbody>\n    <tr>\n      <th>2013-01-01</th>\n      <td>0.980046</td>\n      <td>0.808774</td>\n      <td>-2.524831</td>\n      <td>0.065328</td>\n    </tr>\n    <tr>\n      <th>2013-01-02</th>\n      <td>1.916114</td>\n      <td>-0.938170</td>\n      <td>-1.004031</td>\n      <td>0.271589</td>\n    </tr>\n    <tr>\n      <th>2013-01-03</th>\n      <td>-0.101018</td>\n      <td>0.570060</td>\n      <td>-0.691201</td>\n      <td>-0.705430</td>\n    </tr>\n    <tr>\n      <th>2013-01-04</th>\n      <td>1.772800</td>\n      <td>0.571904</td>\n      <td>1.892076</td>\n      <td>-1.333940</td>\n    </tr>\n    <tr>\n      <th>2013-01-05</th>\n      <td>0.462667</td>\n      <td>-0.762182</td>\n      <td>-0.603042</td>\n      <td>2.676493</td>\n    </tr>\n    <tr>\n      <th>2013-01-06</th>\n      <td>-0.587720</td>\n      <td>0.449316</td>\n      <td>0.764967</td>\n      <td>1.303052</td>\n    </tr>\n  </tbody>\n</table>\n</div>"
     },
     "execution_count": 13,
     "metadata": {},
     "output_type": "execute_result"
    }
   ],
   "source": [
    "df.sort_index(axis=1, ascending=False)"
   ],
   "metadata": {
    "collapsed": false,
    "pycharm": {
     "name": "#%%\n"
    }
   }
  },
  {
   "cell_type": "code",
   "execution_count": 14,
   "outputs": [
    {
     "data": {
      "text/plain": "                   A         B         C         D\n2013-01-01  0.065328 -2.524831  0.808774  0.980046\n2013-01-02  0.271589 -1.004031 -0.938170  1.916114\n2013-01-03 -0.705430 -0.691201  0.570060 -0.101018\n2013-01-05  2.676493 -0.603042 -0.762182  0.462667\n2013-01-06  1.303052  0.764967  0.449316 -0.587720\n2013-01-04 -1.333940  1.892076  0.571904  1.772800",
      "text/html": "<div>\n<style scoped>\n    .dataframe tbody tr th:only-of-type {\n        vertical-align: middle;\n    }\n\n    .dataframe tbody tr th {\n        vertical-align: top;\n    }\n\n    .dataframe thead th {\n        text-align: right;\n    }\n</style>\n<table border=\"1\" class=\"dataframe\">\n  <thead>\n    <tr style=\"text-align: right;\">\n      <th></th>\n      <th>A</th>\n      <th>B</th>\n      <th>C</th>\n      <th>D</th>\n    </tr>\n  </thead>\n  <tbody>\n    <tr>\n      <th>2013-01-01</th>\n      <td>0.065328</td>\n      <td>-2.524831</td>\n      <td>0.808774</td>\n      <td>0.980046</td>\n    </tr>\n    <tr>\n      <th>2013-01-02</th>\n      <td>0.271589</td>\n      <td>-1.004031</td>\n      <td>-0.938170</td>\n      <td>1.916114</td>\n    </tr>\n    <tr>\n      <th>2013-01-03</th>\n      <td>-0.705430</td>\n      <td>-0.691201</td>\n      <td>0.570060</td>\n      <td>-0.101018</td>\n    </tr>\n    <tr>\n      <th>2013-01-05</th>\n      <td>2.676493</td>\n      <td>-0.603042</td>\n      <td>-0.762182</td>\n      <td>0.462667</td>\n    </tr>\n    <tr>\n      <th>2013-01-06</th>\n      <td>1.303052</td>\n      <td>0.764967</td>\n      <td>0.449316</td>\n      <td>-0.587720</td>\n    </tr>\n    <tr>\n      <th>2013-01-04</th>\n      <td>-1.333940</td>\n      <td>1.892076</td>\n      <td>0.571904</td>\n      <td>1.772800</td>\n    </tr>\n  </tbody>\n</table>\n</div>"
     },
     "execution_count": 14,
     "metadata": {},
     "output_type": "execute_result"
    }
   ],
   "source": [
    "df.sort_values(by='B')"
   ],
   "metadata": {
    "collapsed": false,
    "pycharm": {
     "name": "#%%\n"
    }
   }
  },
  {
   "cell_type": "markdown",
   "source": [
    "Selection"
   ],
   "metadata": {
    "collapsed": false,
    "pycharm": {
     "name": "#%% md\n"
    }
   }
  },
  {
   "cell_type": "code",
   "execution_count": 15,
   "outputs": [
    {
     "data": {
      "text/plain": "2013-01-01    0.065328\n2013-01-02    0.271589\n2013-01-03   -0.705430\n2013-01-04   -1.333940\n2013-01-05    2.676493\n2013-01-06    1.303052\nFreq: D, Name: A, dtype: float64"
     },
     "execution_count": 15,
     "metadata": {},
     "output_type": "execute_result"
    }
   ],
   "source": [
    "df['A']"
   ],
   "metadata": {
    "collapsed": false,
    "pycharm": {
     "name": "#%%\n"
    }
   }
  },
  {
   "cell_type": "code",
   "execution_count": 16,
   "outputs": [
    {
     "data": {
      "text/plain": "                   A         B         C         D\n2013-01-01  0.065328 -2.524831  0.808774  0.980046\n2013-01-02  0.271589 -1.004031 -0.938170  1.916114\n2013-01-03 -0.705430 -0.691201  0.570060 -0.101018",
      "text/html": "<div>\n<style scoped>\n    .dataframe tbody tr th:only-of-type {\n        vertical-align: middle;\n    }\n\n    .dataframe tbody tr th {\n        vertical-align: top;\n    }\n\n    .dataframe thead th {\n        text-align: right;\n    }\n</style>\n<table border=\"1\" class=\"dataframe\">\n  <thead>\n    <tr style=\"text-align: right;\">\n      <th></th>\n      <th>A</th>\n      <th>B</th>\n      <th>C</th>\n      <th>D</th>\n    </tr>\n  </thead>\n  <tbody>\n    <tr>\n      <th>2013-01-01</th>\n      <td>0.065328</td>\n      <td>-2.524831</td>\n      <td>0.808774</td>\n      <td>0.980046</td>\n    </tr>\n    <tr>\n      <th>2013-01-02</th>\n      <td>0.271589</td>\n      <td>-1.004031</td>\n      <td>-0.938170</td>\n      <td>1.916114</td>\n    </tr>\n    <tr>\n      <th>2013-01-03</th>\n      <td>-0.705430</td>\n      <td>-0.691201</td>\n      <td>0.570060</td>\n      <td>-0.101018</td>\n    </tr>\n  </tbody>\n</table>\n</div>"
     },
     "execution_count": 16,
     "metadata": {},
     "output_type": "execute_result"
    }
   ],
   "source": [
    "df[0:3]"
   ],
   "metadata": {
    "collapsed": false,
    "pycharm": {
     "name": "#%%\n"
    }
   }
  },
  {
   "cell_type": "code",
   "execution_count": 17,
   "outputs": [
    {
     "data": {
      "text/plain": "                   A         B         C         D\n2013-01-02  0.271589 -1.004031 -0.938170  1.916114\n2013-01-03 -0.705430 -0.691201  0.570060 -0.101018\n2013-01-04 -1.333940  1.892076  0.571904  1.772800",
      "text/html": "<div>\n<style scoped>\n    .dataframe tbody tr th:only-of-type {\n        vertical-align: middle;\n    }\n\n    .dataframe tbody tr th {\n        vertical-align: top;\n    }\n\n    .dataframe thead th {\n        text-align: right;\n    }\n</style>\n<table border=\"1\" class=\"dataframe\">\n  <thead>\n    <tr style=\"text-align: right;\">\n      <th></th>\n      <th>A</th>\n      <th>B</th>\n      <th>C</th>\n      <th>D</th>\n    </tr>\n  </thead>\n  <tbody>\n    <tr>\n      <th>2013-01-02</th>\n      <td>0.271589</td>\n      <td>-1.004031</td>\n      <td>-0.938170</td>\n      <td>1.916114</td>\n    </tr>\n    <tr>\n      <th>2013-01-03</th>\n      <td>-0.705430</td>\n      <td>-0.691201</td>\n      <td>0.570060</td>\n      <td>-0.101018</td>\n    </tr>\n    <tr>\n      <th>2013-01-04</th>\n      <td>-1.333940</td>\n      <td>1.892076</td>\n      <td>0.571904</td>\n      <td>1.772800</td>\n    </tr>\n  </tbody>\n</table>\n</div>"
     },
     "execution_count": 17,
     "metadata": {},
     "output_type": "execute_result"
    }
   ],
   "source": [
    "df['20130102':'20130104']"
   ],
   "metadata": {
    "collapsed": false,
    "pycharm": {
     "name": "#%%\n"
    }
   }
  },
  {
   "cell_type": "code",
   "execution_count": 18,
   "outputs": [
    {
     "data": {
      "text/plain": "A    0.065328\nB   -2.524831\nC    0.808774\nD    0.980046\nName: 2013-01-01 00:00:00, dtype: float64"
     },
     "execution_count": 18,
     "metadata": {},
     "output_type": "execute_result"
    }
   ],
   "source": [
    "# 아래에 loc에 대한 설명이 나와있다. 필요한 데이터만 추출할 때 유용하게 사용할 수 있을 듯 하다\n",
    "# https://m.blog.naver.com/wideeyed/221964700554\n",
    "# 아래는 시리즈\n",
    "df.loc[dates[0]]"
   ],
   "metadata": {
    "collapsed": false,
    "pycharm": {
     "name": "#%%\n"
    }
   }
  },
  {
   "cell_type": "code",
   "execution_count": 19,
   "outputs": [
    {
     "data": {
      "text/plain": "                   A         B         C         D\n2013-01-01  0.065328 -2.524831  0.808774  0.980046",
      "text/html": "<div>\n<style scoped>\n    .dataframe tbody tr th:only-of-type {\n        vertical-align: middle;\n    }\n\n    .dataframe tbody tr th {\n        vertical-align: top;\n    }\n\n    .dataframe thead th {\n        text-align: right;\n    }\n</style>\n<table border=\"1\" class=\"dataframe\">\n  <thead>\n    <tr style=\"text-align: right;\">\n      <th></th>\n      <th>A</th>\n      <th>B</th>\n      <th>C</th>\n      <th>D</th>\n    </tr>\n  </thead>\n  <tbody>\n    <tr>\n      <th>2013-01-01</th>\n      <td>0.065328</td>\n      <td>-2.524831</td>\n      <td>0.808774</td>\n      <td>0.980046</td>\n    </tr>\n  </tbody>\n</table>\n</div>"
     },
     "execution_count": 19,
     "metadata": {},
     "output_type": "execute_result"
    }
   ],
   "source": [
    "# 아래는 데이터프레임\n",
    "df.loc[[dates[0]]]"
   ],
   "metadata": {
    "collapsed": false,
    "pycharm": {
     "name": "#%%\n"
    }
   }
  },
  {
   "cell_type": "code",
   "execution_count": 20,
   "outputs": [
    {
     "data": {
      "text/plain": "                   A         B\n2013-01-01  0.065328 -2.524831\n2013-01-02  0.271589 -1.004031\n2013-01-03 -0.705430 -0.691201\n2013-01-04 -1.333940  1.892076\n2013-01-05  2.676493 -0.603042\n2013-01-06  1.303052  0.764967",
      "text/html": "<div>\n<style scoped>\n    .dataframe tbody tr th:only-of-type {\n        vertical-align: middle;\n    }\n\n    .dataframe tbody tr th {\n        vertical-align: top;\n    }\n\n    .dataframe thead th {\n        text-align: right;\n    }\n</style>\n<table border=\"1\" class=\"dataframe\">\n  <thead>\n    <tr style=\"text-align: right;\">\n      <th></th>\n      <th>A</th>\n      <th>B</th>\n    </tr>\n  </thead>\n  <tbody>\n    <tr>\n      <th>2013-01-01</th>\n      <td>0.065328</td>\n      <td>-2.524831</td>\n    </tr>\n    <tr>\n      <th>2013-01-02</th>\n      <td>0.271589</td>\n      <td>-1.004031</td>\n    </tr>\n    <tr>\n      <th>2013-01-03</th>\n      <td>-0.705430</td>\n      <td>-0.691201</td>\n    </tr>\n    <tr>\n      <th>2013-01-04</th>\n      <td>-1.333940</td>\n      <td>1.892076</td>\n    </tr>\n    <tr>\n      <th>2013-01-05</th>\n      <td>2.676493</td>\n      <td>-0.603042</td>\n    </tr>\n    <tr>\n      <th>2013-01-06</th>\n      <td>1.303052</td>\n      <td>0.764967</td>\n    </tr>\n  </tbody>\n</table>\n</div>"
     },
     "execution_count": 20,
     "metadata": {},
     "output_type": "execute_result"
    }
   ],
   "source": [
    "df.loc[:, ['A', 'B']]"
   ],
   "metadata": {
    "collapsed": false,
    "pycharm": {
     "name": "#%%\n"
    }
   }
  },
  {
   "cell_type": "code",
   "execution_count": 21,
   "outputs": [
    {
     "data": {
      "text/plain": "                   A         B\n2013-01-02  0.271589 -1.004031\n2013-01-03 -0.705430 -0.691201\n2013-01-04 -1.333940  1.892076",
      "text/html": "<div>\n<style scoped>\n    .dataframe tbody tr th:only-of-type {\n        vertical-align: middle;\n    }\n\n    .dataframe tbody tr th {\n        vertical-align: top;\n    }\n\n    .dataframe thead th {\n        text-align: right;\n    }\n</style>\n<table border=\"1\" class=\"dataframe\">\n  <thead>\n    <tr style=\"text-align: right;\">\n      <th></th>\n      <th>A</th>\n      <th>B</th>\n    </tr>\n  </thead>\n  <tbody>\n    <tr>\n      <th>2013-01-02</th>\n      <td>0.271589</td>\n      <td>-1.004031</td>\n    </tr>\n    <tr>\n      <th>2013-01-03</th>\n      <td>-0.705430</td>\n      <td>-0.691201</td>\n    </tr>\n    <tr>\n      <th>2013-01-04</th>\n      <td>-1.333940</td>\n      <td>1.892076</td>\n    </tr>\n  </tbody>\n</table>\n</div>"
     },
     "execution_count": 21,
     "metadata": {},
     "output_type": "execute_result"
    }
   ],
   "source": [
    "df.loc['20130102':'20130104', ['A','B']]"
   ],
   "metadata": {
    "collapsed": false,
    "pycharm": {
     "name": "#%%\n"
    }
   }
  },
  {
   "cell_type": "code",
   "execution_count": 22,
   "outputs": [
    {
     "data": {
      "text/plain": "A    0.271589\nB   -1.004031\nName: 2013-01-02 00:00:00, dtype: float64"
     },
     "execution_count": 22,
     "metadata": {},
     "output_type": "execute_result"
    }
   ],
   "source": [
    "df.loc['20130102', ['A', 'B']]"
   ],
   "metadata": {
    "collapsed": false,
    "pycharm": {
     "name": "#%%\n"
    }
   }
  },
  {
   "cell_type": "code",
   "execution_count": 23,
   "outputs": [
    {
     "data": {
      "text/plain": "0.06532794419662766"
     },
     "execution_count": 23,
     "metadata": {},
     "output_type": "execute_result"
    }
   ],
   "source": [
    "# 시리즈에서 A 추출\n",
    "# 이는 스칼라를 추출하는 것,\n",
    "df.loc[dates[0], 'A']"
   ],
   "metadata": {
    "collapsed": false,
    "pycharm": {
     "name": "#%%\n"
    }
   }
  },
  {
   "cell_type": "code",
   "execution_count": 24,
   "outputs": [
    {
     "data": {
      "text/plain": "0.06532794419662766"
     },
     "execution_count": 24,
     "metadata": {},
     "output_type": "execute_result"
    }
   ],
   "source": [
    "# 스칼라는 at메소드를통해 구하면 더 빠르게 구할 수 있다\n",
    "df.at[dates[0], 'A']"
   ],
   "metadata": {
    "collapsed": false,
    "pycharm": {
     "name": "#%%\n"
    }
   }
  },
  {
   "cell_type": "code",
   "execution_count": 25,
   "outputs": [
    {
     "data": {
      "text/plain": "A   -1.333940\nB    1.892076\nC    0.571904\nD    1.772800\nName: 2013-01-04 00:00:00, dtype: float64"
     },
     "execution_count": 25,
     "metadata": {},
     "output_type": "execute_result"
    }
   ],
   "source": [
    "# Selection By Position\n",
    "# 숫자를 이용해 선택하기\n",
    "df.iloc[3]"
   ],
   "metadata": {
    "collapsed": false,
    "pycharm": {
     "name": "#%%\n"
    }
   }
  },
  {
   "cell_type": "code",
   "execution_count": 26,
   "outputs": [
    {
     "data": {
      "text/plain": "                  A         B         C       D\n2013-01-04 -1.33394  1.892076  0.571904  1.7728",
      "text/html": "<div>\n<style scoped>\n    .dataframe tbody tr th:only-of-type {\n        vertical-align: middle;\n    }\n\n    .dataframe tbody tr th {\n        vertical-align: top;\n    }\n\n    .dataframe thead th {\n        text-align: right;\n    }\n</style>\n<table border=\"1\" class=\"dataframe\">\n  <thead>\n    <tr style=\"text-align: right;\">\n      <th></th>\n      <th>A</th>\n      <th>B</th>\n      <th>C</th>\n      <th>D</th>\n    </tr>\n  </thead>\n  <tbody>\n    <tr>\n      <th>2013-01-04</th>\n      <td>-1.33394</td>\n      <td>1.892076</td>\n      <td>0.571904</td>\n      <td>1.7728</td>\n    </tr>\n  </tbody>\n</table>\n</div>"
     },
     "execution_count": 26,
     "metadata": {},
     "output_type": "execute_result"
    }
   ],
   "source": [
    "# 역시 동일하게 배열이 아닌 값으로 넣으면 시리즈가 나오고\n",
    "# 배열을 넣으면 Dataframe으로 값이 나옴\n",
    "df.iloc[[3]]\n"
   ],
   "metadata": {
    "collapsed": false,
    "pycharm": {
     "name": "#%%\n"
    }
   }
  },
  {
   "cell_type": "code",
   "execution_count": 27,
   "outputs": [
    {
     "data": {
      "text/plain": "                   A         B\n2013-01-04 -1.333940  1.892076\n2013-01-05  2.676493 -0.603042",
      "text/html": "<div>\n<style scoped>\n    .dataframe tbody tr th:only-of-type {\n        vertical-align: middle;\n    }\n\n    .dataframe tbody tr th {\n        vertical-align: top;\n    }\n\n    .dataframe thead th {\n        text-align: right;\n    }\n</style>\n<table border=\"1\" class=\"dataframe\">\n  <thead>\n    <tr style=\"text-align: right;\">\n      <th></th>\n      <th>A</th>\n      <th>B</th>\n    </tr>\n  </thead>\n  <tbody>\n    <tr>\n      <th>2013-01-04</th>\n      <td>-1.333940</td>\n      <td>1.892076</td>\n    </tr>\n    <tr>\n      <th>2013-01-05</th>\n      <td>2.676493</td>\n      <td>-0.603042</td>\n    </tr>\n  </tbody>\n</table>\n</div>"
     },
     "execution_count": 27,
     "metadata": {},
     "output_type": "execute_result"
    }
   ],
   "source": [
    "# 정수로 슬라이싱\n",
    "df.iloc[3:5,0:2]\n"
   ],
   "metadata": {
    "collapsed": false,
    "pycharm": {
     "name": "#%%\n"
    }
   }
  },
  {
   "cell_type": "code",
   "execution_count": 28,
   "outputs": [
    {
     "data": {
      "text/plain": "                   A         C\n2013-01-02  0.271589 -0.938170\n2013-01-03 -0.705430  0.570060\n2013-01-05  2.676493 -0.762182",
      "text/html": "<div>\n<style scoped>\n    .dataframe tbody tr th:only-of-type {\n        vertical-align: middle;\n    }\n\n    .dataframe tbody tr th {\n        vertical-align: top;\n    }\n\n    .dataframe thead th {\n        text-align: right;\n    }\n</style>\n<table border=\"1\" class=\"dataframe\">\n  <thead>\n    <tr style=\"text-align: right;\">\n      <th></th>\n      <th>A</th>\n      <th>C</th>\n    </tr>\n  </thead>\n  <tbody>\n    <tr>\n      <th>2013-01-02</th>\n      <td>0.271589</td>\n      <td>-0.938170</td>\n    </tr>\n    <tr>\n      <th>2013-01-03</th>\n      <td>-0.705430</td>\n      <td>0.570060</td>\n    </tr>\n    <tr>\n      <th>2013-01-05</th>\n      <td>2.676493</td>\n      <td>-0.762182</td>\n    </tr>\n  </tbody>\n</table>\n</div>"
     },
     "execution_count": 28,
     "metadata": {},
     "output_type": "execute_result"
    }
   ],
   "source": [
    "# 특정 위치 가져오기\n",
    "df.iloc[[1,2,4],[0,2]]"
   ],
   "metadata": {
    "collapsed": false,
    "pycharm": {
     "name": "#%%\n"
    }
   }
  },
  {
   "cell_type": "code",
   "execution_count": 29,
   "outputs": [
    {
     "data": {
      "text/plain": "                   A         B        C         D\n2013-01-02  0.271589 -1.004031 -0.93817  1.916114\n2013-01-03 -0.705430 -0.691201  0.57006 -0.101018",
      "text/html": "<div>\n<style scoped>\n    .dataframe tbody tr th:only-of-type {\n        vertical-align: middle;\n    }\n\n    .dataframe tbody tr th {\n        vertical-align: top;\n    }\n\n    .dataframe thead th {\n        text-align: right;\n    }\n</style>\n<table border=\"1\" class=\"dataframe\">\n  <thead>\n    <tr style=\"text-align: right;\">\n      <th></th>\n      <th>A</th>\n      <th>B</th>\n      <th>C</th>\n      <th>D</th>\n    </tr>\n  </thead>\n  <tbody>\n    <tr>\n      <th>2013-01-02</th>\n      <td>0.271589</td>\n      <td>-1.004031</td>\n      <td>-0.93817</td>\n      <td>1.916114</td>\n    </tr>\n    <tr>\n      <th>2013-01-03</th>\n      <td>-0.705430</td>\n      <td>-0.691201</td>\n      <td>0.57006</td>\n      <td>-0.101018</td>\n    </tr>\n  </tbody>\n</table>\n</div>"
     },
     "execution_count": 29,
     "metadata": {},
     "output_type": "execute_result"
    }
   ],
   "source": [
    "# 명시적 슬라이싱\n",
    "df.iloc[1:3,:]"
   ],
   "metadata": {
    "collapsed": false,
    "pycharm": {
     "name": "#%%\n"
    }
   }
  },
  {
   "cell_type": "code",
   "execution_count": 30,
   "outputs": [
    {
     "data": {
      "text/plain": "                   B         C\n2013-01-01 -2.524831  0.808774\n2013-01-02 -1.004031 -0.938170\n2013-01-03 -0.691201  0.570060\n2013-01-04  1.892076  0.571904\n2013-01-05 -0.603042 -0.762182\n2013-01-06  0.764967  0.449316",
      "text/html": "<div>\n<style scoped>\n    .dataframe tbody tr th:only-of-type {\n        vertical-align: middle;\n    }\n\n    .dataframe tbody tr th {\n        vertical-align: top;\n    }\n\n    .dataframe thead th {\n        text-align: right;\n    }\n</style>\n<table border=\"1\" class=\"dataframe\">\n  <thead>\n    <tr style=\"text-align: right;\">\n      <th></th>\n      <th>B</th>\n      <th>C</th>\n    </tr>\n  </thead>\n  <tbody>\n    <tr>\n      <th>2013-01-01</th>\n      <td>-2.524831</td>\n      <td>0.808774</td>\n    </tr>\n    <tr>\n      <th>2013-01-02</th>\n      <td>-1.004031</td>\n      <td>-0.938170</td>\n    </tr>\n    <tr>\n      <th>2013-01-03</th>\n      <td>-0.691201</td>\n      <td>0.570060</td>\n    </tr>\n    <tr>\n      <th>2013-01-04</th>\n      <td>1.892076</td>\n      <td>0.571904</td>\n    </tr>\n    <tr>\n      <th>2013-01-05</th>\n      <td>-0.603042</td>\n      <td>-0.762182</td>\n    </tr>\n    <tr>\n      <th>2013-01-06</th>\n      <td>0.764967</td>\n      <td>0.449316</td>\n    </tr>\n  </tbody>\n</table>\n</div>"
     },
     "execution_count": 30,
     "metadata": {},
     "output_type": "execute_result"
    }
   ],
   "source": [
    "# 명시적 슬라이싱\n",
    "df.iloc[:,1:3]"
   ],
   "metadata": {
    "collapsed": false,
    "pycharm": {
     "name": "#%%\n"
    }
   }
  },
  {
   "cell_type": "code",
   "execution_count": 31,
   "outputs": [
    {
     "data": {
      "text/plain": "-1.004031107681197"
     },
     "execution_count": 31,
     "metadata": {},
     "output_type": "execute_result"
    }
   ],
   "source": [
    "# 스칼라(값) 얻기\n",
    "df.iloc[1,1]"
   ],
   "metadata": {
    "collapsed": false,
    "pycharm": {
     "name": "#%%\n"
    }
   }
  },
  {
   "cell_type": "code",
   "execution_count": 32,
   "outputs": [
    {
     "data": {
      "text/plain": "-1.004031107681197"
     },
     "execution_count": 32,
     "metadata": {},
     "output_type": "execute_result"
    }
   ],
   "source": [
    "# 역시 at더 빠름\n",
    "df.iat[1,1]"
   ],
   "metadata": {
    "collapsed": false,
    "pycharm": {
     "name": "#%%\n"
    }
   }
  },
  {
   "cell_type": "code",
   "execution_count": 33,
   "outputs": [
    {
     "data": {
      "text/plain": "                   A         B         C         D\n2013-01-01  0.065328 -2.524831  0.808774  0.980046\n2013-01-02  0.271589 -1.004031 -0.938170  1.916114\n2013-01-05  2.676493 -0.603042 -0.762182  0.462667\n2013-01-06  1.303052  0.764967  0.449316 -0.587720",
      "text/html": "<div>\n<style scoped>\n    .dataframe tbody tr th:only-of-type {\n        vertical-align: middle;\n    }\n\n    .dataframe tbody tr th {\n        vertical-align: top;\n    }\n\n    .dataframe thead th {\n        text-align: right;\n    }\n</style>\n<table border=\"1\" class=\"dataframe\">\n  <thead>\n    <tr style=\"text-align: right;\">\n      <th></th>\n      <th>A</th>\n      <th>B</th>\n      <th>C</th>\n      <th>D</th>\n    </tr>\n  </thead>\n  <tbody>\n    <tr>\n      <th>2013-01-01</th>\n      <td>0.065328</td>\n      <td>-2.524831</td>\n      <td>0.808774</td>\n      <td>0.980046</td>\n    </tr>\n    <tr>\n      <th>2013-01-02</th>\n      <td>0.271589</td>\n      <td>-1.004031</td>\n      <td>-0.938170</td>\n      <td>1.916114</td>\n    </tr>\n    <tr>\n      <th>2013-01-05</th>\n      <td>2.676493</td>\n      <td>-0.603042</td>\n      <td>-0.762182</td>\n      <td>0.462667</td>\n    </tr>\n    <tr>\n      <th>2013-01-06</th>\n      <td>1.303052</td>\n      <td>0.764967</td>\n      <td>0.449316</td>\n      <td>-0.587720</td>\n    </tr>\n  </tbody>\n</table>\n</div>"
     },
     "execution_count": 33,
     "metadata": {},
     "output_type": "execute_result"
    }
   ],
   "source": [
    "# 조건주기, 열 A에 대한\n",
    "df[df.A > 0]"
   ],
   "metadata": {
    "collapsed": false,
    "pycharm": {
     "name": "#%%\n"
    }
   }
  },
  {
   "cell_type": "code",
   "execution_count": 34,
   "outputs": [
    {
     "data": {
      "text/plain": "                   A         B         C         D\n2013-01-01  0.065328       NaN  0.808774  0.980046\n2013-01-02  0.271589       NaN       NaN  1.916114\n2013-01-03       NaN       NaN  0.570060       NaN\n2013-01-04       NaN  1.892076  0.571904  1.772800\n2013-01-05  2.676493       NaN       NaN  0.462667\n2013-01-06  1.303052  0.764967  0.449316       NaN",
      "text/html": "<div>\n<style scoped>\n    .dataframe tbody tr th:only-of-type {\n        vertical-align: middle;\n    }\n\n    .dataframe tbody tr th {\n        vertical-align: top;\n    }\n\n    .dataframe thead th {\n        text-align: right;\n    }\n</style>\n<table border=\"1\" class=\"dataframe\">\n  <thead>\n    <tr style=\"text-align: right;\">\n      <th></th>\n      <th>A</th>\n      <th>B</th>\n      <th>C</th>\n      <th>D</th>\n    </tr>\n  </thead>\n  <tbody>\n    <tr>\n      <th>2013-01-01</th>\n      <td>0.065328</td>\n      <td>NaN</td>\n      <td>0.808774</td>\n      <td>0.980046</td>\n    </tr>\n    <tr>\n      <th>2013-01-02</th>\n      <td>0.271589</td>\n      <td>NaN</td>\n      <td>NaN</td>\n      <td>1.916114</td>\n    </tr>\n    <tr>\n      <th>2013-01-03</th>\n      <td>NaN</td>\n      <td>NaN</td>\n      <td>0.570060</td>\n      <td>NaN</td>\n    </tr>\n    <tr>\n      <th>2013-01-04</th>\n      <td>NaN</td>\n      <td>1.892076</td>\n      <td>0.571904</td>\n      <td>1.772800</td>\n    </tr>\n    <tr>\n      <th>2013-01-05</th>\n      <td>2.676493</td>\n      <td>NaN</td>\n      <td>NaN</td>\n      <td>0.462667</td>\n    </tr>\n    <tr>\n      <th>2013-01-06</th>\n      <td>1.303052</td>\n      <td>0.764967</td>\n      <td>0.449316</td>\n      <td>NaN</td>\n    </tr>\n  </tbody>\n</table>\n</div>"
     },
     "execution_count": 34,
     "metadata": {},
     "output_type": "execute_result"
    }
   ],
   "source": [
    "# 전체 데이터프레임에 대한 조건주기\n",
    "df[df > 0]"
   ],
   "metadata": {
    "collapsed": false,
    "pycharm": {
     "name": "#%%\n"
    }
   }
  },
  {
   "cell_type": "code",
   "execution_count": 35,
   "outputs": [
    {
     "data": {
      "text/plain": "                   A         B         C         D      E\n2013-01-01  0.065328 -2.524831  0.808774  0.980046    one\n2013-01-02  0.271589 -1.004031 -0.938170  1.916114    one\n2013-01-03 -0.705430 -0.691201  0.570060 -0.101018    two\n2013-01-04 -1.333940  1.892076  0.571904  1.772800  three\n2013-01-05  2.676493 -0.603042 -0.762182  0.462667   four\n2013-01-06  1.303052  0.764967  0.449316 -0.587720   five",
      "text/html": "<div>\n<style scoped>\n    .dataframe tbody tr th:only-of-type {\n        vertical-align: middle;\n    }\n\n    .dataframe tbody tr th {\n        vertical-align: top;\n    }\n\n    .dataframe thead th {\n        text-align: right;\n    }\n</style>\n<table border=\"1\" class=\"dataframe\">\n  <thead>\n    <tr style=\"text-align: right;\">\n      <th></th>\n      <th>A</th>\n      <th>B</th>\n      <th>C</th>\n      <th>D</th>\n      <th>E</th>\n    </tr>\n  </thead>\n  <tbody>\n    <tr>\n      <th>2013-01-01</th>\n      <td>0.065328</td>\n      <td>-2.524831</td>\n      <td>0.808774</td>\n      <td>0.980046</td>\n      <td>one</td>\n    </tr>\n    <tr>\n      <th>2013-01-02</th>\n      <td>0.271589</td>\n      <td>-1.004031</td>\n      <td>-0.938170</td>\n      <td>1.916114</td>\n      <td>one</td>\n    </tr>\n    <tr>\n      <th>2013-01-03</th>\n      <td>-0.705430</td>\n      <td>-0.691201</td>\n      <td>0.570060</td>\n      <td>-0.101018</td>\n      <td>two</td>\n    </tr>\n    <tr>\n      <th>2013-01-04</th>\n      <td>-1.333940</td>\n      <td>1.892076</td>\n      <td>0.571904</td>\n      <td>1.772800</td>\n      <td>three</td>\n    </tr>\n    <tr>\n      <th>2013-01-05</th>\n      <td>2.676493</td>\n      <td>-0.603042</td>\n      <td>-0.762182</td>\n      <td>0.462667</td>\n      <td>four</td>\n    </tr>\n    <tr>\n      <th>2013-01-06</th>\n      <td>1.303052</td>\n      <td>0.764967</td>\n      <td>0.449316</td>\n      <td>-0.587720</td>\n      <td>five</td>\n    </tr>\n  </tbody>\n</table>\n</div>"
     },
     "execution_count": 35,
     "metadata": {},
     "output_type": "execute_result"
    }
   ],
   "source": [
    "df2 = df.copy()\n",
    "df2['E'] = ['one', 'one', 'two', 'three', 'four', 'five']\n",
    "df2"
   ],
   "metadata": {
    "collapsed": false,
    "pycharm": {
     "name": "#%%\n"
    }
   }
  },
  {
   "cell_type": "code",
   "execution_count": 36,
   "outputs": [
    {
     "data": {
      "text/plain": "                   A         B         C         D     E\n2013-01-03 -0.705430 -0.691201  0.570060 -0.101018   two\n2013-01-05  2.676493 -0.603042 -0.762182  0.462667  four",
      "text/html": "<div>\n<style scoped>\n    .dataframe tbody tr th:only-of-type {\n        vertical-align: middle;\n    }\n\n    .dataframe tbody tr th {\n        vertical-align: top;\n    }\n\n    .dataframe thead th {\n        text-align: right;\n    }\n</style>\n<table border=\"1\" class=\"dataframe\">\n  <thead>\n    <tr style=\"text-align: right;\">\n      <th></th>\n      <th>A</th>\n      <th>B</th>\n      <th>C</th>\n      <th>D</th>\n      <th>E</th>\n    </tr>\n  </thead>\n  <tbody>\n    <tr>\n      <th>2013-01-03</th>\n      <td>-0.705430</td>\n      <td>-0.691201</td>\n      <td>0.570060</td>\n      <td>-0.101018</td>\n      <td>two</td>\n    </tr>\n    <tr>\n      <th>2013-01-05</th>\n      <td>2.676493</td>\n      <td>-0.603042</td>\n      <td>-0.762182</td>\n      <td>0.462667</td>\n      <td>four</td>\n    </tr>\n  </tbody>\n</table>\n</div>"
     },
     "execution_count": 36,
     "metadata": {},
     "output_type": "execute_result"
    }
   ],
   "source": [
    "df2[df2['E'].isin(['two', 'four'])]"
   ],
   "metadata": {
    "collapsed": false,
    "pycharm": {
     "name": "#%%\n"
    }
   }
  },
  {
   "cell_type": "code",
   "execution_count": 37,
   "outputs": [
    {
     "data": {
      "text/plain": "2013-01-02    1\n2013-01-03    2\n2013-01-04    3\n2013-01-05    4\n2013-01-06    5\n2013-01-07    6\nFreq: D, dtype: int64"
     },
     "execution_count": 37,
     "metadata": {},
     "output_type": "execute_result"
    }
   ],
   "source": [
    "# 시리즈에 인덱스를 주면 인덱스로 자동정렬\n",
    "s1 = pd.Series([1,2,3,4,5,6], index=pd.date_range('20130102', periods=6))\n",
    "s1"
   ],
   "metadata": {
    "collapsed": false,
    "pycharm": {
     "name": "#%%\n"
    }
   }
  },
  {
   "cell_type": "code",
   "execution_count": 38,
   "outputs": [],
   "source": [
    "df['F'] = s1"
   ],
   "metadata": {
    "collapsed": false,
    "pycharm": {
     "name": "#%%\n"
    }
   }
  },
  {
   "cell_type": "code",
   "execution_count": 39,
   "outputs": [
    {
     "data": {
      "text/plain": "                   A         B         C         D    F\n2013-01-01  0.000000 -2.524831  0.808774  0.980046  NaN\n2013-01-02  0.271589 -1.004031 -0.938170  1.916114  1.0\n2013-01-03 -0.705430 -0.691201  0.570060 -0.101018  2.0\n2013-01-04 -1.333940  1.892076  0.571904  1.772800  3.0\n2013-01-05  2.676493 -0.603042 -0.762182  0.462667  4.0\n2013-01-06  1.303052  0.764967  0.449316 -0.587720  5.0",
      "text/html": "<div>\n<style scoped>\n    .dataframe tbody tr th:only-of-type {\n        vertical-align: middle;\n    }\n\n    .dataframe tbody tr th {\n        vertical-align: top;\n    }\n\n    .dataframe thead th {\n        text-align: right;\n    }\n</style>\n<table border=\"1\" class=\"dataframe\">\n  <thead>\n    <tr style=\"text-align: right;\">\n      <th></th>\n      <th>A</th>\n      <th>B</th>\n      <th>C</th>\n      <th>D</th>\n      <th>F</th>\n    </tr>\n  </thead>\n  <tbody>\n    <tr>\n      <th>2013-01-01</th>\n      <td>0.000000</td>\n      <td>-2.524831</td>\n      <td>0.808774</td>\n      <td>0.980046</td>\n      <td>NaN</td>\n    </tr>\n    <tr>\n      <th>2013-01-02</th>\n      <td>0.271589</td>\n      <td>-1.004031</td>\n      <td>-0.938170</td>\n      <td>1.916114</td>\n      <td>1.0</td>\n    </tr>\n    <tr>\n      <th>2013-01-03</th>\n      <td>-0.705430</td>\n      <td>-0.691201</td>\n      <td>0.570060</td>\n      <td>-0.101018</td>\n      <td>2.0</td>\n    </tr>\n    <tr>\n      <th>2013-01-04</th>\n      <td>-1.333940</td>\n      <td>1.892076</td>\n      <td>0.571904</td>\n      <td>1.772800</td>\n      <td>3.0</td>\n    </tr>\n    <tr>\n      <th>2013-01-05</th>\n      <td>2.676493</td>\n      <td>-0.603042</td>\n      <td>-0.762182</td>\n      <td>0.462667</td>\n      <td>4.0</td>\n    </tr>\n    <tr>\n      <th>2013-01-06</th>\n      <td>1.303052</td>\n      <td>0.764967</td>\n      <td>0.449316</td>\n      <td>-0.587720</td>\n      <td>5.0</td>\n    </tr>\n  </tbody>\n</table>\n</div>"
     },
     "execution_count": 39,
     "metadata": {},
     "output_type": "execute_result"
    }
   ],
   "source": [
    "# label로 값 설정\n",
    "df.at[dates[0], 'A'] = 0\n",
    "df"
   ],
   "metadata": {
    "collapsed": false,
    "pycharm": {
     "name": "#%%\n"
    }
   }
  },
  {
   "cell_type": "code",
   "execution_count": 40,
   "outputs": [
    {
     "data": {
      "text/plain": "                   A         B         C         D    F\n2013-01-01  0.000000  0.000000  0.808774  0.980046  NaN\n2013-01-02  0.271589 -1.004031 -0.938170  1.916114  1.0\n2013-01-03 -0.705430 -0.691201  0.570060 -0.101018  2.0\n2013-01-04 -1.333940  1.892076  0.571904  1.772800  3.0\n2013-01-05  2.676493 -0.603042 -0.762182  0.462667  4.0\n2013-01-06  1.303052  0.764967  0.449316 -0.587720  5.0",
      "text/html": "<div>\n<style scoped>\n    .dataframe tbody tr th:only-of-type {\n        vertical-align: middle;\n    }\n\n    .dataframe tbody tr th {\n        vertical-align: top;\n    }\n\n    .dataframe thead th {\n        text-align: right;\n    }\n</style>\n<table border=\"1\" class=\"dataframe\">\n  <thead>\n    <tr style=\"text-align: right;\">\n      <th></th>\n      <th>A</th>\n      <th>B</th>\n      <th>C</th>\n      <th>D</th>\n      <th>F</th>\n    </tr>\n  </thead>\n  <tbody>\n    <tr>\n      <th>2013-01-01</th>\n      <td>0.000000</td>\n      <td>0.000000</td>\n      <td>0.808774</td>\n      <td>0.980046</td>\n      <td>NaN</td>\n    </tr>\n    <tr>\n      <th>2013-01-02</th>\n      <td>0.271589</td>\n      <td>-1.004031</td>\n      <td>-0.938170</td>\n      <td>1.916114</td>\n      <td>1.0</td>\n    </tr>\n    <tr>\n      <th>2013-01-03</th>\n      <td>-0.705430</td>\n      <td>-0.691201</td>\n      <td>0.570060</td>\n      <td>-0.101018</td>\n      <td>2.0</td>\n    </tr>\n    <tr>\n      <th>2013-01-04</th>\n      <td>-1.333940</td>\n      <td>1.892076</td>\n      <td>0.571904</td>\n      <td>1.772800</td>\n      <td>3.0</td>\n    </tr>\n    <tr>\n      <th>2013-01-05</th>\n      <td>2.676493</td>\n      <td>-0.603042</td>\n      <td>-0.762182</td>\n      <td>0.462667</td>\n      <td>4.0</td>\n    </tr>\n    <tr>\n      <th>2013-01-06</th>\n      <td>1.303052</td>\n      <td>0.764967</td>\n      <td>0.449316</td>\n      <td>-0.587720</td>\n      <td>5.0</td>\n    </tr>\n  </tbody>\n</table>\n</div>"
     },
     "execution_count": 40,
     "metadata": {},
     "output_type": "execute_result"
    }
   ],
   "source": [
    "# 위치로 값 설정\n",
    "df.iat[0, 1] = 0\n",
    "df"
   ],
   "metadata": {
    "collapsed": false,
    "pycharm": {
     "name": "#%%\n"
    }
   }
  },
  {
   "cell_type": "code",
   "execution_count": 41,
   "outputs": [
    {
     "data": {
      "text/plain": "                   A         B         C         D    F\n2013-01-01  0.000000  0.000000  0.000000  0.980046  NaN\n2013-01-02  0.271589 -1.004031 -0.938170  1.916114  1.0\n2013-01-03 -0.705430 -0.691201  0.570060 -0.101018  2.0\n2013-01-04 -1.333940  1.892076  0.571904  1.772800  3.0\n2013-01-05  2.676493 -0.603042 -0.762182  0.462667  4.0\n2013-01-06  1.303052  0.764967  0.449316 -0.587720  5.0",
      "text/html": "<div>\n<style scoped>\n    .dataframe tbody tr th:only-of-type {\n        vertical-align: middle;\n    }\n\n    .dataframe tbody tr th {\n        vertical-align: top;\n    }\n\n    .dataframe thead th {\n        text-align: right;\n    }\n</style>\n<table border=\"1\" class=\"dataframe\">\n  <thead>\n    <tr style=\"text-align: right;\">\n      <th></th>\n      <th>A</th>\n      <th>B</th>\n      <th>C</th>\n      <th>D</th>\n      <th>F</th>\n    </tr>\n  </thead>\n  <tbody>\n    <tr>\n      <th>2013-01-01</th>\n      <td>0.000000</td>\n      <td>0.000000</td>\n      <td>0.000000</td>\n      <td>0.980046</td>\n      <td>NaN</td>\n    </tr>\n    <tr>\n      <th>2013-01-02</th>\n      <td>0.271589</td>\n      <td>-1.004031</td>\n      <td>-0.938170</td>\n      <td>1.916114</td>\n      <td>1.0</td>\n    </tr>\n    <tr>\n      <th>2013-01-03</th>\n      <td>-0.705430</td>\n      <td>-0.691201</td>\n      <td>0.570060</td>\n      <td>-0.101018</td>\n      <td>2.0</td>\n    </tr>\n    <tr>\n      <th>2013-01-04</th>\n      <td>-1.333940</td>\n      <td>1.892076</td>\n      <td>0.571904</td>\n      <td>1.772800</td>\n      <td>3.0</td>\n    </tr>\n    <tr>\n      <th>2013-01-05</th>\n      <td>2.676493</td>\n      <td>-0.603042</td>\n      <td>-0.762182</td>\n      <td>0.462667</td>\n      <td>4.0</td>\n    </tr>\n    <tr>\n      <th>2013-01-06</th>\n      <td>1.303052</td>\n      <td>0.764967</td>\n      <td>0.449316</td>\n      <td>-0.587720</td>\n      <td>5.0</td>\n    </tr>\n  </tbody>\n</table>\n</div>"
     },
     "execution_count": 41,
     "metadata": {},
     "output_type": "execute_result"
    }
   ],
   "source": [
    "# at메소드가 아닌 loc메소드로도 값 대입 가능\n",
    "df.iloc[0, 2] = 0\n",
    "df"
   ],
   "metadata": {
    "collapsed": false,
    "pycharm": {
     "name": "#%%\n"
    }
   }
  },
  {
   "cell_type": "code",
   "execution_count": 42,
   "outputs": [
    {
     "data": {
      "text/plain": "                   A         B         C  D    F\n2013-01-01  0.000000  0.000000  0.000000  5  NaN\n2013-01-02  0.271589 -1.004031 -0.938170  5  1.0\n2013-01-03 -0.705430 -0.691201  0.570060  5  2.0\n2013-01-04 -1.333940  1.892076  0.571904  5  3.0\n2013-01-05  2.676493 -0.603042 -0.762182  5  4.0\n2013-01-06  1.303052  0.764967  0.449316  5  5.0",
      "text/html": "<div>\n<style scoped>\n    .dataframe tbody tr th:only-of-type {\n        vertical-align: middle;\n    }\n\n    .dataframe tbody tr th {\n        vertical-align: top;\n    }\n\n    .dataframe thead th {\n        text-align: right;\n    }\n</style>\n<table border=\"1\" class=\"dataframe\">\n  <thead>\n    <tr style=\"text-align: right;\">\n      <th></th>\n      <th>A</th>\n      <th>B</th>\n      <th>C</th>\n      <th>D</th>\n      <th>F</th>\n    </tr>\n  </thead>\n  <tbody>\n    <tr>\n      <th>2013-01-01</th>\n      <td>0.000000</td>\n      <td>0.000000</td>\n      <td>0.000000</td>\n      <td>5</td>\n      <td>NaN</td>\n    </tr>\n    <tr>\n      <th>2013-01-02</th>\n      <td>0.271589</td>\n      <td>-1.004031</td>\n      <td>-0.938170</td>\n      <td>5</td>\n      <td>1.0</td>\n    </tr>\n    <tr>\n      <th>2013-01-03</th>\n      <td>-0.705430</td>\n      <td>-0.691201</td>\n      <td>0.570060</td>\n      <td>5</td>\n      <td>2.0</td>\n    </tr>\n    <tr>\n      <th>2013-01-04</th>\n      <td>-1.333940</td>\n      <td>1.892076</td>\n      <td>0.571904</td>\n      <td>5</td>\n      <td>3.0</td>\n    </tr>\n    <tr>\n      <th>2013-01-05</th>\n      <td>2.676493</td>\n      <td>-0.603042</td>\n      <td>-0.762182</td>\n      <td>5</td>\n      <td>4.0</td>\n    </tr>\n    <tr>\n      <th>2013-01-06</th>\n      <td>1.303052</td>\n      <td>0.764967</td>\n      <td>0.449316</td>\n      <td>5</td>\n      <td>5.0</td>\n    </tr>\n  </tbody>\n</table>\n</div>"
     },
     "execution_count": 42,
     "metadata": {},
     "output_type": "execute_result"
    }
   ],
   "source": [
    "df.loc[:, 'D'] = np.array([5] * len(df))\n",
    "df"
   ],
   "metadata": {
    "collapsed": false,
    "pycharm": {
     "name": "#%%\n"
    }
   }
  },
  {
   "cell_type": "code",
   "execution_count": 43,
   "outputs": [
    {
     "data": {
      "text/plain": "                   A         B         C  D    F\n2013-01-01  0.000000  0.000000  0.000000 -5  NaN\n2013-01-02 -0.271589 -1.004031 -0.938170 -5 -1.0\n2013-01-03 -0.705430 -0.691201 -0.570060 -5 -2.0\n2013-01-04 -1.333940 -1.892076 -0.571904 -5 -3.0\n2013-01-05 -2.676493 -0.603042 -0.762182 -5 -4.0\n2013-01-06 -1.303052 -0.764967 -0.449316 -5 -5.0",
      "text/html": "<div>\n<style scoped>\n    .dataframe tbody tr th:only-of-type {\n        vertical-align: middle;\n    }\n\n    .dataframe tbody tr th {\n        vertical-align: top;\n    }\n\n    .dataframe thead th {\n        text-align: right;\n    }\n</style>\n<table border=\"1\" class=\"dataframe\">\n  <thead>\n    <tr style=\"text-align: right;\">\n      <th></th>\n      <th>A</th>\n      <th>B</th>\n      <th>C</th>\n      <th>D</th>\n      <th>F</th>\n    </tr>\n  </thead>\n  <tbody>\n    <tr>\n      <th>2013-01-01</th>\n      <td>0.000000</td>\n      <td>0.000000</td>\n      <td>0.000000</td>\n      <td>-5</td>\n      <td>NaN</td>\n    </tr>\n    <tr>\n      <th>2013-01-02</th>\n      <td>-0.271589</td>\n      <td>-1.004031</td>\n      <td>-0.938170</td>\n      <td>-5</td>\n      <td>-1.0</td>\n    </tr>\n    <tr>\n      <th>2013-01-03</th>\n      <td>-0.705430</td>\n      <td>-0.691201</td>\n      <td>-0.570060</td>\n      <td>-5</td>\n      <td>-2.0</td>\n    </tr>\n    <tr>\n      <th>2013-01-04</th>\n      <td>-1.333940</td>\n      <td>-1.892076</td>\n      <td>-0.571904</td>\n      <td>-5</td>\n      <td>-3.0</td>\n    </tr>\n    <tr>\n      <th>2013-01-05</th>\n      <td>-2.676493</td>\n      <td>-0.603042</td>\n      <td>-0.762182</td>\n      <td>-5</td>\n      <td>-4.0</td>\n    </tr>\n    <tr>\n      <th>2013-01-06</th>\n      <td>-1.303052</td>\n      <td>-0.764967</td>\n      <td>-0.449316</td>\n      <td>-5</td>\n      <td>-5.0</td>\n    </tr>\n  </tbody>\n</table>\n</div>"
     },
     "execution_count": 43,
     "metadata": {},
     "output_type": "execute_result"
    }
   ],
   "source": [
    "df2 = df.copy()\n",
    "df2[df2 > 0] = -df2\n",
    "df2"
   ],
   "metadata": {
    "collapsed": false,
    "pycharm": {
     "name": "#%%\n"
    }
   }
  },
  {
   "cell_type": "code",
   "execution_count": 44,
   "outputs": [
    {
     "data": {
      "text/plain": "                   A         B         C  D    E\n2013-01-01  0.000000  0.000000  0.000000  5  1.0\n2013-01-02  0.271589 -1.004031 -0.938170  5  1.0\n2013-01-03 -0.705430 -0.691201  0.570060  5  NaN\n2013-01-04 -1.333940  1.892076  0.571904  5  NaN",
      "text/html": "<div>\n<style scoped>\n    .dataframe tbody tr th:only-of-type {\n        vertical-align: middle;\n    }\n\n    .dataframe tbody tr th {\n        vertical-align: top;\n    }\n\n    .dataframe thead th {\n        text-align: right;\n    }\n</style>\n<table border=\"1\" class=\"dataframe\">\n  <thead>\n    <tr style=\"text-align: right;\">\n      <th></th>\n      <th>A</th>\n      <th>B</th>\n      <th>C</th>\n      <th>D</th>\n      <th>E</th>\n    </tr>\n  </thead>\n  <tbody>\n    <tr>\n      <th>2013-01-01</th>\n      <td>0.000000</td>\n      <td>0.000000</td>\n      <td>0.000000</td>\n      <td>5</td>\n      <td>1.0</td>\n    </tr>\n    <tr>\n      <th>2013-01-02</th>\n      <td>0.271589</td>\n      <td>-1.004031</td>\n      <td>-0.938170</td>\n      <td>5</td>\n      <td>1.0</td>\n    </tr>\n    <tr>\n      <th>2013-01-03</th>\n      <td>-0.705430</td>\n      <td>-0.691201</td>\n      <td>0.570060</td>\n      <td>5</td>\n      <td>NaN</td>\n    </tr>\n    <tr>\n      <th>2013-01-04</th>\n      <td>-1.333940</td>\n      <td>1.892076</td>\n      <td>0.571904</td>\n      <td>5</td>\n      <td>NaN</td>\n    </tr>\n  </tbody>\n</table>\n</div>"
     },
     "execution_count": 44,
     "metadata": {},
     "output_type": "execute_result"
    }
   ],
   "source": [
    "# 결측치는 np.nan으로 표현된다. 계산에는 포함되지 않는다.\n",
    "# Reindexing을 통해 인덱스를 변경 가능하다\n",
    "df1 = df.reindex(index=dates[0:4], columns=['A', 'B', 'C', 'D'] + ['E'])\n",
    "df1.loc[dates[0]:dates[1], 'E'] = 1\n",
    "df1"
   ],
   "metadata": {
    "collapsed": false,
    "pycharm": {
     "name": "#%%\n"
    }
   }
  },
  {
   "cell_type": "code",
   "execution_count": 45,
   "outputs": [
    {
     "data": {
      "text/plain": "                   A         B        C  D    E\n2013-01-01  0.000000  0.000000  0.00000  5  1.0\n2013-01-02  0.271589 -1.004031 -0.93817  5  1.0",
      "text/html": "<div>\n<style scoped>\n    .dataframe tbody tr th:only-of-type {\n        vertical-align: middle;\n    }\n\n    .dataframe tbody tr th {\n        vertical-align: top;\n    }\n\n    .dataframe thead th {\n        text-align: right;\n    }\n</style>\n<table border=\"1\" class=\"dataframe\">\n  <thead>\n    <tr style=\"text-align: right;\">\n      <th></th>\n      <th>A</th>\n      <th>B</th>\n      <th>C</th>\n      <th>D</th>\n      <th>E</th>\n    </tr>\n  </thead>\n  <tbody>\n    <tr>\n      <th>2013-01-01</th>\n      <td>0.000000</td>\n      <td>0.000000</td>\n      <td>0.00000</td>\n      <td>5</td>\n      <td>1.0</td>\n    </tr>\n    <tr>\n      <th>2013-01-02</th>\n      <td>0.271589</td>\n      <td>-1.004031</td>\n      <td>-0.93817</td>\n      <td>5</td>\n      <td>1.0</td>\n    </tr>\n  </tbody>\n</table>\n</div>"
     },
     "execution_count": 45,
     "metadata": {},
     "output_type": "execute_result"
    }
   ],
   "source": [
    "# 결측치가 있는 행을 지운다\n",
    "df1.dropna(how='any')"
   ],
   "metadata": {
    "collapsed": false,
    "pycharm": {
     "name": "#%%\n"
    }
   }
  },
  {
   "cell_type": "code",
   "execution_count": 46,
   "outputs": [
    {
     "data": {
      "text/plain": "                   A         B         C  D    E\n2013-01-01  0.000000  0.000000  0.000000  5  1.0\n2013-01-02  0.271589 -1.004031 -0.938170  5  1.0\n2013-01-03 -0.705430 -0.691201  0.570060  5  5.0\n2013-01-04 -1.333940  1.892076  0.571904  5  5.0",
      "text/html": "<div>\n<style scoped>\n    .dataframe tbody tr th:only-of-type {\n        vertical-align: middle;\n    }\n\n    .dataframe tbody tr th {\n        vertical-align: top;\n    }\n\n    .dataframe thead th {\n        text-align: right;\n    }\n</style>\n<table border=\"1\" class=\"dataframe\">\n  <thead>\n    <tr style=\"text-align: right;\">\n      <th></th>\n      <th>A</th>\n      <th>B</th>\n      <th>C</th>\n      <th>D</th>\n      <th>E</th>\n    </tr>\n  </thead>\n  <tbody>\n    <tr>\n      <th>2013-01-01</th>\n      <td>0.000000</td>\n      <td>0.000000</td>\n      <td>0.000000</td>\n      <td>5</td>\n      <td>1.0</td>\n    </tr>\n    <tr>\n      <th>2013-01-02</th>\n      <td>0.271589</td>\n      <td>-1.004031</td>\n      <td>-0.938170</td>\n      <td>5</td>\n      <td>1.0</td>\n    </tr>\n    <tr>\n      <th>2013-01-03</th>\n      <td>-0.705430</td>\n      <td>-0.691201</td>\n      <td>0.570060</td>\n      <td>5</td>\n      <td>5.0</td>\n    </tr>\n    <tr>\n      <th>2013-01-04</th>\n      <td>-1.333940</td>\n      <td>1.892076</td>\n      <td>0.571904</td>\n      <td>5</td>\n      <td>5.0</td>\n    </tr>\n  </tbody>\n</table>\n</div>"
     },
     "execution_count": 46,
     "metadata": {},
     "output_type": "execute_result"
    }
   ],
   "source": [
    "# 결측치를 채운다\n",
    "df1.fillna(value=5)"
   ],
   "metadata": {
    "collapsed": false,
    "pycharm": {
     "name": "#%%\n"
    }
   }
  },
  {
   "cell_type": "code",
   "execution_count": 47,
   "outputs": [
    {
     "data": {
      "text/plain": "                A      B      C      D      E\n2013-01-01  False  False  False  False  False\n2013-01-02  False  False  False  False  False\n2013-01-03  False  False  False  False   True\n2013-01-04  False  False  False  False   True",
      "text/html": "<div>\n<style scoped>\n    .dataframe tbody tr th:only-of-type {\n        vertical-align: middle;\n    }\n\n    .dataframe tbody tr th {\n        vertical-align: top;\n    }\n\n    .dataframe thead th {\n        text-align: right;\n    }\n</style>\n<table border=\"1\" class=\"dataframe\">\n  <thead>\n    <tr style=\"text-align: right;\">\n      <th></th>\n      <th>A</th>\n      <th>B</th>\n      <th>C</th>\n      <th>D</th>\n      <th>E</th>\n    </tr>\n  </thead>\n  <tbody>\n    <tr>\n      <th>2013-01-01</th>\n      <td>False</td>\n      <td>False</td>\n      <td>False</td>\n      <td>False</td>\n      <td>False</td>\n    </tr>\n    <tr>\n      <th>2013-01-02</th>\n      <td>False</td>\n      <td>False</td>\n      <td>False</td>\n      <td>False</td>\n      <td>False</td>\n    </tr>\n    <tr>\n      <th>2013-01-03</th>\n      <td>False</td>\n      <td>False</td>\n      <td>False</td>\n      <td>False</td>\n      <td>True</td>\n    </tr>\n    <tr>\n      <th>2013-01-04</th>\n      <td>False</td>\n      <td>False</td>\n      <td>False</td>\n      <td>False</td>\n      <td>True</td>\n    </tr>\n  </tbody>\n</table>\n</div>"
     },
     "execution_count": 47,
     "metadata": {},
     "output_type": "execute_result"
    }
   ],
   "source": [
    "# Boolean Dataframe을 얻는다. 결측치가 있는 스칼라는 True가 됨\n",
    "pd.isna(df1)\n"
   ],
   "metadata": {
    "collapsed": false,
    "pycharm": {
     "name": "#%%\n"
    }
   }
  },
  {
   "cell_type": "code",
   "execution_count": 48,
   "outputs": [
    {
     "data": {
      "text/plain": "A    0.368627\nB    0.059795\nC   -0.018179\nD    5.000000\nF    3.000000\ndtype: float64"
     },
     "execution_count": 48,
     "metadata": {},
     "output_type": "execute_result"
    }
   ],
   "source": [
    "# Operation\n",
    "\n",
    "# mean메소드, 파라미터로 axis가 들어감 default는 axis=0\n",
    "df.mean() # Series"
   ],
   "metadata": {
    "collapsed": false,
    "pycharm": {
     "name": "#%%\n"
    }
   }
  },
  {
   "cell_type": "code",
   "execution_count": 49,
   "outputs": [
    {
     "data": {
      "text/plain": "2013-01-01    1.250000\n2013-01-02    0.865878\n2013-01-03    1.234686\n2013-01-04    1.826008\n2013-01-05    2.062254\n2013-01-06    2.503467\nFreq: D, dtype: float64"
     },
     "execution_count": 49,
     "metadata": {},
     "output_type": "execute_result"
    }
   ],
   "source": [
    "df.mean(axis=1)"
   ],
   "metadata": {
    "collapsed": false,
    "pycharm": {
     "name": "#%%\n"
    }
   }
  },
  {
   "cell_type": "code",
   "execution_count": 50,
   "outputs": [
    {
     "data": {
      "text/plain": "2013-01-01    NaN\n2013-01-02    NaN\n2013-01-03    1.0\n2013-01-04    3.0\n2013-01-05    5.0\n2013-01-06    NaN\nFreq: D, dtype: float64"
     },
     "execution_count": 50,
     "metadata": {},
     "output_type": "execute_result"
    }
   ],
   "source": [
    "s = pd.Series([1, 3, 5, np.nan, 6, 8], index=dates).shift(2)\n",
    "s"
   ],
   "metadata": {
    "collapsed": false,
    "pycharm": {
     "name": "#%%\n"
    }
   }
  },
  {
   "cell_type": "code",
   "execution_count": 51,
   "outputs": [
    {
     "data": {
      "text/plain": "                   A         B         C  D    F\n2013-01-01  0.000000  0.000000  0.000000  5  NaN\n2013-01-02  0.271589 -1.004031 -0.938170  5  1.0\n2013-01-03 -0.705430 -0.691201  0.570060  5  2.0\n2013-01-04 -1.333940  1.892076  0.571904  5  3.0\n2013-01-05  2.676493 -0.603042 -0.762182  5  4.0\n2013-01-06  1.303052  0.764967  0.449316  5  5.0",
      "text/html": "<div>\n<style scoped>\n    .dataframe tbody tr th:only-of-type {\n        vertical-align: middle;\n    }\n\n    .dataframe tbody tr th {\n        vertical-align: top;\n    }\n\n    .dataframe thead th {\n        text-align: right;\n    }\n</style>\n<table border=\"1\" class=\"dataframe\">\n  <thead>\n    <tr style=\"text-align: right;\">\n      <th></th>\n      <th>A</th>\n      <th>B</th>\n      <th>C</th>\n      <th>D</th>\n      <th>F</th>\n    </tr>\n  </thead>\n  <tbody>\n    <tr>\n      <th>2013-01-01</th>\n      <td>0.000000</td>\n      <td>0.000000</td>\n      <td>0.000000</td>\n      <td>5</td>\n      <td>NaN</td>\n    </tr>\n    <tr>\n      <th>2013-01-02</th>\n      <td>0.271589</td>\n      <td>-1.004031</td>\n      <td>-0.938170</td>\n      <td>5</td>\n      <td>1.0</td>\n    </tr>\n    <tr>\n      <th>2013-01-03</th>\n      <td>-0.705430</td>\n      <td>-0.691201</td>\n      <td>0.570060</td>\n      <td>5</td>\n      <td>2.0</td>\n    </tr>\n    <tr>\n      <th>2013-01-04</th>\n      <td>-1.333940</td>\n      <td>1.892076</td>\n      <td>0.571904</td>\n      <td>5</td>\n      <td>3.0</td>\n    </tr>\n    <tr>\n      <th>2013-01-05</th>\n      <td>2.676493</td>\n      <td>-0.603042</td>\n      <td>-0.762182</td>\n      <td>5</td>\n      <td>4.0</td>\n    </tr>\n    <tr>\n      <th>2013-01-06</th>\n      <td>1.303052</td>\n      <td>0.764967</td>\n      <td>0.449316</td>\n      <td>5</td>\n      <td>5.0</td>\n    </tr>\n  </tbody>\n</table>\n</div>"
     },
     "execution_count": 51,
     "metadata": {},
     "output_type": "execute_result"
    }
   ],
   "source": [
    "df"
   ],
   "metadata": {
    "collapsed": false,
    "pycharm": {
     "name": "#%%\n"
    }
   }
  },
  {
   "cell_type": "code",
   "execution_count": 52,
   "outputs": [
    {
     "data": {
      "text/plain": "                   A         B         C    D    F\n2013-01-01       NaN       NaN       NaN  NaN  NaN\n2013-01-02       NaN       NaN       NaN  NaN  NaN\n2013-01-03 -1.705430 -1.691201 -0.429940  4.0  1.0\n2013-01-04 -4.333940 -1.107924 -2.428096  2.0  0.0\n2013-01-05 -2.323507 -5.603042 -5.762182  0.0 -1.0\n2013-01-06       NaN       NaN       NaN  NaN  NaN",
      "text/html": "<div>\n<style scoped>\n    .dataframe tbody tr th:only-of-type {\n        vertical-align: middle;\n    }\n\n    .dataframe tbody tr th {\n        vertical-align: top;\n    }\n\n    .dataframe thead th {\n        text-align: right;\n    }\n</style>\n<table border=\"1\" class=\"dataframe\">\n  <thead>\n    <tr style=\"text-align: right;\">\n      <th></th>\n      <th>A</th>\n      <th>B</th>\n      <th>C</th>\n      <th>D</th>\n      <th>F</th>\n    </tr>\n  </thead>\n  <tbody>\n    <tr>\n      <th>2013-01-01</th>\n      <td>NaN</td>\n      <td>NaN</td>\n      <td>NaN</td>\n      <td>NaN</td>\n      <td>NaN</td>\n    </tr>\n    <tr>\n      <th>2013-01-02</th>\n      <td>NaN</td>\n      <td>NaN</td>\n      <td>NaN</td>\n      <td>NaN</td>\n      <td>NaN</td>\n    </tr>\n    <tr>\n      <th>2013-01-03</th>\n      <td>-1.705430</td>\n      <td>-1.691201</td>\n      <td>-0.429940</td>\n      <td>4.0</td>\n      <td>1.0</td>\n    </tr>\n    <tr>\n      <th>2013-01-04</th>\n      <td>-4.333940</td>\n      <td>-1.107924</td>\n      <td>-2.428096</td>\n      <td>2.0</td>\n      <td>0.0</td>\n    </tr>\n    <tr>\n      <th>2013-01-05</th>\n      <td>-2.323507</td>\n      <td>-5.603042</td>\n      <td>-5.762182</td>\n      <td>0.0</td>\n      <td>-1.0</td>\n    </tr>\n    <tr>\n      <th>2013-01-06</th>\n      <td>NaN</td>\n      <td>NaN</td>\n      <td>NaN</td>\n      <td>NaN</td>\n      <td>NaN</td>\n    </tr>\n  </tbody>\n</table>\n</div>"
     },
     "execution_count": 52,
     "metadata": {},
     "output_type": "execute_result"
    }
   ],
   "source": [
    "df.sub(s, axis='index')"
   ],
   "metadata": {
    "collapsed": false,
    "pycharm": {
     "name": "#%%\n"
    }
   }
  },
  {
   "cell_type": "code",
   "execution_count": 53,
   "outputs": [
    {
     "data": {
      "text/plain": "                   A         B         C   D     F\n2013-01-01  0.000000  0.000000  0.000000   5   NaN\n2013-01-02  0.271589 -1.004031 -0.938170  10   1.0\n2013-01-03 -0.433841 -1.695232 -0.368110  15   3.0\n2013-01-04 -1.767781  0.196844  0.203795  20   6.0\n2013-01-05  0.908712 -0.406198 -0.558387  25  10.0\n2013-01-06  2.211765  0.358769 -0.109072  30  15.0",
      "text/html": "<div>\n<style scoped>\n    .dataframe tbody tr th:only-of-type {\n        vertical-align: middle;\n    }\n\n    .dataframe tbody tr th {\n        vertical-align: top;\n    }\n\n    .dataframe thead th {\n        text-align: right;\n    }\n</style>\n<table border=\"1\" class=\"dataframe\">\n  <thead>\n    <tr style=\"text-align: right;\">\n      <th></th>\n      <th>A</th>\n      <th>B</th>\n      <th>C</th>\n      <th>D</th>\n      <th>F</th>\n    </tr>\n  </thead>\n  <tbody>\n    <tr>\n      <th>2013-01-01</th>\n      <td>0.000000</td>\n      <td>0.000000</td>\n      <td>0.000000</td>\n      <td>5</td>\n      <td>NaN</td>\n    </tr>\n    <tr>\n      <th>2013-01-02</th>\n      <td>0.271589</td>\n      <td>-1.004031</td>\n      <td>-0.938170</td>\n      <td>10</td>\n      <td>1.0</td>\n    </tr>\n    <tr>\n      <th>2013-01-03</th>\n      <td>-0.433841</td>\n      <td>-1.695232</td>\n      <td>-0.368110</td>\n      <td>15</td>\n      <td>3.0</td>\n    </tr>\n    <tr>\n      <th>2013-01-04</th>\n      <td>-1.767781</td>\n      <td>0.196844</td>\n      <td>0.203795</td>\n      <td>20</td>\n      <td>6.0</td>\n    </tr>\n    <tr>\n      <th>2013-01-05</th>\n      <td>0.908712</td>\n      <td>-0.406198</td>\n      <td>-0.558387</td>\n      <td>25</td>\n      <td>10.0</td>\n    </tr>\n    <tr>\n      <th>2013-01-06</th>\n      <td>2.211765</td>\n      <td>0.358769</td>\n      <td>-0.109072</td>\n      <td>30</td>\n      <td>15.0</td>\n    </tr>\n  </tbody>\n</table>\n</div>"
     },
     "execution_count": 53,
     "metadata": {},
     "output_type": "execute_result"
    }
   ],
   "source": [
    "# Apply 메소드, 데이터에 함수를 적용한다\n",
    "df.apply(np.cumsum)"
   ],
   "metadata": {
    "collapsed": false,
    "pycharm": {
     "name": "#%%\n"
    }
   }
  },
  {
   "cell_type": "code",
   "execution_count": 54,
   "outputs": [
    {
     "data": {
      "text/plain": "A    4.010433\nB    2.896107\nC    1.510074\nD    0.000000\nF    4.000000\ndtype: float64"
     },
     "execution_count": 54,
     "metadata": {},
     "output_type": "execute_result"
    }
   ],
   "source": [
    "df.apply(lambda x : x.max() - x.min())\n"
   ],
   "metadata": {
    "collapsed": false,
    "pycharm": {
     "name": "#%%\n"
    }
   }
  },
  {
   "cell_type": "code",
   "execution_count": 55,
   "outputs": [
    {
     "data": {
      "text/plain": "0    3\n1    4\n2    0\n3    4\n4    0\n5    6\n6    3\n7    3\n8    6\n9    2\ndtype: int64"
     },
     "execution_count": 55,
     "metadata": {},
     "output_type": "execute_result"
    }
   ],
   "source": [
    "# 히스토그래밍\n",
    "s = pd.Series(np.random.randint(0, 7, size=10))\n",
    "s"
   ],
   "metadata": {
    "collapsed": false,
    "pycharm": {
     "name": "#%%\n"
    }
   }
  },
  {
   "cell_type": "code",
   "execution_count": 56,
   "outputs": [
    {
     "data": {
      "text/plain": "3    3\n6    2\n4    2\n0    2\n2    1\ndtype: int64"
     },
     "execution_count": 56,
     "metadata": {},
     "output_type": "execute_result"
    }
   ],
   "source": [
    "s.value_counts()"
   ],
   "metadata": {
    "collapsed": false,
    "pycharm": {
     "name": "#%%\n"
    }
   }
  },
  {
   "cell_type": "code",
   "execution_count": 57,
   "outputs": [
    {
     "data": {
      "text/plain": "0       a\n1       b\n2       c\n3    aaba\n4    baca\n5     NaN\n6    caba\n7     dog\n8     cat\ndtype: object"
     },
     "execution_count": 57,
     "metadata": {},
     "output_type": "execute_result"
    }
   ],
   "source": [
    "# String method\n",
    "s = pd.Series(['A', 'B', 'C', 'Aaba', 'Baca', np.nan, 'CABA', 'dog', 'cat'])\n",
    "s.str.lower()"
   ],
   "metadata": {
    "collapsed": false,
    "pycharm": {
     "name": "#%%\n"
    }
   }
  },
  {
   "cell_type": "code",
   "execution_count": 58,
   "outputs": [
    {
     "data": {
      "text/plain": "<pandas.io.formats.style.Styler at 0x1233e10b8>",
      "text/html": "<style  type=\"text/css\" >\n#T_23a0e0e0_1ea1_11eb_8a46_acde48001122row0_col3,#T_23a0e0e0_1ea1_11eb_8a46_acde48001122row1_col3,#T_23a0e0e0_1ea1_11eb_8a46_acde48001122row2_col3,#T_23a0e0e0_1ea1_11eb_8a46_acde48001122row3_col1,#T_23a0e0e0_1ea1_11eb_8a46_acde48001122row3_col2,#T_23a0e0e0_1ea1_11eb_8a46_acde48001122row3_col3,#T_23a0e0e0_1ea1_11eb_8a46_acde48001122row4_col0,#T_23a0e0e0_1ea1_11eb_8a46_acde48001122row4_col3,#T_23a0e0e0_1ea1_11eb_8a46_acde48001122row5_col3,#T_23a0e0e0_1ea1_11eb_8a46_acde48001122row5_col4{\n            background-color:  yellow;\n        }</style><table id=\"T_23a0e0e0_1ea1_11eb_8a46_acde48001122\" ><thead>    <tr>        <th class=\"blank level0\" ></th>        <th class=\"col_heading level0 col0\" >A</th>        <th class=\"col_heading level0 col1\" >B</th>        <th class=\"col_heading level0 col2\" >C</th>        <th class=\"col_heading level0 col3\" >D</th>        <th class=\"col_heading level0 col4\" >F</th>    </tr></thead><tbody>\n                <tr>\n                        <th id=\"T_23a0e0e0_1ea1_11eb_8a46_acde48001122level0_row0\" class=\"row_heading level0 row0\" >2013-01-01 00:00:00</th>\n                        <td id=\"T_23a0e0e0_1ea1_11eb_8a46_acde48001122row0_col0\" class=\"data row0 col0\" >0.000000</td>\n                        <td id=\"T_23a0e0e0_1ea1_11eb_8a46_acde48001122row0_col1\" class=\"data row0 col1\" >0.000000</td>\n                        <td id=\"T_23a0e0e0_1ea1_11eb_8a46_acde48001122row0_col2\" class=\"data row0 col2\" >0.000000</td>\n                        <td id=\"T_23a0e0e0_1ea1_11eb_8a46_acde48001122row0_col3\" class=\"data row0 col3\" >5</td>\n                        <td id=\"T_23a0e0e0_1ea1_11eb_8a46_acde48001122row0_col4\" class=\"data row0 col4\" >nan</td>\n            </tr>\n            <tr>\n                        <th id=\"T_23a0e0e0_1ea1_11eb_8a46_acde48001122level0_row1\" class=\"row_heading level0 row1\" >2013-01-02 00:00:00</th>\n                        <td id=\"T_23a0e0e0_1ea1_11eb_8a46_acde48001122row1_col0\" class=\"data row1 col0\" >0.271589</td>\n                        <td id=\"T_23a0e0e0_1ea1_11eb_8a46_acde48001122row1_col1\" class=\"data row1 col1\" >-1.004031</td>\n                        <td id=\"T_23a0e0e0_1ea1_11eb_8a46_acde48001122row1_col2\" class=\"data row1 col2\" >-0.938170</td>\n                        <td id=\"T_23a0e0e0_1ea1_11eb_8a46_acde48001122row1_col3\" class=\"data row1 col3\" >5</td>\n                        <td id=\"T_23a0e0e0_1ea1_11eb_8a46_acde48001122row1_col4\" class=\"data row1 col4\" >1.000000</td>\n            </tr>\n            <tr>\n                        <th id=\"T_23a0e0e0_1ea1_11eb_8a46_acde48001122level0_row2\" class=\"row_heading level0 row2\" >2013-01-03 00:00:00</th>\n                        <td id=\"T_23a0e0e0_1ea1_11eb_8a46_acde48001122row2_col0\" class=\"data row2 col0\" >-0.705430</td>\n                        <td id=\"T_23a0e0e0_1ea1_11eb_8a46_acde48001122row2_col1\" class=\"data row2 col1\" >-0.691201</td>\n                        <td id=\"T_23a0e0e0_1ea1_11eb_8a46_acde48001122row2_col2\" class=\"data row2 col2\" >0.570060</td>\n                        <td id=\"T_23a0e0e0_1ea1_11eb_8a46_acde48001122row2_col3\" class=\"data row2 col3\" >5</td>\n                        <td id=\"T_23a0e0e0_1ea1_11eb_8a46_acde48001122row2_col4\" class=\"data row2 col4\" >2.000000</td>\n            </tr>\n            <tr>\n                        <th id=\"T_23a0e0e0_1ea1_11eb_8a46_acde48001122level0_row3\" class=\"row_heading level0 row3\" >2013-01-04 00:00:00</th>\n                        <td id=\"T_23a0e0e0_1ea1_11eb_8a46_acde48001122row3_col0\" class=\"data row3 col0\" >-1.333940</td>\n                        <td id=\"T_23a0e0e0_1ea1_11eb_8a46_acde48001122row3_col1\" class=\"data row3 col1\" >1.892076</td>\n                        <td id=\"T_23a0e0e0_1ea1_11eb_8a46_acde48001122row3_col2\" class=\"data row3 col2\" >0.571904</td>\n                        <td id=\"T_23a0e0e0_1ea1_11eb_8a46_acde48001122row3_col3\" class=\"data row3 col3\" >5</td>\n                        <td id=\"T_23a0e0e0_1ea1_11eb_8a46_acde48001122row3_col4\" class=\"data row3 col4\" >3.000000</td>\n            </tr>\n            <tr>\n                        <th id=\"T_23a0e0e0_1ea1_11eb_8a46_acde48001122level0_row4\" class=\"row_heading level0 row4\" >2013-01-05 00:00:00</th>\n                        <td id=\"T_23a0e0e0_1ea1_11eb_8a46_acde48001122row4_col0\" class=\"data row4 col0\" >2.676493</td>\n                        <td id=\"T_23a0e0e0_1ea1_11eb_8a46_acde48001122row4_col1\" class=\"data row4 col1\" >-0.603042</td>\n                        <td id=\"T_23a0e0e0_1ea1_11eb_8a46_acde48001122row4_col2\" class=\"data row4 col2\" >-0.762182</td>\n                        <td id=\"T_23a0e0e0_1ea1_11eb_8a46_acde48001122row4_col3\" class=\"data row4 col3\" >5</td>\n                        <td id=\"T_23a0e0e0_1ea1_11eb_8a46_acde48001122row4_col4\" class=\"data row4 col4\" >4.000000</td>\n            </tr>\n            <tr>\n                        <th id=\"T_23a0e0e0_1ea1_11eb_8a46_acde48001122level0_row5\" class=\"row_heading level0 row5\" >2013-01-06 00:00:00</th>\n                        <td id=\"T_23a0e0e0_1ea1_11eb_8a46_acde48001122row5_col0\" class=\"data row5 col0\" >1.303052</td>\n                        <td id=\"T_23a0e0e0_1ea1_11eb_8a46_acde48001122row5_col1\" class=\"data row5 col1\" >0.764967</td>\n                        <td id=\"T_23a0e0e0_1ea1_11eb_8a46_acde48001122row5_col2\" class=\"data row5 col2\" >0.449316</td>\n                        <td id=\"T_23a0e0e0_1ea1_11eb_8a46_acde48001122row5_col3\" class=\"data row5 col3\" >5</td>\n                        <td id=\"T_23a0e0e0_1ea1_11eb_8a46_acde48001122row5_col4\" class=\"data row5 col4\" >5.000000</td>\n            </tr>\n    </tbody></table>"
     },
     "execution_count": 58,
     "metadata": {},
     "output_type": "execute_result"
    }
   ],
   "source": [
    "def highlight_max(s):\n",
    "    '''\n",
    "    highlight the maximum in a Series yellow.\n",
    "    '''\n",
    "    is_max = s == s.max()\n",
    "    return ['background-color: yellow' if v else '' for v in is_max]\n",
    "\n",
    "df.style.apply(highlight_max)"
   ],
   "metadata": {
    "collapsed": false,
    "pycharm": {
     "name": "#%%\n"
    }
   }
  }
 ],
 "metadata": {
  "kernelspec": {
   "display_name": "Python 3",
   "language": "python",
   "name": "python3"
  },
  "language_info": {
   "codemirror_mode": {
    "name": "ipython",
    "version": 2
   },
   "file_extension": ".py",
   "mimetype": "text/x-python",
   "name": "python",
   "nbconvert_exporter": "python",
   "pygments_lexer": "ipython2",
   "version": "2.7.6"
  }
 },
 "nbformat": 4,
 "nbformat_minor": 0
}