{
 "cells": [
  {
   "cell_type": "markdown",
   "metadata": {
    "collapsed": true,
    "pycharm": {
     "name": "#%% md\n"
    }
   },
   "source": [
    "# Pandas 정리\n",
    "Pandas의 공식 문서를 보고 정리합니다.\n",
    "\n",
    "- [유저 가이드](https://pandas.pydata.org/docs/user_guide/index.html)\n",
    "- [API 레퍼런스](https://pandas.pydata.org/docs/reference/index.html)\n",
    "\n"
   ]
  },
  {
   "cell_type": "markdown",
   "source": [
    "### 10 minutes  to pandas 따라하기\n"
   ],
   "metadata": {
    "collapsed": false,
    "pycharm": {
     "name": "#%% md\n"
    }
   }
  },
  {
   "cell_type": "code",
   "execution_count": 895,
   "outputs": [
    {
     "data": {
      "text/plain": "0    1.0\n1    3.0\n2    5.0\n3    NaN\n4    6.0\n5    8.0\ndtype: float64"
     },
     "execution_count": 895,
     "metadata": {},
     "output_type": "execute_result"
    }
   ],
   "source": [
    "import numpy as np\n",
    "import pandas as pd\n",
    "\n",
    "# 넘파이와 시리즈 호환\n",
    "s = pd.Series([1, 3, 5, np.nan, 6, 8])\n",
    "s"
   ],
   "metadata": {
    "collapsed": false,
    "pycharm": {
     "name": "#%%\n"
    }
   }
  },
  {
   "cell_type": "code",
   "execution_count": 896,
   "outputs": [
    {
     "data": {
      "text/plain": "                   A         B         C         D\n2013-01-01  0.520497  2.042585 -0.285834  0.046392\n2013-01-02 -0.989264 -0.248715 -1.104441  1.003459\n2013-01-03 -0.186095 -0.160784  0.069718 -1.584559\n2013-01-04  0.144300 -0.169195  0.076710 -0.873241\n2013-01-05 -0.761776 -0.069540 -1.521610  0.165734\n2013-01-06  0.839372  0.502460 -1.098452 -0.810864",
      "text/html": "<div>\n<style scoped>\n    .dataframe tbody tr th:only-of-type {\n        vertical-align: middle;\n    }\n\n    .dataframe tbody tr th {\n        vertical-align: top;\n    }\n\n    .dataframe thead th {\n        text-align: right;\n    }\n</style>\n<table border=\"1\" class=\"dataframe\">\n  <thead>\n    <tr style=\"text-align: right;\">\n      <th></th>\n      <th>A</th>\n      <th>B</th>\n      <th>C</th>\n      <th>D</th>\n    </tr>\n  </thead>\n  <tbody>\n    <tr>\n      <th>2013-01-01</th>\n      <td>0.520497</td>\n      <td>2.042585</td>\n      <td>-0.285834</td>\n      <td>0.046392</td>\n    </tr>\n    <tr>\n      <th>2013-01-02</th>\n      <td>-0.989264</td>\n      <td>-0.248715</td>\n      <td>-1.104441</td>\n      <td>1.003459</td>\n    </tr>\n    <tr>\n      <th>2013-01-03</th>\n      <td>-0.186095</td>\n      <td>-0.160784</td>\n      <td>0.069718</td>\n      <td>-1.584559</td>\n    </tr>\n    <tr>\n      <th>2013-01-04</th>\n      <td>0.144300</td>\n      <td>-0.169195</td>\n      <td>0.076710</td>\n      <td>-0.873241</td>\n    </tr>\n    <tr>\n      <th>2013-01-05</th>\n      <td>-0.761776</td>\n      <td>-0.069540</td>\n      <td>-1.521610</td>\n      <td>0.165734</td>\n    </tr>\n    <tr>\n      <th>2013-01-06</th>\n      <td>0.839372</td>\n      <td>0.502460</td>\n      <td>-1.098452</td>\n      <td>-0.810864</td>\n    </tr>\n  </tbody>\n</table>\n</div>"
     },
     "execution_count": 896,
     "metadata": {},
     "output_type": "execute_result"
    }
   ],
   "source": [
    "dates = pd.date_range('20130101', periods=6)\n",
    "dates\n",
    "\n",
    "# 넘파이와 Dataframe 호환\n",
    "df = pd.DataFrame(np.random.randn(6, 4), index=dates, columns=list('ABCD'))\n",
    "df\n"
   ],
   "metadata": {
    "collapsed": false,
    "pycharm": {
     "name": "#%%\n"
    }
   }
  },
  {
   "cell_type": "code",
   "execution_count": 897,
   "outputs": [
    {
     "data": {
      "text/plain": "                   A         B         C         D\n2013-01-01  1.662418  0.132887  0.155900  0.624545\n2013-01-02 -0.250679  0.220744 -0.255427 -0.620003\n2013-01-03  0.838332  0.494697 -0.526519 -1.483515\n2013-01-04  0.255709  1.896188 -0.486490 -0.707720\n2013-01-05  0.780017 -1.054972 -0.876066  0.630361\n2013-01-06 -1.280487  0.979442 -0.728822 -0.782057",
      "text/html": "<div>\n<style scoped>\n    .dataframe tbody tr th:only-of-type {\n        vertical-align: middle;\n    }\n\n    .dataframe tbody tr th {\n        vertical-align: top;\n    }\n\n    .dataframe thead th {\n        text-align: right;\n    }\n</style>\n<table border=\"1\" class=\"dataframe\">\n  <thead>\n    <tr style=\"text-align: right;\">\n      <th></th>\n      <th>A</th>\n      <th>B</th>\n      <th>C</th>\n      <th>D</th>\n    </tr>\n  </thead>\n  <tbody>\n    <tr>\n      <th>2013-01-01</th>\n      <td>1.662418</td>\n      <td>0.132887</td>\n      <td>0.155900</td>\n      <td>0.624545</td>\n    </tr>\n    <tr>\n      <th>2013-01-02</th>\n      <td>-0.250679</td>\n      <td>0.220744</td>\n      <td>-0.255427</td>\n      <td>-0.620003</td>\n    </tr>\n    <tr>\n      <th>2013-01-03</th>\n      <td>0.838332</td>\n      <td>0.494697</td>\n      <td>-0.526519</td>\n      <td>-1.483515</td>\n    </tr>\n    <tr>\n      <th>2013-01-04</th>\n      <td>0.255709</td>\n      <td>1.896188</td>\n      <td>-0.486490</td>\n      <td>-0.707720</td>\n    </tr>\n    <tr>\n      <th>2013-01-05</th>\n      <td>0.780017</td>\n      <td>-1.054972</td>\n      <td>-0.876066</td>\n      <td>0.630361</td>\n    </tr>\n    <tr>\n      <th>2013-01-06</th>\n      <td>-1.280487</td>\n      <td>0.979442</td>\n      <td>-0.728822</td>\n      <td>-0.782057</td>\n    </tr>\n  </tbody>\n</table>\n</div>"
     },
     "execution_count": 897,
     "metadata": {},
     "output_type": "execute_result"
    }
   ],
   "source": [
    "dates = pd.date_range('20130101', periods=6)\n",
    "dates\n",
    "\n",
    "df = pd.DataFrame(np.random.randn(6, 4), index=dates, columns=list('ABCD'))\n",
    "df\n"
   ],
   "metadata": {
    "collapsed": false,
    "pycharm": {
     "name": "#%%\n"
    }
   }
  },
  {
   "cell_type": "code",
   "execution_count": 898,
   "outputs": [
    {
     "data": {
      "text/plain": "     A          B    C  D      E    F\n0  1.0 2013-01-02  1.0  3   test  foo\n1  1.0 2013-01-02  1.0  3  train  foo\n2  1.0 2013-01-02  1.0  3   test  foo\n3  1.0 2013-01-02  1.0  3  train  foo",
      "text/html": "<div>\n<style scoped>\n    .dataframe tbody tr th:only-of-type {\n        vertical-align: middle;\n    }\n\n    .dataframe tbody tr th {\n        vertical-align: top;\n    }\n\n    .dataframe thead th {\n        text-align: right;\n    }\n</style>\n<table border=\"1\" class=\"dataframe\">\n  <thead>\n    <tr style=\"text-align: right;\">\n      <th></th>\n      <th>A</th>\n      <th>B</th>\n      <th>C</th>\n      <th>D</th>\n      <th>E</th>\n      <th>F</th>\n    </tr>\n  </thead>\n  <tbody>\n    <tr>\n      <th>0</th>\n      <td>1.0</td>\n      <td>2013-01-02</td>\n      <td>1.0</td>\n      <td>3</td>\n      <td>test</td>\n      <td>foo</td>\n    </tr>\n    <tr>\n      <th>1</th>\n      <td>1.0</td>\n      <td>2013-01-02</td>\n      <td>1.0</td>\n      <td>3</td>\n      <td>train</td>\n      <td>foo</td>\n    </tr>\n    <tr>\n      <th>2</th>\n      <td>1.0</td>\n      <td>2013-01-02</td>\n      <td>1.0</td>\n      <td>3</td>\n      <td>test</td>\n      <td>foo</td>\n    </tr>\n    <tr>\n      <th>3</th>\n      <td>1.0</td>\n      <td>2013-01-02</td>\n      <td>1.0</td>\n      <td>3</td>\n      <td>train</td>\n      <td>foo</td>\n    </tr>\n  </tbody>\n</table>\n</div>"
     },
     "execution_count": 898,
     "metadata": {},
     "output_type": "execute_result"
    }
   ],
   "source": [
    "# 쉽게 딕셔너리에서 컨버트할 수 있음\n",
    "df2 = pd.DataFrame({'A': 1.,\n",
    "'B': pd.Timestamp('20130102'),\n",
    "'C': pd.Series(1, index=list(range(4)), dtype='float32'),\n",
    "'D': np.array([3] * 4, dtype='int32'),\n",
    "'E': pd.Categorical([\"test\", \"train\", \"test\", \"train\"]),\n",
    "'F': 'foo'})\n",
    "\n",
    "df2"
   ],
   "metadata": {
    "collapsed": false,
    "pycharm": {
     "name": "#%%\n"
    }
   }
  },
  {
   "cell_type": "code",
   "execution_count": 899,
   "outputs": [
    {
     "data": {
      "text/plain": "A           float64\nB    datetime64[ns]\nC           float32\nD             int32\nE          category\nF            object\ndtype: object"
     },
     "execution_count": 899,
     "metadata": {},
     "output_type": "execute_result"
    }
   ],
   "source": [
    "df2.dtypes"
   ],
   "metadata": {
    "collapsed": false,
    "pycharm": {
     "name": "#%%\n"
    }
   }
  },
  {
   "cell_type": "code",
   "execution_count": 900,
   "outputs": [
    {
     "data": {
      "text/plain": "                   A         B         C         D\n2013-01-01  1.662418  0.132887  0.155900  0.624545\n2013-01-02 -0.250679  0.220744 -0.255427 -0.620003",
      "text/html": "<div>\n<style scoped>\n    .dataframe tbody tr th:only-of-type {\n        vertical-align: middle;\n    }\n\n    .dataframe tbody tr th {\n        vertical-align: top;\n    }\n\n    .dataframe thead th {\n        text-align: right;\n    }\n</style>\n<table border=\"1\" class=\"dataframe\">\n  <thead>\n    <tr style=\"text-align: right;\">\n      <th></th>\n      <th>A</th>\n      <th>B</th>\n      <th>C</th>\n      <th>D</th>\n    </tr>\n  </thead>\n  <tbody>\n    <tr>\n      <th>2013-01-01</th>\n      <td>1.662418</td>\n      <td>0.132887</td>\n      <td>0.155900</td>\n      <td>0.624545</td>\n    </tr>\n    <tr>\n      <th>2013-01-02</th>\n      <td>-0.250679</td>\n      <td>0.220744</td>\n      <td>-0.255427</td>\n      <td>-0.620003</td>\n    </tr>\n  </tbody>\n</table>\n</div>"
     },
     "execution_count": 900,
     "metadata": {},
     "output_type": "execute_result"
    }
   ],
   "source": [
    "# 위에서부터 몇개\n",
    "df.head(2)"
   ],
   "metadata": {
    "collapsed": false,
    "pycharm": {
     "name": "#%%\n"
    }
   }
  },
  {
   "cell_type": "code",
   "execution_count": 901,
   "outputs": [
    {
     "data": {
      "text/plain": "                   A         B         C         D\n2013-01-05  0.780017 -1.054972 -0.876066  0.630361\n2013-01-06 -1.280487  0.979442 -0.728822 -0.782057",
      "text/html": "<div>\n<style scoped>\n    .dataframe tbody tr th:only-of-type {\n        vertical-align: middle;\n    }\n\n    .dataframe tbody tr th {\n        vertical-align: top;\n    }\n\n    .dataframe thead th {\n        text-align: right;\n    }\n</style>\n<table border=\"1\" class=\"dataframe\">\n  <thead>\n    <tr style=\"text-align: right;\">\n      <th></th>\n      <th>A</th>\n      <th>B</th>\n      <th>C</th>\n      <th>D</th>\n    </tr>\n  </thead>\n  <tbody>\n    <tr>\n      <th>2013-01-05</th>\n      <td>0.780017</td>\n      <td>-1.054972</td>\n      <td>-0.876066</td>\n      <td>0.630361</td>\n    </tr>\n    <tr>\n      <th>2013-01-06</th>\n      <td>-1.280487</td>\n      <td>0.979442</td>\n      <td>-0.728822</td>\n      <td>-0.782057</td>\n    </tr>\n  </tbody>\n</table>\n</div>"
     },
     "execution_count": 901,
     "metadata": {},
     "output_type": "execute_result"
    }
   ],
   "source": [
    "# 아래서부터 몇개\n",
    "df.tail(2)"
   ],
   "metadata": {
    "collapsed": false,
    "pycharm": {
     "name": "#%%\n"
    }
   }
  },
  {
   "cell_type": "code",
   "execution_count": 902,
   "outputs": [
    {
     "data": {
      "text/plain": "DatetimeIndex(['2013-01-01', '2013-01-02', '2013-01-03', '2013-01-04',\n               '2013-01-05', '2013-01-06'],\n              dtype='datetime64[ns]', freq='D')"
     },
     "execution_count": 902,
     "metadata": {},
     "output_type": "execute_result"
    }
   ],
   "source": [
    "# 인덱스를 출력해줌\n",
    "df.index"
   ],
   "metadata": {
    "collapsed": false,
    "pycharm": {
     "name": "#%%\n"
    }
   }
  },
  {
   "cell_type": "code",
   "execution_count": 903,
   "outputs": [
    {
     "data": {
      "text/plain": "Index(['A', 'B', 'C', 'D'], dtype='object')"
     },
     "execution_count": 903,
     "metadata": {},
     "output_type": "execute_result"
    }
   ],
   "source": [
    "df.columns"
   ],
   "metadata": {
    "collapsed": false,
    "pycharm": {
     "name": "#%%\n"
    }
   }
  },
  {
   "cell_type": "code",
   "execution_count": 904,
   "outputs": [
    {
     "data": {
      "text/plain": "array([[1.0, Timestamp('2013-01-02 00:00:00'), 1.0, 3, 'test', 'foo'],\n       [1.0, Timestamp('2013-01-02 00:00:00'), 1.0, 3, 'train', 'foo'],\n       [1.0, Timestamp('2013-01-02 00:00:00'), 1.0, 3, 'test', 'foo'],\n       [1.0, Timestamp('2013-01-02 00:00:00'), 1.0, 3, 'train', 'foo']],\n      dtype=object)"
     },
     "execution_count": 904,
     "metadata": {},
     "output_type": "execute_result"
    }
   ],
   "source": [
    "# NumPy Array로 변경해준다\n",
    "df2.to_numpy()"
   ],
   "metadata": {
    "collapsed": false,
    "pycharm": {
     "name": "#%%\n"
    }
   }
  },
  {
   "cell_type": "code",
   "execution_count": 905,
   "outputs": [
    {
     "data": {
      "text/plain": "              A         B         C         D\ncount  6.000000  6.000000  6.000000  6.000000\nmean   0.334218  0.444831 -0.452904 -0.389731\nstd    1.017106  0.978945  0.366438  0.845431\nmin   -1.280487 -1.054972 -0.876066 -1.483515\n25%   -0.124082  0.154851 -0.678247 -0.763473\n50%    0.517863  0.357720 -0.506504 -0.663862\n75%    0.823753  0.858256 -0.313193  0.313408\nmax    1.662418  1.896188  0.155900  0.630361",
      "text/html": "<div>\n<style scoped>\n    .dataframe tbody tr th:only-of-type {\n        vertical-align: middle;\n    }\n\n    .dataframe tbody tr th {\n        vertical-align: top;\n    }\n\n    .dataframe thead th {\n        text-align: right;\n    }\n</style>\n<table border=\"1\" class=\"dataframe\">\n  <thead>\n    <tr style=\"text-align: right;\">\n      <th></th>\n      <th>A</th>\n      <th>B</th>\n      <th>C</th>\n      <th>D</th>\n    </tr>\n  </thead>\n  <tbody>\n    <tr>\n      <th>count</th>\n      <td>6.000000</td>\n      <td>6.000000</td>\n      <td>6.000000</td>\n      <td>6.000000</td>\n    </tr>\n    <tr>\n      <th>mean</th>\n      <td>0.334218</td>\n      <td>0.444831</td>\n      <td>-0.452904</td>\n      <td>-0.389731</td>\n    </tr>\n    <tr>\n      <th>std</th>\n      <td>1.017106</td>\n      <td>0.978945</td>\n      <td>0.366438</td>\n      <td>0.845431</td>\n    </tr>\n    <tr>\n      <th>min</th>\n      <td>-1.280487</td>\n      <td>-1.054972</td>\n      <td>-0.876066</td>\n      <td>-1.483515</td>\n    </tr>\n    <tr>\n      <th>25%</th>\n      <td>-0.124082</td>\n      <td>0.154851</td>\n      <td>-0.678247</td>\n      <td>-0.763473</td>\n    </tr>\n    <tr>\n      <th>50%</th>\n      <td>0.517863</td>\n      <td>0.357720</td>\n      <td>-0.506504</td>\n      <td>-0.663862</td>\n    </tr>\n    <tr>\n      <th>75%</th>\n      <td>0.823753</td>\n      <td>0.858256</td>\n      <td>-0.313193</td>\n      <td>0.313408</td>\n    </tr>\n    <tr>\n      <th>max</th>\n      <td>1.662418</td>\n      <td>1.896188</td>\n      <td>0.155900</td>\n      <td>0.630361</td>\n    </tr>\n  </tbody>\n</table>\n</div>"
     },
     "execution_count": 905,
     "metadata": {},
     "output_type": "execute_result"
    }
   ],
   "source": [
    "# 빠르게 Dataframe의 statistics를 보여준다\n",
    "df.describe()"
   ],
   "metadata": {
    "collapsed": false,
    "pycharm": {
     "name": "#%%\n"
    }
   }
  },
  {
   "cell_type": "code",
   "execution_count": 906,
   "outputs": [
    {
     "data": {
      "text/plain": "   2013-01-01  2013-01-02  2013-01-03  2013-01-04  2013-01-05  2013-01-06\nA    1.662418   -0.250679    0.838332    0.255709    0.780017   -1.280487\nB    0.132887    0.220744    0.494697    1.896188   -1.054972    0.979442\nC    0.155900   -0.255427   -0.526519   -0.486490   -0.876066   -0.728822\nD    0.624545   -0.620003   -1.483515   -0.707720    0.630361   -0.782057",
      "text/html": "<div>\n<style scoped>\n    .dataframe tbody tr th:only-of-type {\n        vertical-align: middle;\n    }\n\n    .dataframe tbody tr th {\n        vertical-align: top;\n    }\n\n    .dataframe thead th {\n        text-align: right;\n    }\n</style>\n<table border=\"1\" class=\"dataframe\">\n  <thead>\n    <tr style=\"text-align: right;\">\n      <th></th>\n      <th>2013-01-01</th>\n      <th>2013-01-02</th>\n      <th>2013-01-03</th>\n      <th>2013-01-04</th>\n      <th>2013-01-05</th>\n      <th>2013-01-06</th>\n    </tr>\n  </thead>\n  <tbody>\n    <tr>\n      <th>A</th>\n      <td>1.662418</td>\n      <td>-0.250679</td>\n      <td>0.838332</td>\n      <td>0.255709</td>\n      <td>0.780017</td>\n      <td>-1.280487</td>\n    </tr>\n    <tr>\n      <th>B</th>\n      <td>0.132887</td>\n      <td>0.220744</td>\n      <td>0.494697</td>\n      <td>1.896188</td>\n      <td>-1.054972</td>\n      <td>0.979442</td>\n    </tr>\n    <tr>\n      <th>C</th>\n      <td>0.155900</td>\n      <td>-0.255427</td>\n      <td>-0.526519</td>\n      <td>-0.486490</td>\n      <td>-0.876066</td>\n      <td>-0.728822</td>\n    </tr>\n    <tr>\n      <th>D</th>\n      <td>0.624545</td>\n      <td>-0.620003</td>\n      <td>-1.483515</td>\n      <td>-0.707720</td>\n      <td>0.630361</td>\n      <td>-0.782057</td>\n    </tr>\n  </tbody>\n</table>\n</div>"
     },
     "execution_count": 906,
     "metadata": {},
     "output_type": "execute_result"
    }
   ],
   "source": [
    "# 전치행렬 (넘파이와 같음)\n",
    "df.T"
   ],
   "metadata": {
    "collapsed": false,
    "pycharm": {
     "name": "#%%\n"
    }
   }
  },
  {
   "cell_type": "code",
   "execution_count": 907,
   "outputs": [
    {
     "data": {
      "text/plain": "                   D         C         B         A\n2013-01-01  0.624545  0.155900  0.132887  1.662418\n2013-01-02 -0.620003 -0.255427  0.220744 -0.250679\n2013-01-03 -1.483515 -0.526519  0.494697  0.838332\n2013-01-04 -0.707720 -0.486490  1.896188  0.255709\n2013-01-05  0.630361 -0.876066 -1.054972  0.780017\n2013-01-06 -0.782057 -0.728822  0.979442 -1.280487",
      "text/html": "<div>\n<style scoped>\n    .dataframe tbody tr th:only-of-type {\n        vertical-align: middle;\n    }\n\n    .dataframe tbody tr th {\n        vertical-align: top;\n    }\n\n    .dataframe thead th {\n        text-align: right;\n    }\n</style>\n<table border=\"1\" class=\"dataframe\">\n  <thead>\n    <tr style=\"text-align: right;\">\n      <th></th>\n      <th>D</th>\n      <th>C</th>\n      <th>B</th>\n      <th>A</th>\n    </tr>\n  </thead>\n  <tbody>\n    <tr>\n      <th>2013-01-01</th>\n      <td>0.624545</td>\n      <td>0.155900</td>\n      <td>0.132887</td>\n      <td>1.662418</td>\n    </tr>\n    <tr>\n      <th>2013-01-02</th>\n      <td>-0.620003</td>\n      <td>-0.255427</td>\n      <td>0.220744</td>\n      <td>-0.250679</td>\n    </tr>\n    <tr>\n      <th>2013-01-03</th>\n      <td>-1.483515</td>\n      <td>-0.526519</td>\n      <td>0.494697</td>\n      <td>0.838332</td>\n    </tr>\n    <tr>\n      <th>2013-01-04</th>\n      <td>-0.707720</td>\n      <td>-0.486490</td>\n      <td>1.896188</td>\n      <td>0.255709</td>\n    </tr>\n    <tr>\n      <th>2013-01-05</th>\n      <td>0.630361</td>\n      <td>-0.876066</td>\n      <td>-1.054972</td>\n      <td>0.780017</td>\n    </tr>\n    <tr>\n      <th>2013-01-06</th>\n      <td>-0.782057</td>\n      <td>-0.728822</td>\n      <td>0.979442</td>\n      <td>-1.280487</td>\n    </tr>\n  </tbody>\n</table>\n</div>"
     },
     "execution_count": 907,
     "metadata": {},
     "output_type": "execute_result"
    }
   ],
   "source": [
    "df.sort_index(axis=1, ascending=False)"
   ],
   "metadata": {
    "collapsed": false,
    "pycharm": {
     "name": "#%%\n"
    }
   }
  },
  {
   "cell_type": "code",
   "execution_count": 908,
   "outputs": [
    {
     "data": {
      "text/plain": "                   A         B         C         D\n2013-01-05  0.780017 -1.054972 -0.876066  0.630361\n2013-01-01  1.662418  0.132887  0.155900  0.624545\n2013-01-02 -0.250679  0.220744 -0.255427 -0.620003\n2013-01-03  0.838332  0.494697 -0.526519 -1.483515\n2013-01-06 -1.280487  0.979442 -0.728822 -0.782057\n2013-01-04  0.255709  1.896188 -0.486490 -0.707720",
      "text/html": "<div>\n<style scoped>\n    .dataframe tbody tr th:only-of-type {\n        vertical-align: middle;\n    }\n\n    .dataframe tbody tr th {\n        vertical-align: top;\n    }\n\n    .dataframe thead th {\n        text-align: right;\n    }\n</style>\n<table border=\"1\" class=\"dataframe\">\n  <thead>\n    <tr style=\"text-align: right;\">\n      <th></th>\n      <th>A</th>\n      <th>B</th>\n      <th>C</th>\n      <th>D</th>\n    </tr>\n  </thead>\n  <tbody>\n    <tr>\n      <th>2013-01-05</th>\n      <td>0.780017</td>\n      <td>-1.054972</td>\n      <td>-0.876066</td>\n      <td>0.630361</td>\n    </tr>\n    <tr>\n      <th>2013-01-01</th>\n      <td>1.662418</td>\n      <td>0.132887</td>\n      <td>0.155900</td>\n      <td>0.624545</td>\n    </tr>\n    <tr>\n      <th>2013-01-02</th>\n      <td>-0.250679</td>\n      <td>0.220744</td>\n      <td>-0.255427</td>\n      <td>-0.620003</td>\n    </tr>\n    <tr>\n      <th>2013-01-03</th>\n      <td>0.838332</td>\n      <td>0.494697</td>\n      <td>-0.526519</td>\n      <td>-1.483515</td>\n    </tr>\n    <tr>\n      <th>2013-01-06</th>\n      <td>-1.280487</td>\n      <td>0.979442</td>\n      <td>-0.728822</td>\n      <td>-0.782057</td>\n    </tr>\n    <tr>\n      <th>2013-01-04</th>\n      <td>0.255709</td>\n      <td>1.896188</td>\n      <td>-0.486490</td>\n      <td>-0.707720</td>\n    </tr>\n  </tbody>\n</table>\n</div>"
     },
     "execution_count": 908,
     "metadata": {},
     "output_type": "execute_result"
    }
   ],
   "source": [
    "df.sort_values(by='B')"
   ],
   "metadata": {
    "collapsed": false,
    "pycharm": {
     "name": "#%%\n"
    }
   }
  },
  {
   "cell_type": "markdown",
   "source": [
    "Selection"
   ],
   "metadata": {
    "collapsed": false,
    "pycharm": {
     "name": "#%% md\n"
    }
   }
  },
  {
   "cell_type": "code",
   "execution_count": 909,
   "outputs": [
    {
     "data": {
      "text/plain": "2013-01-01    1.662418\n2013-01-02   -0.250679\n2013-01-03    0.838332\n2013-01-04    0.255709\n2013-01-05    0.780017\n2013-01-06   -1.280487\nFreq: D, Name: A, dtype: float64"
     },
     "execution_count": 909,
     "metadata": {},
     "output_type": "execute_result"
    }
   ],
   "source": [
    "df['A']"
   ],
   "metadata": {
    "collapsed": false,
    "pycharm": {
     "name": "#%%\n"
    }
   }
  },
  {
   "cell_type": "code",
   "execution_count": 910,
   "outputs": [
    {
     "data": {
      "text/plain": "                   A         B         C         D\n2013-01-01  1.662418  0.132887  0.155900  0.624545\n2013-01-02 -0.250679  0.220744 -0.255427 -0.620003\n2013-01-03  0.838332  0.494697 -0.526519 -1.483515",
      "text/html": "<div>\n<style scoped>\n    .dataframe tbody tr th:only-of-type {\n        vertical-align: middle;\n    }\n\n    .dataframe tbody tr th {\n        vertical-align: top;\n    }\n\n    .dataframe thead th {\n        text-align: right;\n    }\n</style>\n<table border=\"1\" class=\"dataframe\">\n  <thead>\n    <tr style=\"text-align: right;\">\n      <th></th>\n      <th>A</th>\n      <th>B</th>\n      <th>C</th>\n      <th>D</th>\n    </tr>\n  </thead>\n  <tbody>\n    <tr>\n      <th>2013-01-01</th>\n      <td>1.662418</td>\n      <td>0.132887</td>\n      <td>0.155900</td>\n      <td>0.624545</td>\n    </tr>\n    <tr>\n      <th>2013-01-02</th>\n      <td>-0.250679</td>\n      <td>0.220744</td>\n      <td>-0.255427</td>\n      <td>-0.620003</td>\n    </tr>\n    <tr>\n      <th>2013-01-03</th>\n      <td>0.838332</td>\n      <td>0.494697</td>\n      <td>-0.526519</td>\n      <td>-1.483515</td>\n    </tr>\n  </tbody>\n</table>\n</div>"
     },
     "execution_count": 910,
     "metadata": {},
     "output_type": "execute_result"
    }
   ],
   "source": [
    "df[0:3]"
   ],
   "metadata": {
    "collapsed": false,
    "pycharm": {
     "name": "#%%\n"
    }
   }
  },
  {
   "cell_type": "code",
   "execution_count": 911,
   "outputs": [
    {
     "data": {
      "text/plain": "                   A         B         C         D\n2013-01-02 -0.250679  0.220744 -0.255427 -0.620003\n2013-01-03  0.838332  0.494697 -0.526519 -1.483515\n2013-01-04  0.255709  1.896188 -0.486490 -0.707720",
      "text/html": "<div>\n<style scoped>\n    .dataframe tbody tr th:only-of-type {\n        vertical-align: middle;\n    }\n\n    .dataframe tbody tr th {\n        vertical-align: top;\n    }\n\n    .dataframe thead th {\n        text-align: right;\n    }\n</style>\n<table border=\"1\" class=\"dataframe\">\n  <thead>\n    <tr style=\"text-align: right;\">\n      <th></th>\n      <th>A</th>\n      <th>B</th>\n      <th>C</th>\n      <th>D</th>\n    </tr>\n  </thead>\n  <tbody>\n    <tr>\n      <th>2013-01-02</th>\n      <td>-0.250679</td>\n      <td>0.220744</td>\n      <td>-0.255427</td>\n      <td>-0.620003</td>\n    </tr>\n    <tr>\n      <th>2013-01-03</th>\n      <td>0.838332</td>\n      <td>0.494697</td>\n      <td>-0.526519</td>\n      <td>-1.483515</td>\n    </tr>\n    <tr>\n      <th>2013-01-04</th>\n      <td>0.255709</td>\n      <td>1.896188</td>\n      <td>-0.486490</td>\n      <td>-0.707720</td>\n    </tr>\n  </tbody>\n</table>\n</div>"
     },
     "execution_count": 911,
     "metadata": {},
     "output_type": "execute_result"
    }
   ],
   "source": [
    "df['20130102':'20130104']"
   ],
   "metadata": {
    "collapsed": false,
    "pycharm": {
     "name": "#%%\n"
    }
   }
  },
  {
   "cell_type": "code",
   "execution_count": 912,
   "outputs": [
    {
     "data": {
      "text/plain": "A    1.662418\nB    0.132887\nC    0.155900\nD    0.624545\nName: 2013-01-01 00:00:00, dtype: float64"
     },
     "execution_count": 912,
     "metadata": {},
     "output_type": "execute_result"
    }
   ],
   "source": [
    "# 아래에 loc에 대한 설명이 나와있다. 필요한 데이터만 추출할 때 유용하게 사용할 수 있을 듯 하다\n",
    "# https://m.blog.naver.com/wideeyed/221964700554\n",
    "# 아래는 시리즈\n",
    "df.loc[dates[0]]"
   ],
   "metadata": {
    "collapsed": false,
    "pycharm": {
     "name": "#%%\n"
    }
   }
  },
  {
   "cell_type": "code",
   "execution_count": 913,
   "outputs": [
    {
     "data": {
      "text/plain": "                   A         B       C         D\n2013-01-01  1.662418  0.132887  0.1559  0.624545",
      "text/html": "<div>\n<style scoped>\n    .dataframe tbody tr th:only-of-type {\n        vertical-align: middle;\n    }\n\n    .dataframe tbody tr th {\n        vertical-align: top;\n    }\n\n    .dataframe thead th {\n        text-align: right;\n    }\n</style>\n<table border=\"1\" class=\"dataframe\">\n  <thead>\n    <tr style=\"text-align: right;\">\n      <th></th>\n      <th>A</th>\n      <th>B</th>\n      <th>C</th>\n      <th>D</th>\n    </tr>\n  </thead>\n  <tbody>\n    <tr>\n      <th>2013-01-01</th>\n      <td>1.662418</td>\n      <td>0.132887</td>\n      <td>0.1559</td>\n      <td>0.624545</td>\n    </tr>\n  </tbody>\n</table>\n</div>"
     },
     "execution_count": 913,
     "metadata": {},
     "output_type": "execute_result"
    }
   ],
   "source": [
    "# 아래는 데이터프레임\n",
    "df.loc[[dates[0]]]"
   ],
   "metadata": {
    "collapsed": false,
    "pycharm": {
     "name": "#%%\n"
    }
   }
  },
  {
   "cell_type": "code",
   "execution_count": 914,
   "outputs": [
    {
     "data": {
      "text/plain": "                   A         B\n2013-01-01  1.662418  0.132887\n2013-01-02 -0.250679  0.220744\n2013-01-03  0.838332  0.494697\n2013-01-04  0.255709  1.896188\n2013-01-05  0.780017 -1.054972\n2013-01-06 -1.280487  0.979442",
      "text/html": "<div>\n<style scoped>\n    .dataframe tbody tr th:only-of-type {\n        vertical-align: middle;\n    }\n\n    .dataframe tbody tr th {\n        vertical-align: top;\n    }\n\n    .dataframe thead th {\n        text-align: right;\n    }\n</style>\n<table border=\"1\" class=\"dataframe\">\n  <thead>\n    <tr style=\"text-align: right;\">\n      <th></th>\n      <th>A</th>\n      <th>B</th>\n    </tr>\n  </thead>\n  <tbody>\n    <tr>\n      <th>2013-01-01</th>\n      <td>1.662418</td>\n      <td>0.132887</td>\n    </tr>\n    <tr>\n      <th>2013-01-02</th>\n      <td>-0.250679</td>\n      <td>0.220744</td>\n    </tr>\n    <tr>\n      <th>2013-01-03</th>\n      <td>0.838332</td>\n      <td>0.494697</td>\n    </tr>\n    <tr>\n      <th>2013-01-04</th>\n      <td>0.255709</td>\n      <td>1.896188</td>\n    </tr>\n    <tr>\n      <th>2013-01-05</th>\n      <td>0.780017</td>\n      <td>-1.054972</td>\n    </tr>\n    <tr>\n      <th>2013-01-06</th>\n      <td>-1.280487</td>\n      <td>0.979442</td>\n    </tr>\n  </tbody>\n</table>\n</div>"
     },
     "execution_count": 914,
     "metadata": {},
     "output_type": "execute_result"
    }
   ],
   "source": [
    "df.loc[:, ['A', 'B']]"
   ],
   "metadata": {
    "collapsed": false,
    "pycharm": {
     "name": "#%%\n"
    }
   }
  },
  {
   "cell_type": "code",
   "execution_count": 915,
   "outputs": [
    {
     "data": {
      "text/plain": "                   A         B\n2013-01-02 -0.250679  0.220744\n2013-01-03  0.838332  0.494697\n2013-01-04  0.255709  1.896188",
      "text/html": "<div>\n<style scoped>\n    .dataframe tbody tr th:only-of-type {\n        vertical-align: middle;\n    }\n\n    .dataframe tbody tr th {\n        vertical-align: top;\n    }\n\n    .dataframe thead th {\n        text-align: right;\n    }\n</style>\n<table border=\"1\" class=\"dataframe\">\n  <thead>\n    <tr style=\"text-align: right;\">\n      <th></th>\n      <th>A</th>\n      <th>B</th>\n    </tr>\n  </thead>\n  <tbody>\n    <tr>\n      <th>2013-01-02</th>\n      <td>-0.250679</td>\n      <td>0.220744</td>\n    </tr>\n    <tr>\n      <th>2013-01-03</th>\n      <td>0.838332</td>\n      <td>0.494697</td>\n    </tr>\n    <tr>\n      <th>2013-01-04</th>\n      <td>0.255709</td>\n      <td>1.896188</td>\n    </tr>\n  </tbody>\n</table>\n</div>"
     },
     "execution_count": 915,
     "metadata": {},
     "output_type": "execute_result"
    }
   ],
   "source": [
    "df.loc['20130102':'20130104', ['A','B']]"
   ],
   "metadata": {
    "collapsed": false,
    "pycharm": {
     "name": "#%%\n"
    }
   }
  },
  {
   "cell_type": "code",
   "execution_count": 916,
   "outputs": [
    {
     "data": {
      "text/plain": "A   -0.250679\nB    0.220744\nName: 2013-01-02 00:00:00, dtype: float64"
     },
     "execution_count": 916,
     "metadata": {},
     "output_type": "execute_result"
    }
   ],
   "source": [
    "df.loc['20130102', ['A', 'B']]"
   ],
   "metadata": {
    "collapsed": false,
    "pycharm": {
     "name": "#%%\n"
    }
   }
  },
  {
   "cell_type": "code",
   "execution_count": 917,
   "outputs": [
    {
     "data": {
      "text/plain": "1.662418498031618"
     },
     "execution_count": 917,
     "metadata": {},
     "output_type": "execute_result"
    }
   ],
   "source": [
    "# 시리즈에서 A 추출\n",
    "# 이는 스칼라를 추출하는 것,\n",
    "df.loc[dates[0], 'A']"
   ],
   "metadata": {
    "collapsed": false,
    "pycharm": {
     "name": "#%%\n"
    }
   }
  },
  {
   "cell_type": "code",
   "execution_count": 918,
   "outputs": [
    {
     "data": {
      "text/plain": "1.662418498031618"
     },
     "execution_count": 918,
     "metadata": {},
     "output_type": "execute_result"
    }
   ],
   "source": [
    "# 스칼라는 at메소드를통해 구하면 더 빠르게 구할 수 있다\n",
    "df.at[dates[0], 'A']"
   ],
   "metadata": {
    "collapsed": false,
    "pycharm": {
     "name": "#%%\n"
    }
   }
  },
  {
   "cell_type": "code",
   "execution_count": 919,
   "outputs": [
    {
     "data": {
      "text/plain": "A    0.255709\nB    1.896188\nC   -0.486490\nD   -0.707720\nName: 2013-01-04 00:00:00, dtype: float64"
     },
     "execution_count": 919,
     "metadata": {},
     "output_type": "execute_result"
    }
   ],
   "source": [
    "# Selection By Position\n",
    "# 숫자를 이용해 선택하기\n",
    "df.iloc[3]"
   ],
   "metadata": {
    "collapsed": false,
    "pycharm": {
     "name": "#%%\n"
    }
   }
  },
  {
   "cell_type": "code",
   "execution_count": 920,
   "outputs": [
    {
     "data": {
      "text/plain": "                   A         B        C        D\n2013-01-04  0.255709  1.896188 -0.48649 -0.70772",
      "text/html": "<div>\n<style scoped>\n    .dataframe tbody tr th:only-of-type {\n        vertical-align: middle;\n    }\n\n    .dataframe tbody tr th {\n        vertical-align: top;\n    }\n\n    .dataframe thead th {\n        text-align: right;\n    }\n</style>\n<table border=\"1\" class=\"dataframe\">\n  <thead>\n    <tr style=\"text-align: right;\">\n      <th></th>\n      <th>A</th>\n      <th>B</th>\n      <th>C</th>\n      <th>D</th>\n    </tr>\n  </thead>\n  <tbody>\n    <tr>\n      <th>2013-01-04</th>\n      <td>0.255709</td>\n      <td>1.896188</td>\n      <td>-0.48649</td>\n      <td>-0.70772</td>\n    </tr>\n  </tbody>\n</table>\n</div>"
     },
     "execution_count": 920,
     "metadata": {},
     "output_type": "execute_result"
    }
   ],
   "source": [
    "# 역시 동일하게 배열이 아닌 값으로 넣으면 시리즈가 나오고\n",
    "# 배열을 넣으면 Dataframe으로 값이 나옴\n",
    "df.iloc[[3]]\n"
   ],
   "metadata": {
    "collapsed": false,
    "pycharm": {
     "name": "#%%\n"
    }
   }
  },
  {
   "cell_type": "code",
   "execution_count": 921,
   "outputs": [
    {
     "data": {
      "text/plain": "                   A         B\n2013-01-04  0.255709  1.896188\n2013-01-05  0.780017 -1.054972",
      "text/html": "<div>\n<style scoped>\n    .dataframe tbody tr th:only-of-type {\n        vertical-align: middle;\n    }\n\n    .dataframe tbody tr th {\n        vertical-align: top;\n    }\n\n    .dataframe thead th {\n        text-align: right;\n    }\n</style>\n<table border=\"1\" class=\"dataframe\">\n  <thead>\n    <tr style=\"text-align: right;\">\n      <th></th>\n      <th>A</th>\n      <th>B</th>\n    </tr>\n  </thead>\n  <tbody>\n    <tr>\n      <th>2013-01-04</th>\n      <td>0.255709</td>\n      <td>1.896188</td>\n    </tr>\n    <tr>\n      <th>2013-01-05</th>\n      <td>0.780017</td>\n      <td>-1.054972</td>\n    </tr>\n  </tbody>\n</table>\n</div>"
     },
     "execution_count": 921,
     "metadata": {},
     "output_type": "execute_result"
    }
   ],
   "source": [
    "# 정수로 슬라이싱\n",
    "df.iloc[3:5,0:2]\n"
   ],
   "metadata": {
    "collapsed": false,
    "pycharm": {
     "name": "#%%\n"
    }
   }
  },
  {
   "cell_type": "code",
   "execution_count": 922,
   "outputs": [
    {
     "data": {
      "text/plain": "                   A         C\n2013-01-02 -0.250679 -0.255427\n2013-01-03  0.838332 -0.526519\n2013-01-05  0.780017 -0.876066",
      "text/html": "<div>\n<style scoped>\n    .dataframe tbody tr th:only-of-type {\n        vertical-align: middle;\n    }\n\n    .dataframe tbody tr th {\n        vertical-align: top;\n    }\n\n    .dataframe thead th {\n        text-align: right;\n    }\n</style>\n<table border=\"1\" class=\"dataframe\">\n  <thead>\n    <tr style=\"text-align: right;\">\n      <th></th>\n      <th>A</th>\n      <th>C</th>\n    </tr>\n  </thead>\n  <tbody>\n    <tr>\n      <th>2013-01-02</th>\n      <td>-0.250679</td>\n      <td>-0.255427</td>\n    </tr>\n    <tr>\n      <th>2013-01-03</th>\n      <td>0.838332</td>\n      <td>-0.526519</td>\n    </tr>\n    <tr>\n      <th>2013-01-05</th>\n      <td>0.780017</td>\n      <td>-0.876066</td>\n    </tr>\n  </tbody>\n</table>\n</div>"
     },
     "execution_count": 922,
     "metadata": {},
     "output_type": "execute_result"
    }
   ],
   "source": [
    "# 특정 위치 가져오기\n",
    "df.iloc[[1,2,4],[0,2]]"
   ],
   "metadata": {
    "collapsed": false,
    "pycharm": {
     "name": "#%%\n"
    }
   }
  },
  {
   "cell_type": "code",
   "execution_count": 923,
   "outputs": [
    {
     "data": {
      "text/plain": "                   A         B         C         D\n2013-01-02 -0.250679  0.220744 -0.255427 -0.620003\n2013-01-03  0.838332  0.494697 -0.526519 -1.483515",
      "text/html": "<div>\n<style scoped>\n    .dataframe tbody tr th:only-of-type {\n        vertical-align: middle;\n    }\n\n    .dataframe tbody tr th {\n        vertical-align: top;\n    }\n\n    .dataframe thead th {\n        text-align: right;\n    }\n</style>\n<table border=\"1\" class=\"dataframe\">\n  <thead>\n    <tr style=\"text-align: right;\">\n      <th></th>\n      <th>A</th>\n      <th>B</th>\n      <th>C</th>\n      <th>D</th>\n    </tr>\n  </thead>\n  <tbody>\n    <tr>\n      <th>2013-01-02</th>\n      <td>-0.250679</td>\n      <td>0.220744</td>\n      <td>-0.255427</td>\n      <td>-0.620003</td>\n    </tr>\n    <tr>\n      <th>2013-01-03</th>\n      <td>0.838332</td>\n      <td>0.494697</td>\n      <td>-0.526519</td>\n      <td>-1.483515</td>\n    </tr>\n  </tbody>\n</table>\n</div>"
     },
     "execution_count": 923,
     "metadata": {},
     "output_type": "execute_result"
    }
   ],
   "source": [
    "# 명시적 슬라이싱\n",
    "df.iloc[1:3,:]"
   ],
   "metadata": {
    "collapsed": false,
    "pycharm": {
     "name": "#%%\n"
    }
   }
  },
  {
   "cell_type": "code",
   "execution_count": 924,
   "outputs": [
    {
     "data": {
      "text/plain": "                   B         C\n2013-01-01  0.132887  0.155900\n2013-01-02  0.220744 -0.255427\n2013-01-03  0.494697 -0.526519\n2013-01-04  1.896188 -0.486490\n2013-01-05 -1.054972 -0.876066\n2013-01-06  0.979442 -0.728822",
      "text/html": "<div>\n<style scoped>\n    .dataframe tbody tr th:only-of-type {\n        vertical-align: middle;\n    }\n\n    .dataframe tbody tr th {\n        vertical-align: top;\n    }\n\n    .dataframe thead th {\n        text-align: right;\n    }\n</style>\n<table border=\"1\" class=\"dataframe\">\n  <thead>\n    <tr style=\"text-align: right;\">\n      <th></th>\n      <th>B</th>\n      <th>C</th>\n    </tr>\n  </thead>\n  <tbody>\n    <tr>\n      <th>2013-01-01</th>\n      <td>0.132887</td>\n      <td>0.155900</td>\n    </tr>\n    <tr>\n      <th>2013-01-02</th>\n      <td>0.220744</td>\n      <td>-0.255427</td>\n    </tr>\n    <tr>\n      <th>2013-01-03</th>\n      <td>0.494697</td>\n      <td>-0.526519</td>\n    </tr>\n    <tr>\n      <th>2013-01-04</th>\n      <td>1.896188</td>\n      <td>-0.486490</td>\n    </tr>\n    <tr>\n      <th>2013-01-05</th>\n      <td>-1.054972</td>\n      <td>-0.876066</td>\n    </tr>\n    <tr>\n      <th>2013-01-06</th>\n      <td>0.979442</td>\n      <td>-0.728822</td>\n    </tr>\n  </tbody>\n</table>\n</div>"
     },
     "execution_count": 924,
     "metadata": {},
     "output_type": "execute_result"
    }
   ],
   "source": [
    "# 명시적 슬라이싱\n",
    "df.iloc[:,1:3]"
   ],
   "metadata": {
    "collapsed": false,
    "pycharm": {
     "name": "#%%\n"
    }
   }
  },
  {
   "cell_type": "code",
   "execution_count": 925,
   "outputs": [
    {
     "data": {
      "text/plain": "0.2207435817342603"
     },
     "execution_count": 925,
     "metadata": {},
     "output_type": "execute_result"
    }
   ],
   "source": [
    "# 스칼라(값) 얻기\n",
    "df.iloc[1,1]"
   ],
   "metadata": {
    "collapsed": false,
    "pycharm": {
     "name": "#%%\n"
    }
   }
  },
  {
   "cell_type": "code",
   "execution_count": 926,
   "outputs": [
    {
     "data": {
      "text/plain": "0.2207435817342603"
     },
     "execution_count": 926,
     "metadata": {},
     "output_type": "execute_result"
    }
   ],
   "source": [
    "# 역시 at더 빠름\n",
    "df.iat[1,1]"
   ],
   "metadata": {
    "collapsed": false,
    "pycharm": {
     "name": "#%%\n"
    }
   }
  },
  {
   "cell_type": "code",
   "execution_count": 927,
   "outputs": [
    {
     "data": {
      "text/plain": "                   A         B         C         D\n2013-01-01  1.662418  0.132887  0.155900  0.624545\n2013-01-03  0.838332  0.494697 -0.526519 -1.483515\n2013-01-04  0.255709  1.896188 -0.486490 -0.707720\n2013-01-05  0.780017 -1.054972 -0.876066  0.630361",
      "text/html": "<div>\n<style scoped>\n    .dataframe tbody tr th:only-of-type {\n        vertical-align: middle;\n    }\n\n    .dataframe tbody tr th {\n        vertical-align: top;\n    }\n\n    .dataframe thead th {\n        text-align: right;\n    }\n</style>\n<table border=\"1\" class=\"dataframe\">\n  <thead>\n    <tr style=\"text-align: right;\">\n      <th></th>\n      <th>A</th>\n      <th>B</th>\n      <th>C</th>\n      <th>D</th>\n    </tr>\n  </thead>\n  <tbody>\n    <tr>\n      <th>2013-01-01</th>\n      <td>1.662418</td>\n      <td>0.132887</td>\n      <td>0.155900</td>\n      <td>0.624545</td>\n    </tr>\n    <tr>\n      <th>2013-01-03</th>\n      <td>0.838332</td>\n      <td>0.494697</td>\n      <td>-0.526519</td>\n      <td>-1.483515</td>\n    </tr>\n    <tr>\n      <th>2013-01-04</th>\n      <td>0.255709</td>\n      <td>1.896188</td>\n      <td>-0.486490</td>\n      <td>-0.707720</td>\n    </tr>\n    <tr>\n      <th>2013-01-05</th>\n      <td>0.780017</td>\n      <td>-1.054972</td>\n      <td>-0.876066</td>\n      <td>0.630361</td>\n    </tr>\n  </tbody>\n</table>\n</div>"
     },
     "execution_count": 927,
     "metadata": {},
     "output_type": "execute_result"
    }
   ],
   "source": [
    "# 조건주기, 열 A에 대한\n",
    "df[df.A > 0]"
   ],
   "metadata": {
    "collapsed": false,
    "pycharm": {
     "name": "#%%\n"
    }
   }
  },
  {
   "cell_type": "code",
   "execution_count": 928,
   "outputs": [
    {
     "data": {
      "text/plain": "                   A         B       C         D\n2013-01-01  1.662418  0.132887  0.1559  0.624545\n2013-01-02       NaN  0.220744     NaN       NaN\n2013-01-03  0.838332  0.494697     NaN       NaN\n2013-01-04  0.255709  1.896188     NaN       NaN\n2013-01-05  0.780017       NaN     NaN  0.630361\n2013-01-06       NaN  0.979442     NaN       NaN",
      "text/html": "<div>\n<style scoped>\n    .dataframe tbody tr th:only-of-type {\n        vertical-align: middle;\n    }\n\n    .dataframe tbody tr th {\n        vertical-align: top;\n    }\n\n    .dataframe thead th {\n        text-align: right;\n    }\n</style>\n<table border=\"1\" class=\"dataframe\">\n  <thead>\n    <tr style=\"text-align: right;\">\n      <th></th>\n      <th>A</th>\n      <th>B</th>\n      <th>C</th>\n      <th>D</th>\n    </tr>\n  </thead>\n  <tbody>\n    <tr>\n      <th>2013-01-01</th>\n      <td>1.662418</td>\n      <td>0.132887</td>\n      <td>0.1559</td>\n      <td>0.624545</td>\n    </tr>\n    <tr>\n      <th>2013-01-02</th>\n      <td>NaN</td>\n      <td>0.220744</td>\n      <td>NaN</td>\n      <td>NaN</td>\n    </tr>\n    <tr>\n      <th>2013-01-03</th>\n      <td>0.838332</td>\n      <td>0.494697</td>\n      <td>NaN</td>\n      <td>NaN</td>\n    </tr>\n    <tr>\n      <th>2013-01-04</th>\n      <td>0.255709</td>\n      <td>1.896188</td>\n      <td>NaN</td>\n      <td>NaN</td>\n    </tr>\n    <tr>\n      <th>2013-01-05</th>\n      <td>0.780017</td>\n      <td>NaN</td>\n      <td>NaN</td>\n      <td>0.630361</td>\n    </tr>\n    <tr>\n      <th>2013-01-06</th>\n      <td>NaN</td>\n      <td>0.979442</td>\n      <td>NaN</td>\n      <td>NaN</td>\n    </tr>\n  </tbody>\n</table>\n</div>"
     },
     "execution_count": 928,
     "metadata": {},
     "output_type": "execute_result"
    }
   ],
   "source": [
    "# 전체 데이터프레임에 대한 조건주기\n",
    "df[df > 0]"
   ],
   "metadata": {
    "collapsed": false,
    "pycharm": {
     "name": "#%%\n"
    }
   }
  },
  {
   "cell_type": "code",
   "execution_count": 929,
   "outputs": [
    {
     "data": {
      "text/plain": "                   A         B         C         D      E\n2013-01-01  1.662418  0.132887  0.155900  0.624545    one\n2013-01-02 -0.250679  0.220744 -0.255427 -0.620003    one\n2013-01-03  0.838332  0.494697 -0.526519 -1.483515    two\n2013-01-04  0.255709  1.896188 -0.486490 -0.707720  three\n2013-01-05  0.780017 -1.054972 -0.876066  0.630361   four\n2013-01-06 -1.280487  0.979442 -0.728822 -0.782057   five",
      "text/html": "<div>\n<style scoped>\n    .dataframe tbody tr th:only-of-type {\n        vertical-align: middle;\n    }\n\n    .dataframe tbody tr th {\n        vertical-align: top;\n    }\n\n    .dataframe thead th {\n        text-align: right;\n    }\n</style>\n<table border=\"1\" class=\"dataframe\">\n  <thead>\n    <tr style=\"text-align: right;\">\n      <th></th>\n      <th>A</th>\n      <th>B</th>\n      <th>C</th>\n      <th>D</th>\n      <th>E</th>\n    </tr>\n  </thead>\n  <tbody>\n    <tr>\n      <th>2013-01-01</th>\n      <td>1.662418</td>\n      <td>0.132887</td>\n      <td>0.155900</td>\n      <td>0.624545</td>\n      <td>one</td>\n    </tr>\n    <tr>\n      <th>2013-01-02</th>\n      <td>-0.250679</td>\n      <td>0.220744</td>\n      <td>-0.255427</td>\n      <td>-0.620003</td>\n      <td>one</td>\n    </tr>\n    <tr>\n      <th>2013-01-03</th>\n      <td>0.838332</td>\n      <td>0.494697</td>\n      <td>-0.526519</td>\n      <td>-1.483515</td>\n      <td>two</td>\n    </tr>\n    <tr>\n      <th>2013-01-04</th>\n      <td>0.255709</td>\n      <td>1.896188</td>\n      <td>-0.486490</td>\n      <td>-0.707720</td>\n      <td>three</td>\n    </tr>\n    <tr>\n      <th>2013-01-05</th>\n      <td>0.780017</td>\n      <td>-1.054972</td>\n      <td>-0.876066</td>\n      <td>0.630361</td>\n      <td>four</td>\n    </tr>\n    <tr>\n      <th>2013-01-06</th>\n      <td>-1.280487</td>\n      <td>0.979442</td>\n      <td>-0.728822</td>\n      <td>-0.782057</td>\n      <td>five</td>\n    </tr>\n  </tbody>\n</table>\n</div>"
     },
     "execution_count": 929,
     "metadata": {},
     "output_type": "execute_result"
    }
   ],
   "source": [
    "df2 = df.copy()\n",
    "df2['E'] = ['one', 'one', 'two', 'three', 'four', 'five']\n",
    "df2"
   ],
   "metadata": {
    "collapsed": false,
    "pycharm": {
     "name": "#%%\n"
    }
   }
  },
  {
   "cell_type": "code",
   "execution_count": 930,
   "outputs": [
    {
     "data": {
      "text/plain": "                   A         B         C         D     E\n2013-01-03  0.838332  0.494697 -0.526519 -1.483515   two\n2013-01-05  0.780017 -1.054972 -0.876066  0.630361  four",
      "text/html": "<div>\n<style scoped>\n    .dataframe tbody tr th:only-of-type {\n        vertical-align: middle;\n    }\n\n    .dataframe tbody tr th {\n        vertical-align: top;\n    }\n\n    .dataframe thead th {\n        text-align: right;\n    }\n</style>\n<table border=\"1\" class=\"dataframe\">\n  <thead>\n    <tr style=\"text-align: right;\">\n      <th></th>\n      <th>A</th>\n      <th>B</th>\n      <th>C</th>\n      <th>D</th>\n      <th>E</th>\n    </tr>\n  </thead>\n  <tbody>\n    <tr>\n      <th>2013-01-03</th>\n      <td>0.838332</td>\n      <td>0.494697</td>\n      <td>-0.526519</td>\n      <td>-1.483515</td>\n      <td>two</td>\n    </tr>\n    <tr>\n      <th>2013-01-05</th>\n      <td>0.780017</td>\n      <td>-1.054972</td>\n      <td>-0.876066</td>\n      <td>0.630361</td>\n      <td>four</td>\n    </tr>\n  </tbody>\n</table>\n</div>"
     },
     "execution_count": 930,
     "metadata": {},
     "output_type": "execute_result"
    }
   ],
   "source": [
    "df2[df2['E'].isin(['two', 'four'])]"
   ],
   "metadata": {
    "collapsed": false,
    "pycharm": {
     "name": "#%%\n"
    }
   }
  },
  {
   "cell_type": "code",
   "execution_count": 931,
   "outputs": [
    {
     "data": {
      "text/plain": "2013-01-02    1\n2013-01-03    2\n2013-01-04    3\n2013-01-05    4\n2013-01-06    5\n2013-01-07    6\nFreq: D, dtype: int64"
     },
     "execution_count": 931,
     "metadata": {},
     "output_type": "execute_result"
    }
   ],
   "source": [
    "# 시리즈에 인덱스를 주면 인덱스로 자동정렬\n",
    "s1 = pd.Series([1,2,3,4,5,6], index=pd.date_range('20130102', periods=6))\n",
    "s1"
   ],
   "metadata": {
    "collapsed": false,
    "pycharm": {
     "name": "#%%\n"
    }
   }
  },
  {
   "cell_type": "code",
   "execution_count": 932,
   "outputs": [],
   "source": [
    "df['F'] = s1"
   ],
   "metadata": {
    "collapsed": false,
    "pycharm": {
     "name": "#%%\n"
    }
   }
  },
  {
   "cell_type": "code",
   "execution_count": 933,
   "outputs": [
    {
     "data": {
      "text/plain": "                   A         B         C         D    F\n2013-01-01  0.000000  0.132887  0.155900  0.624545  NaN\n2013-01-02 -0.250679  0.220744 -0.255427 -0.620003  1.0\n2013-01-03  0.838332  0.494697 -0.526519 -1.483515  2.0\n2013-01-04  0.255709  1.896188 -0.486490 -0.707720  3.0\n2013-01-05  0.780017 -1.054972 -0.876066  0.630361  4.0\n2013-01-06 -1.280487  0.979442 -0.728822 -0.782057  5.0",
      "text/html": "<div>\n<style scoped>\n    .dataframe tbody tr th:only-of-type {\n        vertical-align: middle;\n    }\n\n    .dataframe tbody tr th {\n        vertical-align: top;\n    }\n\n    .dataframe thead th {\n        text-align: right;\n    }\n</style>\n<table border=\"1\" class=\"dataframe\">\n  <thead>\n    <tr style=\"text-align: right;\">\n      <th></th>\n      <th>A</th>\n      <th>B</th>\n      <th>C</th>\n      <th>D</th>\n      <th>F</th>\n    </tr>\n  </thead>\n  <tbody>\n    <tr>\n      <th>2013-01-01</th>\n      <td>0.000000</td>\n      <td>0.132887</td>\n      <td>0.155900</td>\n      <td>0.624545</td>\n      <td>NaN</td>\n    </tr>\n    <tr>\n      <th>2013-01-02</th>\n      <td>-0.250679</td>\n      <td>0.220744</td>\n      <td>-0.255427</td>\n      <td>-0.620003</td>\n      <td>1.0</td>\n    </tr>\n    <tr>\n      <th>2013-01-03</th>\n      <td>0.838332</td>\n      <td>0.494697</td>\n      <td>-0.526519</td>\n      <td>-1.483515</td>\n      <td>2.0</td>\n    </tr>\n    <tr>\n      <th>2013-01-04</th>\n      <td>0.255709</td>\n      <td>1.896188</td>\n      <td>-0.486490</td>\n      <td>-0.707720</td>\n      <td>3.0</td>\n    </tr>\n    <tr>\n      <th>2013-01-05</th>\n      <td>0.780017</td>\n      <td>-1.054972</td>\n      <td>-0.876066</td>\n      <td>0.630361</td>\n      <td>4.0</td>\n    </tr>\n    <tr>\n      <th>2013-01-06</th>\n      <td>-1.280487</td>\n      <td>0.979442</td>\n      <td>-0.728822</td>\n      <td>-0.782057</td>\n      <td>5.0</td>\n    </tr>\n  </tbody>\n</table>\n</div>"
     },
     "execution_count": 933,
     "metadata": {},
     "output_type": "execute_result"
    }
   ],
   "source": [
    "# label로 값 설정\n",
    "df.at[dates[0], 'A'] = 0\n",
    "df"
   ],
   "metadata": {
    "collapsed": false,
    "pycharm": {
     "name": "#%%\n"
    }
   }
  },
  {
   "cell_type": "code",
   "execution_count": 934,
   "outputs": [
    {
     "data": {
      "text/plain": "                   A         B         C         D    F\n2013-01-01  0.000000  0.000000  0.155900  0.624545  NaN\n2013-01-02 -0.250679  0.220744 -0.255427 -0.620003  1.0\n2013-01-03  0.838332  0.494697 -0.526519 -1.483515  2.0\n2013-01-04  0.255709  1.896188 -0.486490 -0.707720  3.0\n2013-01-05  0.780017 -1.054972 -0.876066  0.630361  4.0\n2013-01-06 -1.280487  0.979442 -0.728822 -0.782057  5.0",
      "text/html": "<div>\n<style scoped>\n    .dataframe tbody tr th:only-of-type {\n        vertical-align: middle;\n    }\n\n    .dataframe tbody tr th {\n        vertical-align: top;\n    }\n\n    .dataframe thead th {\n        text-align: right;\n    }\n</style>\n<table border=\"1\" class=\"dataframe\">\n  <thead>\n    <tr style=\"text-align: right;\">\n      <th></th>\n      <th>A</th>\n      <th>B</th>\n      <th>C</th>\n      <th>D</th>\n      <th>F</th>\n    </tr>\n  </thead>\n  <tbody>\n    <tr>\n      <th>2013-01-01</th>\n      <td>0.000000</td>\n      <td>0.000000</td>\n      <td>0.155900</td>\n      <td>0.624545</td>\n      <td>NaN</td>\n    </tr>\n    <tr>\n      <th>2013-01-02</th>\n      <td>-0.250679</td>\n      <td>0.220744</td>\n      <td>-0.255427</td>\n      <td>-0.620003</td>\n      <td>1.0</td>\n    </tr>\n    <tr>\n      <th>2013-01-03</th>\n      <td>0.838332</td>\n      <td>0.494697</td>\n      <td>-0.526519</td>\n      <td>-1.483515</td>\n      <td>2.0</td>\n    </tr>\n    <tr>\n      <th>2013-01-04</th>\n      <td>0.255709</td>\n      <td>1.896188</td>\n      <td>-0.486490</td>\n      <td>-0.707720</td>\n      <td>3.0</td>\n    </tr>\n    <tr>\n      <th>2013-01-05</th>\n      <td>0.780017</td>\n      <td>-1.054972</td>\n      <td>-0.876066</td>\n      <td>0.630361</td>\n      <td>4.0</td>\n    </tr>\n    <tr>\n      <th>2013-01-06</th>\n      <td>-1.280487</td>\n      <td>0.979442</td>\n      <td>-0.728822</td>\n      <td>-0.782057</td>\n      <td>5.0</td>\n    </tr>\n  </tbody>\n</table>\n</div>"
     },
     "execution_count": 934,
     "metadata": {},
     "output_type": "execute_result"
    }
   ],
   "source": [
    "# 위치로 값 설정\n",
    "df.iat[0, 1] = 0\n",
    "df"
   ],
   "metadata": {
    "collapsed": false,
    "pycharm": {
     "name": "#%%\n"
    }
   }
  },
  {
   "cell_type": "code",
   "execution_count": 935,
   "outputs": [
    {
     "data": {
      "text/plain": "                   A         B         C         D    F\n2013-01-01  0.000000  0.000000  0.000000  0.624545  NaN\n2013-01-02 -0.250679  0.220744 -0.255427 -0.620003  1.0\n2013-01-03  0.838332  0.494697 -0.526519 -1.483515  2.0\n2013-01-04  0.255709  1.896188 -0.486490 -0.707720  3.0\n2013-01-05  0.780017 -1.054972 -0.876066  0.630361  4.0\n2013-01-06 -1.280487  0.979442 -0.728822 -0.782057  5.0",
      "text/html": "<div>\n<style scoped>\n    .dataframe tbody tr th:only-of-type {\n        vertical-align: middle;\n    }\n\n    .dataframe tbody tr th {\n        vertical-align: top;\n    }\n\n    .dataframe thead th {\n        text-align: right;\n    }\n</style>\n<table border=\"1\" class=\"dataframe\">\n  <thead>\n    <tr style=\"text-align: right;\">\n      <th></th>\n      <th>A</th>\n      <th>B</th>\n      <th>C</th>\n      <th>D</th>\n      <th>F</th>\n    </tr>\n  </thead>\n  <tbody>\n    <tr>\n      <th>2013-01-01</th>\n      <td>0.000000</td>\n      <td>0.000000</td>\n      <td>0.000000</td>\n      <td>0.624545</td>\n      <td>NaN</td>\n    </tr>\n    <tr>\n      <th>2013-01-02</th>\n      <td>-0.250679</td>\n      <td>0.220744</td>\n      <td>-0.255427</td>\n      <td>-0.620003</td>\n      <td>1.0</td>\n    </tr>\n    <tr>\n      <th>2013-01-03</th>\n      <td>0.838332</td>\n      <td>0.494697</td>\n      <td>-0.526519</td>\n      <td>-1.483515</td>\n      <td>2.0</td>\n    </tr>\n    <tr>\n      <th>2013-01-04</th>\n      <td>0.255709</td>\n      <td>1.896188</td>\n      <td>-0.486490</td>\n      <td>-0.707720</td>\n      <td>3.0</td>\n    </tr>\n    <tr>\n      <th>2013-01-05</th>\n      <td>0.780017</td>\n      <td>-1.054972</td>\n      <td>-0.876066</td>\n      <td>0.630361</td>\n      <td>4.0</td>\n    </tr>\n    <tr>\n      <th>2013-01-06</th>\n      <td>-1.280487</td>\n      <td>0.979442</td>\n      <td>-0.728822</td>\n      <td>-0.782057</td>\n      <td>5.0</td>\n    </tr>\n  </tbody>\n</table>\n</div>"
     },
     "execution_count": 935,
     "metadata": {},
     "output_type": "execute_result"
    }
   ],
   "source": [
    "# at메소드가 아닌 loc메소드로도 값 대입 가능\n",
    "df.iloc[0, 2] = 0\n",
    "df"
   ],
   "metadata": {
    "collapsed": false,
    "pycharm": {
     "name": "#%%\n"
    }
   }
  },
  {
   "cell_type": "code",
   "execution_count": 936,
   "outputs": [
    {
     "data": {
      "text/plain": "                   A         B         C  D    F\n2013-01-01  0.000000  0.000000  0.000000  5  NaN\n2013-01-02 -0.250679  0.220744 -0.255427  5  1.0\n2013-01-03  0.838332  0.494697 -0.526519  5  2.0\n2013-01-04  0.255709  1.896188 -0.486490  5  3.0\n2013-01-05  0.780017 -1.054972 -0.876066  5  4.0\n2013-01-06 -1.280487  0.979442 -0.728822  5  5.0",
      "text/html": "<div>\n<style scoped>\n    .dataframe tbody tr th:only-of-type {\n        vertical-align: middle;\n    }\n\n    .dataframe tbody tr th {\n        vertical-align: top;\n    }\n\n    .dataframe thead th {\n        text-align: right;\n    }\n</style>\n<table border=\"1\" class=\"dataframe\">\n  <thead>\n    <tr style=\"text-align: right;\">\n      <th></th>\n      <th>A</th>\n      <th>B</th>\n      <th>C</th>\n      <th>D</th>\n      <th>F</th>\n    </tr>\n  </thead>\n  <tbody>\n    <tr>\n      <th>2013-01-01</th>\n      <td>0.000000</td>\n      <td>0.000000</td>\n      <td>0.000000</td>\n      <td>5</td>\n      <td>NaN</td>\n    </tr>\n    <tr>\n      <th>2013-01-02</th>\n      <td>-0.250679</td>\n      <td>0.220744</td>\n      <td>-0.255427</td>\n      <td>5</td>\n      <td>1.0</td>\n    </tr>\n    <tr>\n      <th>2013-01-03</th>\n      <td>0.838332</td>\n      <td>0.494697</td>\n      <td>-0.526519</td>\n      <td>5</td>\n      <td>2.0</td>\n    </tr>\n    <tr>\n      <th>2013-01-04</th>\n      <td>0.255709</td>\n      <td>1.896188</td>\n      <td>-0.486490</td>\n      <td>5</td>\n      <td>3.0</td>\n    </tr>\n    <tr>\n      <th>2013-01-05</th>\n      <td>0.780017</td>\n      <td>-1.054972</td>\n      <td>-0.876066</td>\n      <td>5</td>\n      <td>4.0</td>\n    </tr>\n    <tr>\n      <th>2013-01-06</th>\n      <td>-1.280487</td>\n      <td>0.979442</td>\n      <td>-0.728822</td>\n      <td>5</td>\n      <td>5.0</td>\n    </tr>\n  </tbody>\n</table>\n</div>"
     },
     "execution_count": 936,
     "metadata": {},
     "output_type": "execute_result"
    }
   ],
   "source": [
    "df.loc[:, 'D'] = np.array([5] * len(df))\n",
    "df"
   ],
   "metadata": {
    "collapsed": false,
    "pycharm": {
     "name": "#%%\n"
    }
   }
  },
  {
   "cell_type": "code",
   "execution_count": 937,
   "outputs": [
    {
     "data": {
      "text/plain": "                   A         B         C  D    F\n2013-01-01  0.000000  0.000000  0.000000 -5  NaN\n2013-01-02 -0.250679 -0.220744 -0.255427 -5 -1.0\n2013-01-03 -0.838332 -0.494697 -0.526519 -5 -2.0\n2013-01-04 -0.255709 -1.896188 -0.486490 -5 -3.0\n2013-01-05 -0.780017 -1.054972 -0.876066 -5 -4.0\n2013-01-06 -1.280487 -0.979442 -0.728822 -5 -5.0",
      "text/html": "<div>\n<style scoped>\n    .dataframe tbody tr th:only-of-type {\n        vertical-align: middle;\n    }\n\n    .dataframe tbody tr th {\n        vertical-align: top;\n    }\n\n    .dataframe thead th {\n        text-align: right;\n    }\n</style>\n<table border=\"1\" class=\"dataframe\">\n  <thead>\n    <tr style=\"text-align: right;\">\n      <th></th>\n      <th>A</th>\n      <th>B</th>\n      <th>C</th>\n      <th>D</th>\n      <th>F</th>\n    </tr>\n  </thead>\n  <tbody>\n    <tr>\n      <th>2013-01-01</th>\n      <td>0.000000</td>\n      <td>0.000000</td>\n      <td>0.000000</td>\n      <td>-5</td>\n      <td>NaN</td>\n    </tr>\n    <tr>\n      <th>2013-01-02</th>\n      <td>-0.250679</td>\n      <td>-0.220744</td>\n      <td>-0.255427</td>\n      <td>-5</td>\n      <td>-1.0</td>\n    </tr>\n    <tr>\n      <th>2013-01-03</th>\n      <td>-0.838332</td>\n      <td>-0.494697</td>\n      <td>-0.526519</td>\n      <td>-5</td>\n      <td>-2.0</td>\n    </tr>\n    <tr>\n      <th>2013-01-04</th>\n      <td>-0.255709</td>\n      <td>-1.896188</td>\n      <td>-0.486490</td>\n      <td>-5</td>\n      <td>-3.0</td>\n    </tr>\n    <tr>\n      <th>2013-01-05</th>\n      <td>-0.780017</td>\n      <td>-1.054972</td>\n      <td>-0.876066</td>\n      <td>-5</td>\n      <td>-4.0</td>\n    </tr>\n    <tr>\n      <th>2013-01-06</th>\n      <td>-1.280487</td>\n      <td>-0.979442</td>\n      <td>-0.728822</td>\n      <td>-5</td>\n      <td>-5.0</td>\n    </tr>\n  </tbody>\n</table>\n</div>"
     },
     "execution_count": 937,
     "metadata": {},
     "output_type": "execute_result"
    }
   ],
   "source": [
    "df2 = df.copy()\n",
    "df2[df2 > 0] = -df2\n",
    "df2"
   ],
   "metadata": {
    "collapsed": false,
    "pycharm": {
     "name": "#%%\n"
    }
   }
  },
  {
   "cell_type": "code",
   "execution_count": 938,
   "outputs": [
    {
     "data": {
      "text/plain": "                   A         B         C  D    E\n2013-01-01  0.000000  0.000000  0.000000  5  1.0\n2013-01-02 -0.250679  0.220744 -0.255427  5  1.0\n2013-01-03  0.838332  0.494697 -0.526519  5  NaN\n2013-01-04  0.255709  1.896188 -0.486490  5  NaN",
      "text/html": "<div>\n<style scoped>\n    .dataframe tbody tr th:only-of-type {\n        vertical-align: middle;\n    }\n\n    .dataframe tbody tr th {\n        vertical-align: top;\n    }\n\n    .dataframe thead th {\n        text-align: right;\n    }\n</style>\n<table border=\"1\" class=\"dataframe\">\n  <thead>\n    <tr style=\"text-align: right;\">\n      <th></th>\n      <th>A</th>\n      <th>B</th>\n      <th>C</th>\n      <th>D</th>\n      <th>E</th>\n    </tr>\n  </thead>\n  <tbody>\n    <tr>\n      <th>2013-01-01</th>\n      <td>0.000000</td>\n      <td>0.000000</td>\n      <td>0.000000</td>\n      <td>5</td>\n      <td>1.0</td>\n    </tr>\n    <tr>\n      <th>2013-01-02</th>\n      <td>-0.250679</td>\n      <td>0.220744</td>\n      <td>-0.255427</td>\n      <td>5</td>\n      <td>1.0</td>\n    </tr>\n    <tr>\n      <th>2013-01-03</th>\n      <td>0.838332</td>\n      <td>0.494697</td>\n      <td>-0.526519</td>\n      <td>5</td>\n      <td>NaN</td>\n    </tr>\n    <tr>\n      <th>2013-01-04</th>\n      <td>0.255709</td>\n      <td>1.896188</td>\n      <td>-0.486490</td>\n      <td>5</td>\n      <td>NaN</td>\n    </tr>\n  </tbody>\n</table>\n</div>"
     },
     "execution_count": 938,
     "metadata": {},
     "output_type": "execute_result"
    }
   ],
   "source": [
    "# 결측치는 np.nan으로 표현된다. 계산에는 포함되지 않는다.\n",
    "# Reindexing을 통해 인덱스를 변경 가능하다\n",
    "df1 = df.reindex(index=dates[0:4], columns=['A', 'B', 'C', 'D'] + ['E'])\n",
    "df1.loc[dates[0]:dates[1], 'E'] = 1\n",
    "df1"
   ],
   "metadata": {
    "collapsed": false,
    "pycharm": {
     "name": "#%%\n"
    }
   }
  },
  {
   "cell_type": "code",
   "execution_count": 939,
   "outputs": [
    {
     "data": {
      "text/plain": "                   A         B         C  D    E\n2013-01-01  0.000000  0.000000  0.000000  5  1.0\n2013-01-02 -0.250679  0.220744 -0.255427  5  1.0",
      "text/html": "<div>\n<style scoped>\n    .dataframe tbody tr th:only-of-type {\n        vertical-align: middle;\n    }\n\n    .dataframe tbody tr th {\n        vertical-align: top;\n    }\n\n    .dataframe thead th {\n        text-align: right;\n    }\n</style>\n<table border=\"1\" class=\"dataframe\">\n  <thead>\n    <tr style=\"text-align: right;\">\n      <th></th>\n      <th>A</th>\n      <th>B</th>\n      <th>C</th>\n      <th>D</th>\n      <th>E</th>\n    </tr>\n  </thead>\n  <tbody>\n    <tr>\n      <th>2013-01-01</th>\n      <td>0.000000</td>\n      <td>0.000000</td>\n      <td>0.000000</td>\n      <td>5</td>\n      <td>1.0</td>\n    </tr>\n    <tr>\n      <th>2013-01-02</th>\n      <td>-0.250679</td>\n      <td>0.220744</td>\n      <td>-0.255427</td>\n      <td>5</td>\n      <td>1.0</td>\n    </tr>\n  </tbody>\n</table>\n</div>"
     },
     "execution_count": 939,
     "metadata": {},
     "output_type": "execute_result"
    }
   ],
   "source": [
    "# 결측치가 있는 행을 지운다\n",
    "df1.dropna(how='any')"
   ],
   "metadata": {
    "collapsed": false,
    "pycharm": {
     "name": "#%%\n"
    }
   }
  },
  {
   "cell_type": "code",
   "execution_count": 940,
   "outputs": [
    {
     "data": {
      "text/plain": "                   A         B         C  D    E\n2013-01-01  0.000000  0.000000  0.000000  5  1.0\n2013-01-02 -0.250679  0.220744 -0.255427  5  1.0\n2013-01-03  0.838332  0.494697 -0.526519  5  5.0\n2013-01-04  0.255709  1.896188 -0.486490  5  5.0",
      "text/html": "<div>\n<style scoped>\n    .dataframe tbody tr th:only-of-type {\n        vertical-align: middle;\n    }\n\n    .dataframe tbody tr th {\n        vertical-align: top;\n    }\n\n    .dataframe thead th {\n        text-align: right;\n    }\n</style>\n<table border=\"1\" class=\"dataframe\">\n  <thead>\n    <tr style=\"text-align: right;\">\n      <th></th>\n      <th>A</th>\n      <th>B</th>\n      <th>C</th>\n      <th>D</th>\n      <th>E</th>\n    </tr>\n  </thead>\n  <tbody>\n    <tr>\n      <th>2013-01-01</th>\n      <td>0.000000</td>\n      <td>0.000000</td>\n      <td>0.000000</td>\n      <td>5</td>\n      <td>1.0</td>\n    </tr>\n    <tr>\n      <th>2013-01-02</th>\n      <td>-0.250679</td>\n      <td>0.220744</td>\n      <td>-0.255427</td>\n      <td>5</td>\n      <td>1.0</td>\n    </tr>\n    <tr>\n      <th>2013-01-03</th>\n      <td>0.838332</td>\n      <td>0.494697</td>\n      <td>-0.526519</td>\n      <td>5</td>\n      <td>5.0</td>\n    </tr>\n    <tr>\n      <th>2013-01-04</th>\n      <td>0.255709</td>\n      <td>1.896188</td>\n      <td>-0.486490</td>\n      <td>5</td>\n      <td>5.0</td>\n    </tr>\n  </tbody>\n</table>\n</div>"
     },
     "execution_count": 940,
     "metadata": {},
     "output_type": "execute_result"
    }
   ],
   "source": [
    "# 결측치를 채운다\n",
    "df1.fillna(value=5)"
   ],
   "metadata": {
    "collapsed": false,
    "pycharm": {
     "name": "#%%\n"
    }
   }
  },
  {
   "cell_type": "code",
   "execution_count": 941,
   "outputs": [
    {
     "data": {
      "text/plain": "                A      B      C      D      E\n2013-01-01  False  False  False  False  False\n2013-01-02  False  False  False  False  False\n2013-01-03  False  False  False  False   True\n2013-01-04  False  False  False  False   True",
      "text/html": "<div>\n<style scoped>\n    .dataframe tbody tr th:only-of-type {\n        vertical-align: middle;\n    }\n\n    .dataframe tbody tr th {\n        vertical-align: top;\n    }\n\n    .dataframe thead th {\n        text-align: right;\n    }\n</style>\n<table border=\"1\" class=\"dataframe\">\n  <thead>\n    <tr style=\"text-align: right;\">\n      <th></th>\n      <th>A</th>\n      <th>B</th>\n      <th>C</th>\n      <th>D</th>\n      <th>E</th>\n    </tr>\n  </thead>\n  <tbody>\n    <tr>\n      <th>2013-01-01</th>\n      <td>False</td>\n      <td>False</td>\n      <td>False</td>\n      <td>False</td>\n      <td>False</td>\n    </tr>\n    <tr>\n      <th>2013-01-02</th>\n      <td>False</td>\n      <td>False</td>\n      <td>False</td>\n      <td>False</td>\n      <td>False</td>\n    </tr>\n    <tr>\n      <th>2013-01-03</th>\n      <td>False</td>\n      <td>False</td>\n      <td>False</td>\n      <td>False</td>\n      <td>True</td>\n    </tr>\n    <tr>\n      <th>2013-01-04</th>\n      <td>False</td>\n      <td>False</td>\n      <td>False</td>\n      <td>False</td>\n      <td>True</td>\n    </tr>\n  </tbody>\n</table>\n</div>"
     },
     "execution_count": 941,
     "metadata": {},
     "output_type": "execute_result"
    }
   ],
   "source": [
    "# Boolean Dataframe을 얻는다. 결측치가 있는 스칼라는 True가 됨\n",
    "pd.isna(df1)\n"
   ],
   "metadata": {
    "collapsed": false,
    "pycharm": {
     "name": "#%%\n"
    }
   }
  },
  {
   "cell_type": "code",
   "execution_count": 942,
   "outputs": [
    {
     "data": {
      "text/plain": "A    0.057148\nB    0.422683\nC   -0.478887\nD    5.000000\nF    3.000000\ndtype: float64"
     },
     "execution_count": 942,
     "metadata": {},
     "output_type": "execute_result"
    }
   ],
   "source": [
    "# Operation\n",
    "\n",
    "# mean메소드, 파라미터로 axis가 들어감 default는 axis=0\n",
    "df.mean() # Series"
   ],
   "metadata": {
    "collapsed": false,
    "pycharm": {
     "name": "#%%\n"
    }
   }
  },
  {
   "cell_type": "code",
   "execution_count": 943,
   "outputs": [
    {
     "data": {
      "text/plain": "2013-01-01    1.250000\n2013-01-02    1.142927\n2013-01-03    1.561302\n2013-01-04    1.933082\n2013-01-05    1.569796\n2013-01-06    1.794026\nFreq: D, dtype: float64"
     },
     "execution_count": 943,
     "metadata": {},
     "output_type": "execute_result"
    }
   ],
   "source": [
    "df.mean(axis=1)"
   ],
   "metadata": {
    "collapsed": false,
    "pycharm": {
     "name": "#%%\n"
    }
   }
  },
  {
   "cell_type": "code",
   "execution_count": 944,
   "outputs": [
    {
     "data": {
      "text/plain": "2013-01-01    NaN\n2013-01-02    NaN\n2013-01-03    1.0\n2013-01-04    3.0\n2013-01-05    5.0\n2013-01-06    NaN\nFreq: D, dtype: float64"
     },
     "execution_count": 944,
     "metadata": {},
     "output_type": "execute_result"
    }
   ],
   "source": [
    "s = pd.Series([1, 3, 5, np.nan, 6, 8], index=dates).shift(2)\n",
    "s"
   ],
   "metadata": {
    "collapsed": false,
    "pycharm": {
     "name": "#%%\n"
    }
   }
  },
  {
   "cell_type": "code",
   "execution_count": 945,
   "outputs": [
    {
     "data": {
      "text/plain": "                   A         B         C  D    F\n2013-01-01  0.000000  0.000000  0.000000  5  NaN\n2013-01-02 -0.250679  0.220744 -0.255427  5  1.0\n2013-01-03  0.838332  0.494697 -0.526519  5  2.0\n2013-01-04  0.255709  1.896188 -0.486490  5  3.0\n2013-01-05  0.780017 -1.054972 -0.876066  5  4.0\n2013-01-06 -1.280487  0.979442 -0.728822  5  5.0",
      "text/html": "<div>\n<style scoped>\n    .dataframe tbody tr th:only-of-type {\n        vertical-align: middle;\n    }\n\n    .dataframe tbody tr th {\n        vertical-align: top;\n    }\n\n    .dataframe thead th {\n        text-align: right;\n    }\n</style>\n<table border=\"1\" class=\"dataframe\">\n  <thead>\n    <tr style=\"text-align: right;\">\n      <th></th>\n      <th>A</th>\n      <th>B</th>\n      <th>C</th>\n      <th>D</th>\n      <th>F</th>\n    </tr>\n  </thead>\n  <tbody>\n    <tr>\n      <th>2013-01-01</th>\n      <td>0.000000</td>\n      <td>0.000000</td>\n      <td>0.000000</td>\n      <td>5</td>\n      <td>NaN</td>\n    </tr>\n    <tr>\n      <th>2013-01-02</th>\n      <td>-0.250679</td>\n      <td>0.220744</td>\n      <td>-0.255427</td>\n      <td>5</td>\n      <td>1.0</td>\n    </tr>\n    <tr>\n      <th>2013-01-03</th>\n      <td>0.838332</td>\n      <td>0.494697</td>\n      <td>-0.526519</td>\n      <td>5</td>\n      <td>2.0</td>\n    </tr>\n    <tr>\n      <th>2013-01-04</th>\n      <td>0.255709</td>\n      <td>1.896188</td>\n      <td>-0.486490</td>\n      <td>5</td>\n      <td>3.0</td>\n    </tr>\n    <tr>\n      <th>2013-01-05</th>\n      <td>0.780017</td>\n      <td>-1.054972</td>\n      <td>-0.876066</td>\n      <td>5</td>\n      <td>4.0</td>\n    </tr>\n    <tr>\n      <th>2013-01-06</th>\n      <td>-1.280487</td>\n      <td>0.979442</td>\n      <td>-0.728822</td>\n      <td>5</td>\n      <td>5.0</td>\n    </tr>\n  </tbody>\n</table>\n</div>"
     },
     "execution_count": 945,
     "metadata": {},
     "output_type": "execute_result"
    }
   ],
   "source": [
    "df"
   ],
   "metadata": {
    "collapsed": false,
    "pycharm": {
     "name": "#%%\n"
    }
   }
  },
  {
   "cell_type": "code",
   "execution_count": 946,
   "outputs": [
    {
     "data": {
      "text/plain": "                   A         B         C    D    F\n2013-01-01       NaN       NaN       NaN  NaN  NaN\n2013-01-02       NaN       NaN       NaN  NaN  NaN\n2013-01-03 -0.161668 -0.505303 -1.526519  4.0  1.0\n2013-01-04 -2.744291 -1.103812 -3.486490  2.0  0.0\n2013-01-05 -4.219983 -6.054972 -5.876066  0.0 -1.0\n2013-01-06       NaN       NaN       NaN  NaN  NaN",
      "text/html": "<div>\n<style scoped>\n    .dataframe tbody tr th:only-of-type {\n        vertical-align: middle;\n    }\n\n    .dataframe tbody tr th {\n        vertical-align: top;\n    }\n\n    .dataframe thead th {\n        text-align: right;\n    }\n</style>\n<table border=\"1\" class=\"dataframe\">\n  <thead>\n    <tr style=\"text-align: right;\">\n      <th></th>\n      <th>A</th>\n      <th>B</th>\n      <th>C</th>\n      <th>D</th>\n      <th>F</th>\n    </tr>\n  </thead>\n  <tbody>\n    <tr>\n      <th>2013-01-01</th>\n      <td>NaN</td>\n      <td>NaN</td>\n      <td>NaN</td>\n      <td>NaN</td>\n      <td>NaN</td>\n    </tr>\n    <tr>\n      <th>2013-01-02</th>\n      <td>NaN</td>\n      <td>NaN</td>\n      <td>NaN</td>\n      <td>NaN</td>\n      <td>NaN</td>\n    </tr>\n    <tr>\n      <th>2013-01-03</th>\n      <td>-0.161668</td>\n      <td>-0.505303</td>\n      <td>-1.526519</td>\n      <td>4.0</td>\n      <td>1.0</td>\n    </tr>\n    <tr>\n      <th>2013-01-04</th>\n      <td>-2.744291</td>\n      <td>-1.103812</td>\n      <td>-3.486490</td>\n      <td>2.0</td>\n      <td>0.0</td>\n    </tr>\n    <tr>\n      <th>2013-01-05</th>\n      <td>-4.219983</td>\n      <td>-6.054972</td>\n      <td>-5.876066</td>\n      <td>0.0</td>\n      <td>-1.0</td>\n    </tr>\n    <tr>\n      <th>2013-01-06</th>\n      <td>NaN</td>\n      <td>NaN</td>\n      <td>NaN</td>\n      <td>NaN</td>\n      <td>NaN</td>\n    </tr>\n  </tbody>\n</table>\n</div>"
     },
     "execution_count": 946,
     "metadata": {},
     "output_type": "execute_result"
    }
   ],
   "source": [
    "df.sub(s, axis='index')"
   ],
   "metadata": {
    "collapsed": false,
    "pycharm": {
     "name": "#%%\n"
    }
   }
  },
  {
   "cell_type": "code",
   "execution_count": 947,
   "outputs": [
    {
     "data": {
      "text/plain": "                   A         B         C   D     F\n2013-01-01  0.000000  0.000000  0.000000   5   NaN\n2013-01-02 -0.250679  0.220744 -0.255427  10   1.0\n2013-01-03  0.587652  0.715441 -0.781946  15   3.0\n2013-01-04  0.843361  2.611629 -1.268436  20   6.0\n2013-01-05  1.623378  1.556657 -2.144502  25  10.0\n2013-01-06  0.342891  2.536099 -2.873324  30  15.0",
      "text/html": "<div>\n<style scoped>\n    .dataframe tbody tr th:only-of-type {\n        vertical-align: middle;\n    }\n\n    .dataframe tbody tr th {\n        vertical-align: top;\n    }\n\n    .dataframe thead th {\n        text-align: right;\n    }\n</style>\n<table border=\"1\" class=\"dataframe\">\n  <thead>\n    <tr style=\"text-align: right;\">\n      <th></th>\n      <th>A</th>\n      <th>B</th>\n      <th>C</th>\n      <th>D</th>\n      <th>F</th>\n    </tr>\n  </thead>\n  <tbody>\n    <tr>\n      <th>2013-01-01</th>\n      <td>0.000000</td>\n      <td>0.000000</td>\n      <td>0.000000</td>\n      <td>5</td>\n      <td>NaN</td>\n    </tr>\n    <tr>\n      <th>2013-01-02</th>\n      <td>-0.250679</td>\n      <td>0.220744</td>\n      <td>-0.255427</td>\n      <td>10</td>\n      <td>1.0</td>\n    </tr>\n    <tr>\n      <th>2013-01-03</th>\n      <td>0.587652</td>\n      <td>0.715441</td>\n      <td>-0.781946</td>\n      <td>15</td>\n      <td>3.0</td>\n    </tr>\n    <tr>\n      <th>2013-01-04</th>\n      <td>0.843361</td>\n      <td>2.611629</td>\n      <td>-1.268436</td>\n      <td>20</td>\n      <td>6.0</td>\n    </tr>\n    <tr>\n      <th>2013-01-05</th>\n      <td>1.623378</td>\n      <td>1.556657</td>\n      <td>-2.144502</td>\n      <td>25</td>\n      <td>10.0</td>\n    </tr>\n    <tr>\n      <th>2013-01-06</th>\n      <td>0.342891</td>\n      <td>2.536099</td>\n      <td>-2.873324</td>\n      <td>30</td>\n      <td>15.0</td>\n    </tr>\n  </tbody>\n</table>\n</div>"
     },
     "execution_count": 947,
     "metadata": {},
     "output_type": "execute_result"
    }
   ],
   "source": [
    "# Apply 메소드, 데이터에 함수를 적용한다\n",
    "df.apply(np.cumsum)"
   ],
   "metadata": {
    "collapsed": false,
    "pycharm": {
     "name": "#%%\n"
    }
   }
  },
  {
   "cell_type": "code",
   "execution_count": 948,
   "outputs": [
    {
     "data": {
      "text/plain": "A    2.118819\nB    2.951160\nC    0.876066\nD    0.000000\nF    4.000000\ndtype: float64"
     },
     "execution_count": 948,
     "metadata": {},
     "output_type": "execute_result"
    }
   ],
   "source": [
    "df.apply(lambda x : x.max() - x.min())\n"
   ],
   "metadata": {
    "collapsed": false,
    "pycharm": {
     "name": "#%%\n"
    }
   }
  },
  {
   "cell_type": "code",
   "execution_count": 949,
   "outputs": [
    {
     "data": {
      "text/plain": "0    6\n1    0\n2    4\n3    3\n4    5\n5    2\n6    5\n7    4\n8    2\n9    3\ndtype: int64"
     },
     "execution_count": 949,
     "metadata": {},
     "output_type": "execute_result"
    }
   ],
   "source": [
    "# 히스토그래밍\n",
    "s = pd.Series(np.random.randint(0, 7, size=10))\n",
    "s"
   ],
   "metadata": {
    "collapsed": false,
    "pycharm": {
     "name": "#%%\n"
    }
   }
  },
  {
   "cell_type": "code",
   "execution_count": 950,
   "outputs": [
    {
     "data": {
      "text/plain": "5    2\n4    2\n3    2\n2    2\n6    1\n0    1\ndtype: int64"
     },
     "execution_count": 950,
     "metadata": {},
     "output_type": "execute_result"
    }
   ],
   "source": [
    "s.value_counts()"
   ],
   "metadata": {
    "collapsed": false,
    "pycharm": {
     "name": "#%%\n"
    }
   }
  },
  {
   "cell_type": "code",
   "execution_count": 951,
   "outputs": [
    {
     "data": {
      "text/plain": "0       a\n1       b\n2       c\n3    aaba\n4    baca\n5     NaN\n6    caba\n7     dog\n8     cat\ndtype: object"
     },
     "execution_count": 951,
     "metadata": {},
     "output_type": "execute_result"
    }
   ],
   "source": [
    "# String method\n",
    "s = pd.Series(['A', 'B', 'C', 'Aaba', 'Baca', np.nan, 'CABA', 'dog', 'cat'])\n",
    "s.str.lower()"
   ],
   "metadata": {
    "collapsed": false,
    "pycharm": {
     "name": "#%%\n"
    }
   }
  }
 ],
 "metadata": {
  "kernelspec": {
   "display_name": "Python 3",
   "language": "python",
   "name": "python3"
  },
  "language_info": {
   "codemirror_mode": {
    "name": "ipython",
    "version": 2
   },
   "file_extension": ".py",
   "mimetype": "text/x-python",
   "name": "python",
   "nbconvert_exporter": "python",
   "pygments_lexer": "ipython2",
   "version": "2.7.6"
  }
 },
 "nbformat": 4,
 "nbformat_minor": 0
}