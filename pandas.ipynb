{
 "cells": [
  {
   "cell_type": "markdown",
   "metadata": {
    "collapsed": true,
    "pycharm": {
     "name": "#%% md\n"
    }
   },
   "source": [
    "# Pandas 정리\n",
    "Pandas의 공식 문서를 보고 정리합니다.\n",
    "\n",
    "- [유저 가이드](https://pandas.pydata.org/docs/user_guide/index.html)\n",
    "- [API 레퍼런스](https://pandas.pydata.org/docs/reference/index.html)\n",
    "\n"
   ]
  },
  {
   "cell_type": "markdown",
   "source": [
    "### 10 minutes  to pandas 따라하기\n"
   ],
   "metadata": {
    "collapsed": false,
    "pycharm": {
     "name": "#%% md\n"
    }
   }
  },
  {
   "cell_type": "code",
   "execution_count": 61,
   "outputs": [
    {
     "data": {
      "text/plain": "0    1.0\n1    3.0\n2    5.0\n3    NaN\n4    6.0\n5    8.0\ndtype: float64"
     },
     "execution_count": 61,
     "metadata": {},
     "output_type": "execute_result"
    }
   ],
   "source": [
    "import numpy as np\n",
    "import pandas as pd\n",
    "\n",
    "# 넘파이와 시리즈 호환\n",
    "s = pd.Series([1, 3, 5, np.nan, 6, 8])\n",
    "s"
   ],
   "metadata": {
    "collapsed": false,
    "pycharm": {
     "name": "#%%\n"
    }
   }
  },
  {
   "cell_type": "code",
   "execution_count": 62,
   "outputs": [
    {
     "data": {
      "text/plain": "                   A         B         C         D\n2013-01-01 -0.279949  1.238156  0.882792  0.244953\n2013-01-02  1.579157  2.030816  0.486763  0.127359\n2013-01-03 -0.468228  0.506110 -0.914738 -2.195081\n2013-01-04  0.639859 -0.084386  2.123412  1.162978\n2013-01-05 -0.903124  0.495533  0.166490  0.210592\n2013-01-06  0.840570 -2.833395  1.480018 -1.078449",
      "text/html": "<div>\n<style scoped>\n    .dataframe tbody tr th:only-of-type {\n        vertical-align: middle;\n    }\n\n    .dataframe tbody tr th {\n        vertical-align: top;\n    }\n\n    .dataframe thead th {\n        text-align: right;\n    }\n</style>\n<table border=\"1\" class=\"dataframe\">\n  <thead>\n    <tr style=\"text-align: right;\">\n      <th></th>\n      <th>A</th>\n      <th>B</th>\n      <th>C</th>\n      <th>D</th>\n    </tr>\n  </thead>\n  <tbody>\n    <tr>\n      <th>2013-01-01</th>\n      <td>-0.279949</td>\n      <td>1.238156</td>\n      <td>0.882792</td>\n      <td>0.244953</td>\n    </tr>\n    <tr>\n      <th>2013-01-02</th>\n      <td>1.579157</td>\n      <td>2.030816</td>\n      <td>0.486763</td>\n      <td>0.127359</td>\n    </tr>\n    <tr>\n      <th>2013-01-03</th>\n      <td>-0.468228</td>\n      <td>0.506110</td>\n      <td>-0.914738</td>\n      <td>-2.195081</td>\n    </tr>\n    <tr>\n      <th>2013-01-04</th>\n      <td>0.639859</td>\n      <td>-0.084386</td>\n      <td>2.123412</td>\n      <td>1.162978</td>\n    </tr>\n    <tr>\n      <th>2013-01-05</th>\n      <td>-0.903124</td>\n      <td>0.495533</td>\n      <td>0.166490</td>\n      <td>0.210592</td>\n    </tr>\n    <tr>\n      <th>2013-01-06</th>\n      <td>0.840570</td>\n      <td>-2.833395</td>\n      <td>1.480018</td>\n      <td>-1.078449</td>\n    </tr>\n  </tbody>\n</table>\n</div>"
     },
     "execution_count": 62,
     "metadata": {},
     "output_type": "execute_result"
    }
   ],
   "source": [
    "dates = pd.date_range('20130101', periods=6)\n",
    "dates\n",
    "\n",
    "# 넘파이와 Dataframe 호환\n",
    "df = pd.DataFrame(np.random.randn(6, 4), index=dates, columns=list('ABCD'))\n",
    "df\n"
   ],
   "metadata": {
    "collapsed": false,
    "pycharm": {
     "name": "#%%\n"
    }
   }
  },
  {
   "cell_type": "code",
   "execution_count": 63,
   "outputs": [
    {
     "data": {
      "text/plain": "                   A         B         C         D\n2013-01-01 -0.555139  0.078480 -1.524571  1.361642\n2013-01-02 -1.687085  0.695406  0.706722 -0.760823\n2013-01-03  0.332463  2.115827 -0.914653 -0.490239\n2013-01-04 -0.014927 -1.635122  0.640063  0.537327\n2013-01-05  1.319945 -0.096198  0.110449  1.411064\n2013-01-06  0.947225 -0.482907  0.541461 -0.244462",
      "text/html": "<div>\n<style scoped>\n    .dataframe tbody tr th:only-of-type {\n        vertical-align: middle;\n    }\n\n    .dataframe tbody tr th {\n        vertical-align: top;\n    }\n\n    .dataframe thead th {\n        text-align: right;\n    }\n</style>\n<table border=\"1\" class=\"dataframe\">\n  <thead>\n    <tr style=\"text-align: right;\">\n      <th></th>\n      <th>A</th>\n      <th>B</th>\n      <th>C</th>\n      <th>D</th>\n    </tr>\n  </thead>\n  <tbody>\n    <tr>\n      <th>2013-01-01</th>\n      <td>-0.555139</td>\n      <td>0.078480</td>\n      <td>-1.524571</td>\n      <td>1.361642</td>\n    </tr>\n    <tr>\n      <th>2013-01-02</th>\n      <td>-1.687085</td>\n      <td>0.695406</td>\n      <td>0.706722</td>\n      <td>-0.760823</td>\n    </tr>\n    <tr>\n      <th>2013-01-03</th>\n      <td>0.332463</td>\n      <td>2.115827</td>\n      <td>-0.914653</td>\n      <td>-0.490239</td>\n    </tr>\n    <tr>\n      <th>2013-01-04</th>\n      <td>-0.014927</td>\n      <td>-1.635122</td>\n      <td>0.640063</td>\n      <td>0.537327</td>\n    </tr>\n    <tr>\n      <th>2013-01-05</th>\n      <td>1.319945</td>\n      <td>-0.096198</td>\n      <td>0.110449</td>\n      <td>1.411064</td>\n    </tr>\n    <tr>\n      <th>2013-01-06</th>\n      <td>0.947225</td>\n      <td>-0.482907</td>\n      <td>0.541461</td>\n      <td>-0.244462</td>\n    </tr>\n  </tbody>\n</table>\n</div>"
     },
     "execution_count": 63,
     "metadata": {},
     "output_type": "execute_result"
    }
   ],
   "source": [
    "dates = pd.date_range('20130101', periods=6)\n",
    "dates\n",
    "\n",
    "df = pd.DataFrame(np.random.randn(6, 4), index=dates, columns=list('ABCD'))\n",
    "df\n"
   ],
   "metadata": {
    "collapsed": false,
    "pycharm": {
     "name": "#%%\n"
    }
   }
  },
  {
   "cell_type": "code",
   "execution_count": 64,
   "outputs": [
    {
     "data": {
      "text/plain": "     A          B    C  D      E    F\n0  1.0 2013-01-02  1.0  3   test  foo\n1  1.0 2013-01-02  1.0  3  train  foo\n2  1.0 2013-01-02  1.0  3   test  foo\n3  1.0 2013-01-02  1.0  3  train  foo",
      "text/html": "<div>\n<style scoped>\n    .dataframe tbody tr th:only-of-type {\n        vertical-align: middle;\n    }\n\n    .dataframe tbody tr th {\n        vertical-align: top;\n    }\n\n    .dataframe thead th {\n        text-align: right;\n    }\n</style>\n<table border=\"1\" class=\"dataframe\">\n  <thead>\n    <tr style=\"text-align: right;\">\n      <th></th>\n      <th>A</th>\n      <th>B</th>\n      <th>C</th>\n      <th>D</th>\n      <th>E</th>\n      <th>F</th>\n    </tr>\n  </thead>\n  <tbody>\n    <tr>\n      <th>0</th>\n      <td>1.0</td>\n      <td>2013-01-02</td>\n      <td>1.0</td>\n      <td>3</td>\n      <td>test</td>\n      <td>foo</td>\n    </tr>\n    <tr>\n      <th>1</th>\n      <td>1.0</td>\n      <td>2013-01-02</td>\n      <td>1.0</td>\n      <td>3</td>\n      <td>train</td>\n      <td>foo</td>\n    </tr>\n    <tr>\n      <th>2</th>\n      <td>1.0</td>\n      <td>2013-01-02</td>\n      <td>1.0</td>\n      <td>3</td>\n      <td>test</td>\n      <td>foo</td>\n    </tr>\n    <tr>\n      <th>3</th>\n      <td>1.0</td>\n      <td>2013-01-02</td>\n      <td>1.0</td>\n      <td>3</td>\n      <td>train</td>\n      <td>foo</td>\n    </tr>\n  </tbody>\n</table>\n</div>"
     },
     "execution_count": 64,
     "metadata": {},
     "output_type": "execute_result"
    }
   ],
   "source": [
    "# 쉽게 딕셔너리에서 컨버트할 수 있음\n",
    "df2 = pd.DataFrame({'A': 1.,\n",
    "'B': pd.Timestamp('20130102'),\n",
    "'C': pd.Series(1, index=list(range(4)), dtype='float32'),\n",
    "'D': np.array([3] * 4, dtype='int32'),\n",
    "'E': pd.Categorical([\"test\", \"train\", \"test\", \"train\"]),\n",
    "'F': 'foo'})\n",
    "\n",
    "df2"
   ],
   "metadata": {
    "collapsed": false,
    "pycharm": {
     "name": "#%%\n"
    }
   }
  },
  {
   "cell_type": "code",
   "execution_count": 65,
   "outputs": [
    {
     "data": {
      "text/plain": "A           float64\nB    datetime64[ns]\nC           float32\nD             int32\nE          category\nF            object\ndtype: object"
     },
     "execution_count": 65,
     "metadata": {},
     "output_type": "execute_result"
    }
   ],
   "source": [
    "df2.dtypes"
   ],
   "metadata": {
    "collapsed": false,
    "pycharm": {
     "name": "#%%\n"
    }
   }
  },
  {
   "cell_type": "code",
   "execution_count": 66,
   "outputs": [
    {
     "data": {
      "text/plain": "                   A         B         C         D\n2013-01-01 -0.555139  0.078480 -1.524571  1.361642\n2013-01-02 -1.687085  0.695406  0.706722 -0.760823",
      "text/html": "<div>\n<style scoped>\n    .dataframe tbody tr th:only-of-type {\n        vertical-align: middle;\n    }\n\n    .dataframe tbody tr th {\n        vertical-align: top;\n    }\n\n    .dataframe thead th {\n        text-align: right;\n    }\n</style>\n<table border=\"1\" class=\"dataframe\">\n  <thead>\n    <tr style=\"text-align: right;\">\n      <th></th>\n      <th>A</th>\n      <th>B</th>\n      <th>C</th>\n      <th>D</th>\n    </tr>\n  </thead>\n  <tbody>\n    <tr>\n      <th>2013-01-01</th>\n      <td>-0.555139</td>\n      <td>0.078480</td>\n      <td>-1.524571</td>\n      <td>1.361642</td>\n    </tr>\n    <tr>\n      <th>2013-01-02</th>\n      <td>-1.687085</td>\n      <td>0.695406</td>\n      <td>0.706722</td>\n      <td>-0.760823</td>\n    </tr>\n  </tbody>\n</table>\n</div>"
     },
     "execution_count": 66,
     "metadata": {},
     "output_type": "execute_result"
    }
   ],
   "source": [
    "# 위에서부터 몇개\n",
    "df.head(2)"
   ],
   "metadata": {
    "collapsed": false,
    "pycharm": {
     "name": "#%%\n"
    }
   }
  },
  {
   "cell_type": "code",
   "execution_count": 67,
   "outputs": [
    {
     "data": {
      "text/plain": "                   A         B         C         D\n2013-01-05  1.319945 -0.096198  0.110449  1.411064\n2013-01-06  0.947225 -0.482907  0.541461 -0.244462",
      "text/html": "<div>\n<style scoped>\n    .dataframe tbody tr th:only-of-type {\n        vertical-align: middle;\n    }\n\n    .dataframe tbody tr th {\n        vertical-align: top;\n    }\n\n    .dataframe thead th {\n        text-align: right;\n    }\n</style>\n<table border=\"1\" class=\"dataframe\">\n  <thead>\n    <tr style=\"text-align: right;\">\n      <th></th>\n      <th>A</th>\n      <th>B</th>\n      <th>C</th>\n      <th>D</th>\n    </tr>\n  </thead>\n  <tbody>\n    <tr>\n      <th>2013-01-05</th>\n      <td>1.319945</td>\n      <td>-0.096198</td>\n      <td>0.110449</td>\n      <td>1.411064</td>\n    </tr>\n    <tr>\n      <th>2013-01-06</th>\n      <td>0.947225</td>\n      <td>-0.482907</td>\n      <td>0.541461</td>\n      <td>-0.244462</td>\n    </tr>\n  </tbody>\n</table>\n</div>"
     },
     "execution_count": 67,
     "metadata": {},
     "output_type": "execute_result"
    }
   ],
   "source": [
    "# 아래서부터 몇개\n",
    "df.tail(2)"
   ],
   "metadata": {
    "collapsed": false,
    "pycharm": {
     "name": "#%%\n"
    }
   }
  },
  {
   "cell_type": "code",
   "execution_count": 68,
   "outputs": [
    {
     "data": {
      "text/plain": "DatetimeIndex(['2013-01-01', '2013-01-02', '2013-01-03', '2013-01-04',\n               '2013-01-05', '2013-01-06'],\n              dtype='datetime64[ns]', freq='D')"
     },
     "execution_count": 68,
     "metadata": {},
     "output_type": "execute_result"
    }
   ],
   "source": [
    "# 인덱스를 출력해줌\n",
    "df.index"
   ],
   "metadata": {
    "collapsed": false,
    "pycharm": {
     "name": "#%%\n"
    }
   }
  },
  {
   "cell_type": "code",
   "execution_count": 69,
   "outputs": [
    {
     "data": {
      "text/plain": "Index(['A', 'B', 'C', 'D'], dtype='object')"
     },
     "execution_count": 69,
     "metadata": {},
     "output_type": "execute_result"
    }
   ],
   "source": [
    "df.columns"
   ],
   "metadata": {
    "collapsed": false,
    "pycharm": {
     "name": "#%%\n"
    }
   }
  },
  {
   "cell_type": "code",
   "execution_count": 70,
   "outputs": [
    {
     "data": {
      "text/plain": "array([[1.0, Timestamp('2013-01-02 00:00:00'), 1.0, 3, 'test', 'foo'],\n       [1.0, Timestamp('2013-01-02 00:00:00'), 1.0, 3, 'train', 'foo'],\n       [1.0, Timestamp('2013-01-02 00:00:00'), 1.0, 3, 'test', 'foo'],\n       [1.0, Timestamp('2013-01-02 00:00:00'), 1.0, 3, 'train', 'foo']],\n      dtype=object)"
     },
     "execution_count": 70,
     "metadata": {},
     "output_type": "execute_result"
    }
   ],
   "source": [
    "# NumPy Array로 변경해준다\n",
    "df2.to_numpy()"
   ],
   "metadata": {
    "collapsed": false,
    "pycharm": {
     "name": "#%%\n"
    }
   }
  },
  {
   "cell_type": "code",
   "execution_count": 71,
   "outputs": [
    {
     "data": {
      "text/plain": "              A         B         C         D\ncount  6.000000  6.000000  6.000000  6.000000\nmean   0.057080  0.112581 -0.073422  0.302418\nstd    1.084908  1.249520  0.931996  0.944891\nmin   -1.687085 -1.635122 -1.524571 -0.760823\n25%   -0.420086 -0.386229 -0.658378 -0.428794\n50%    0.158768 -0.008859  0.325955  0.146433\n75%    0.793534  0.541174  0.615413  1.155563\nmax    1.319945  2.115827  0.706722  1.411064",
      "text/html": "<div>\n<style scoped>\n    .dataframe tbody tr th:only-of-type {\n        vertical-align: middle;\n    }\n\n    .dataframe tbody tr th {\n        vertical-align: top;\n    }\n\n    .dataframe thead th {\n        text-align: right;\n    }\n</style>\n<table border=\"1\" class=\"dataframe\">\n  <thead>\n    <tr style=\"text-align: right;\">\n      <th></th>\n      <th>A</th>\n      <th>B</th>\n      <th>C</th>\n      <th>D</th>\n    </tr>\n  </thead>\n  <tbody>\n    <tr>\n      <th>count</th>\n      <td>6.000000</td>\n      <td>6.000000</td>\n      <td>6.000000</td>\n      <td>6.000000</td>\n    </tr>\n    <tr>\n      <th>mean</th>\n      <td>0.057080</td>\n      <td>0.112581</td>\n      <td>-0.073422</td>\n      <td>0.302418</td>\n    </tr>\n    <tr>\n      <th>std</th>\n      <td>1.084908</td>\n      <td>1.249520</td>\n      <td>0.931996</td>\n      <td>0.944891</td>\n    </tr>\n    <tr>\n      <th>min</th>\n      <td>-1.687085</td>\n      <td>-1.635122</td>\n      <td>-1.524571</td>\n      <td>-0.760823</td>\n    </tr>\n    <tr>\n      <th>25%</th>\n      <td>-0.420086</td>\n      <td>-0.386229</td>\n      <td>-0.658378</td>\n      <td>-0.428794</td>\n    </tr>\n    <tr>\n      <th>50%</th>\n      <td>0.158768</td>\n      <td>-0.008859</td>\n      <td>0.325955</td>\n      <td>0.146433</td>\n    </tr>\n    <tr>\n      <th>75%</th>\n      <td>0.793534</td>\n      <td>0.541174</td>\n      <td>0.615413</td>\n      <td>1.155563</td>\n    </tr>\n    <tr>\n      <th>max</th>\n      <td>1.319945</td>\n      <td>2.115827</td>\n      <td>0.706722</td>\n      <td>1.411064</td>\n    </tr>\n  </tbody>\n</table>\n</div>"
     },
     "execution_count": 71,
     "metadata": {},
     "output_type": "execute_result"
    }
   ],
   "source": [
    "# 빠르게 Dataframe의 statistics를 보여준다\n",
    "df.describe()"
   ],
   "metadata": {
    "collapsed": false,
    "pycharm": {
     "name": "#%%\n"
    }
   }
  },
  {
   "cell_type": "code",
   "execution_count": 72,
   "outputs": [
    {
     "data": {
      "text/plain": "   2013-01-01  2013-01-02  2013-01-03  2013-01-04  2013-01-05  2013-01-06\nA   -0.555139   -1.687085    0.332463   -0.014927    1.319945    0.947225\nB    0.078480    0.695406    2.115827   -1.635122   -0.096198   -0.482907\nC   -1.524571    0.706722   -0.914653    0.640063    0.110449    0.541461\nD    1.361642   -0.760823   -0.490239    0.537327    1.411064   -0.244462",
      "text/html": "<div>\n<style scoped>\n    .dataframe tbody tr th:only-of-type {\n        vertical-align: middle;\n    }\n\n    .dataframe tbody tr th {\n        vertical-align: top;\n    }\n\n    .dataframe thead th {\n        text-align: right;\n    }\n</style>\n<table border=\"1\" class=\"dataframe\">\n  <thead>\n    <tr style=\"text-align: right;\">\n      <th></th>\n      <th>2013-01-01</th>\n      <th>2013-01-02</th>\n      <th>2013-01-03</th>\n      <th>2013-01-04</th>\n      <th>2013-01-05</th>\n      <th>2013-01-06</th>\n    </tr>\n  </thead>\n  <tbody>\n    <tr>\n      <th>A</th>\n      <td>-0.555139</td>\n      <td>-1.687085</td>\n      <td>0.332463</td>\n      <td>-0.014927</td>\n      <td>1.319945</td>\n      <td>0.947225</td>\n    </tr>\n    <tr>\n      <th>B</th>\n      <td>0.078480</td>\n      <td>0.695406</td>\n      <td>2.115827</td>\n      <td>-1.635122</td>\n      <td>-0.096198</td>\n      <td>-0.482907</td>\n    </tr>\n    <tr>\n      <th>C</th>\n      <td>-1.524571</td>\n      <td>0.706722</td>\n      <td>-0.914653</td>\n      <td>0.640063</td>\n      <td>0.110449</td>\n      <td>0.541461</td>\n    </tr>\n    <tr>\n      <th>D</th>\n      <td>1.361642</td>\n      <td>-0.760823</td>\n      <td>-0.490239</td>\n      <td>0.537327</td>\n      <td>1.411064</td>\n      <td>-0.244462</td>\n    </tr>\n  </tbody>\n</table>\n</div>"
     },
     "execution_count": 72,
     "metadata": {},
     "output_type": "execute_result"
    }
   ],
   "source": [
    "# 전치행렬 (넘파이와 같음)\n",
    "df.T"
   ],
   "metadata": {
    "collapsed": false,
    "pycharm": {
     "name": "#%%\n"
    }
   }
  },
  {
   "cell_type": "code",
   "execution_count": 73,
   "outputs": [
    {
     "data": {
      "text/plain": "                   D         C         B         A\n2013-01-01  1.361642 -1.524571  0.078480 -0.555139\n2013-01-02 -0.760823  0.706722  0.695406 -1.687085\n2013-01-03 -0.490239 -0.914653  2.115827  0.332463\n2013-01-04  0.537327  0.640063 -1.635122 -0.014927\n2013-01-05  1.411064  0.110449 -0.096198  1.319945\n2013-01-06 -0.244462  0.541461 -0.482907  0.947225",
      "text/html": "<div>\n<style scoped>\n    .dataframe tbody tr th:only-of-type {\n        vertical-align: middle;\n    }\n\n    .dataframe tbody tr th {\n        vertical-align: top;\n    }\n\n    .dataframe thead th {\n        text-align: right;\n    }\n</style>\n<table border=\"1\" class=\"dataframe\">\n  <thead>\n    <tr style=\"text-align: right;\">\n      <th></th>\n      <th>D</th>\n      <th>C</th>\n      <th>B</th>\n      <th>A</th>\n    </tr>\n  </thead>\n  <tbody>\n    <tr>\n      <th>2013-01-01</th>\n      <td>1.361642</td>\n      <td>-1.524571</td>\n      <td>0.078480</td>\n      <td>-0.555139</td>\n    </tr>\n    <tr>\n      <th>2013-01-02</th>\n      <td>-0.760823</td>\n      <td>0.706722</td>\n      <td>0.695406</td>\n      <td>-1.687085</td>\n    </tr>\n    <tr>\n      <th>2013-01-03</th>\n      <td>-0.490239</td>\n      <td>-0.914653</td>\n      <td>2.115827</td>\n      <td>0.332463</td>\n    </tr>\n    <tr>\n      <th>2013-01-04</th>\n      <td>0.537327</td>\n      <td>0.640063</td>\n      <td>-1.635122</td>\n      <td>-0.014927</td>\n    </tr>\n    <tr>\n      <th>2013-01-05</th>\n      <td>1.411064</td>\n      <td>0.110449</td>\n      <td>-0.096198</td>\n      <td>1.319945</td>\n    </tr>\n    <tr>\n      <th>2013-01-06</th>\n      <td>-0.244462</td>\n      <td>0.541461</td>\n      <td>-0.482907</td>\n      <td>0.947225</td>\n    </tr>\n  </tbody>\n</table>\n</div>"
     },
     "execution_count": 73,
     "metadata": {},
     "output_type": "execute_result"
    }
   ],
   "source": [
    "df.sort_index(axis=1, ascending=False)"
   ],
   "metadata": {
    "collapsed": false,
    "pycharm": {
     "name": "#%%\n"
    }
   }
  },
  {
   "cell_type": "code",
   "execution_count": 74,
   "outputs": [
    {
     "data": {
      "text/plain": "                   A         B         C         D\n2013-01-04 -0.014927 -1.635122  0.640063  0.537327\n2013-01-06  0.947225 -0.482907  0.541461 -0.244462\n2013-01-05  1.319945 -0.096198  0.110449  1.411064\n2013-01-01 -0.555139  0.078480 -1.524571  1.361642\n2013-01-02 -1.687085  0.695406  0.706722 -0.760823\n2013-01-03  0.332463  2.115827 -0.914653 -0.490239",
      "text/html": "<div>\n<style scoped>\n    .dataframe tbody tr th:only-of-type {\n        vertical-align: middle;\n    }\n\n    .dataframe tbody tr th {\n        vertical-align: top;\n    }\n\n    .dataframe thead th {\n        text-align: right;\n    }\n</style>\n<table border=\"1\" class=\"dataframe\">\n  <thead>\n    <tr style=\"text-align: right;\">\n      <th></th>\n      <th>A</th>\n      <th>B</th>\n      <th>C</th>\n      <th>D</th>\n    </tr>\n  </thead>\n  <tbody>\n    <tr>\n      <th>2013-01-04</th>\n      <td>-0.014927</td>\n      <td>-1.635122</td>\n      <td>0.640063</td>\n      <td>0.537327</td>\n    </tr>\n    <tr>\n      <th>2013-01-06</th>\n      <td>0.947225</td>\n      <td>-0.482907</td>\n      <td>0.541461</td>\n      <td>-0.244462</td>\n    </tr>\n    <tr>\n      <th>2013-01-05</th>\n      <td>1.319945</td>\n      <td>-0.096198</td>\n      <td>0.110449</td>\n      <td>1.411064</td>\n    </tr>\n    <tr>\n      <th>2013-01-01</th>\n      <td>-0.555139</td>\n      <td>0.078480</td>\n      <td>-1.524571</td>\n      <td>1.361642</td>\n    </tr>\n    <tr>\n      <th>2013-01-02</th>\n      <td>-1.687085</td>\n      <td>0.695406</td>\n      <td>0.706722</td>\n      <td>-0.760823</td>\n    </tr>\n    <tr>\n      <th>2013-01-03</th>\n      <td>0.332463</td>\n      <td>2.115827</td>\n      <td>-0.914653</td>\n      <td>-0.490239</td>\n    </tr>\n  </tbody>\n</table>\n</div>"
     },
     "execution_count": 74,
     "metadata": {},
     "output_type": "execute_result"
    }
   ],
   "source": [
    "df.sort_values(by='B')"
   ],
   "metadata": {
    "collapsed": false,
    "pycharm": {
     "name": "#%%\n"
    }
   }
  },
  {
   "cell_type": "markdown",
   "source": [
    "Selection"
   ],
   "metadata": {
    "collapsed": false,
    "pycharm": {
     "name": "#%% md\n"
    }
   }
  },
  {
   "cell_type": "code",
   "execution_count": 75,
   "outputs": [
    {
     "data": {
      "text/plain": "2013-01-01   -0.555139\n2013-01-02   -1.687085\n2013-01-03    0.332463\n2013-01-04   -0.014927\n2013-01-05    1.319945\n2013-01-06    0.947225\nFreq: D, Name: A, dtype: float64"
     },
     "execution_count": 75,
     "metadata": {},
     "output_type": "execute_result"
    }
   ],
   "source": [
    "df['A']"
   ],
   "metadata": {
    "collapsed": false,
    "pycharm": {
     "name": "#%%\n"
    }
   }
  },
  {
   "cell_type": "code",
   "execution_count": 76,
   "outputs": [
    {
     "data": {
      "text/plain": "                   A         B         C         D\n2013-01-01 -0.555139  0.078480 -1.524571  1.361642\n2013-01-02 -1.687085  0.695406  0.706722 -0.760823\n2013-01-03  0.332463  2.115827 -0.914653 -0.490239",
      "text/html": "<div>\n<style scoped>\n    .dataframe tbody tr th:only-of-type {\n        vertical-align: middle;\n    }\n\n    .dataframe tbody tr th {\n        vertical-align: top;\n    }\n\n    .dataframe thead th {\n        text-align: right;\n    }\n</style>\n<table border=\"1\" class=\"dataframe\">\n  <thead>\n    <tr style=\"text-align: right;\">\n      <th></th>\n      <th>A</th>\n      <th>B</th>\n      <th>C</th>\n      <th>D</th>\n    </tr>\n  </thead>\n  <tbody>\n    <tr>\n      <th>2013-01-01</th>\n      <td>-0.555139</td>\n      <td>0.078480</td>\n      <td>-1.524571</td>\n      <td>1.361642</td>\n    </tr>\n    <tr>\n      <th>2013-01-02</th>\n      <td>-1.687085</td>\n      <td>0.695406</td>\n      <td>0.706722</td>\n      <td>-0.760823</td>\n    </tr>\n    <tr>\n      <th>2013-01-03</th>\n      <td>0.332463</td>\n      <td>2.115827</td>\n      <td>-0.914653</td>\n      <td>-0.490239</td>\n    </tr>\n  </tbody>\n</table>\n</div>"
     },
     "execution_count": 76,
     "metadata": {},
     "output_type": "execute_result"
    }
   ],
   "source": [
    "df[0:3]"
   ],
   "metadata": {
    "collapsed": false,
    "pycharm": {
     "name": "#%%\n"
    }
   }
  },
  {
   "cell_type": "code",
   "execution_count": 77,
   "outputs": [
    {
     "data": {
      "text/plain": "                   A         B         C         D\n2013-01-02 -1.687085  0.695406  0.706722 -0.760823\n2013-01-03  0.332463  2.115827 -0.914653 -0.490239\n2013-01-04 -0.014927 -1.635122  0.640063  0.537327",
      "text/html": "<div>\n<style scoped>\n    .dataframe tbody tr th:only-of-type {\n        vertical-align: middle;\n    }\n\n    .dataframe tbody tr th {\n        vertical-align: top;\n    }\n\n    .dataframe thead th {\n        text-align: right;\n    }\n</style>\n<table border=\"1\" class=\"dataframe\">\n  <thead>\n    <tr style=\"text-align: right;\">\n      <th></th>\n      <th>A</th>\n      <th>B</th>\n      <th>C</th>\n      <th>D</th>\n    </tr>\n  </thead>\n  <tbody>\n    <tr>\n      <th>2013-01-02</th>\n      <td>-1.687085</td>\n      <td>0.695406</td>\n      <td>0.706722</td>\n      <td>-0.760823</td>\n    </tr>\n    <tr>\n      <th>2013-01-03</th>\n      <td>0.332463</td>\n      <td>2.115827</td>\n      <td>-0.914653</td>\n      <td>-0.490239</td>\n    </tr>\n    <tr>\n      <th>2013-01-04</th>\n      <td>-0.014927</td>\n      <td>-1.635122</td>\n      <td>0.640063</td>\n      <td>0.537327</td>\n    </tr>\n  </tbody>\n</table>\n</div>"
     },
     "execution_count": 77,
     "metadata": {},
     "output_type": "execute_result"
    }
   ],
   "source": [
    "df['20130102':'20130104']"
   ],
   "metadata": {
    "collapsed": false,
    "pycharm": {
     "name": "#%%\n"
    }
   }
  },
  {
   "cell_type": "code",
   "execution_count": 78,
   "outputs": [
    {
     "data": {
      "text/plain": "A   -0.555139\nB    0.078480\nC   -1.524571\nD    1.361642\nName: 2013-01-01 00:00:00, dtype: float64"
     },
     "execution_count": 78,
     "metadata": {},
     "output_type": "execute_result"
    }
   ],
   "source": [
    "# 아래에 loc에 대한 설명이 나와있다. 필요한 데이터만 추출할 때 유용하게 사용할 수 있을 듯 하다\n",
    "# https://m.blog.naver.com/wideeyed/221964700554\n",
    "# 아래는 시리즈\n",
    "df.loc[dates[0]]"
   ],
   "metadata": {
    "collapsed": false,
    "pycharm": {
     "name": "#%%\n"
    }
   }
  },
  {
   "cell_type": "code",
   "execution_count": 79,
   "outputs": [
    {
     "data": {
      "text/plain": "                   A        B         C         D\n2013-01-01 -0.555139  0.07848 -1.524571  1.361642",
      "text/html": "<div>\n<style scoped>\n    .dataframe tbody tr th:only-of-type {\n        vertical-align: middle;\n    }\n\n    .dataframe tbody tr th {\n        vertical-align: top;\n    }\n\n    .dataframe thead th {\n        text-align: right;\n    }\n</style>\n<table border=\"1\" class=\"dataframe\">\n  <thead>\n    <tr style=\"text-align: right;\">\n      <th></th>\n      <th>A</th>\n      <th>B</th>\n      <th>C</th>\n      <th>D</th>\n    </tr>\n  </thead>\n  <tbody>\n    <tr>\n      <th>2013-01-01</th>\n      <td>-0.555139</td>\n      <td>0.07848</td>\n      <td>-1.524571</td>\n      <td>1.361642</td>\n    </tr>\n  </tbody>\n</table>\n</div>"
     },
     "execution_count": 79,
     "metadata": {},
     "output_type": "execute_result"
    }
   ],
   "source": [
    "# 아래는 데이터프레임\n",
    "df.loc[[dates[0]]]"
   ],
   "metadata": {
    "collapsed": false,
    "pycharm": {
     "name": "#%%\n"
    }
   }
  },
  {
   "cell_type": "code",
   "execution_count": 80,
   "outputs": [
    {
     "data": {
      "text/plain": "                   A         B\n2013-01-01 -0.555139  0.078480\n2013-01-02 -1.687085  0.695406\n2013-01-03  0.332463  2.115827\n2013-01-04 -0.014927 -1.635122\n2013-01-05  1.319945 -0.096198\n2013-01-06  0.947225 -0.482907",
      "text/html": "<div>\n<style scoped>\n    .dataframe tbody tr th:only-of-type {\n        vertical-align: middle;\n    }\n\n    .dataframe tbody tr th {\n        vertical-align: top;\n    }\n\n    .dataframe thead th {\n        text-align: right;\n    }\n</style>\n<table border=\"1\" class=\"dataframe\">\n  <thead>\n    <tr style=\"text-align: right;\">\n      <th></th>\n      <th>A</th>\n      <th>B</th>\n    </tr>\n  </thead>\n  <tbody>\n    <tr>\n      <th>2013-01-01</th>\n      <td>-0.555139</td>\n      <td>0.078480</td>\n    </tr>\n    <tr>\n      <th>2013-01-02</th>\n      <td>-1.687085</td>\n      <td>0.695406</td>\n    </tr>\n    <tr>\n      <th>2013-01-03</th>\n      <td>0.332463</td>\n      <td>2.115827</td>\n    </tr>\n    <tr>\n      <th>2013-01-04</th>\n      <td>-0.014927</td>\n      <td>-1.635122</td>\n    </tr>\n    <tr>\n      <th>2013-01-05</th>\n      <td>1.319945</td>\n      <td>-0.096198</td>\n    </tr>\n    <tr>\n      <th>2013-01-06</th>\n      <td>0.947225</td>\n      <td>-0.482907</td>\n    </tr>\n  </tbody>\n</table>\n</div>"
     },
     "execution_count": 80,
     "metadata": {},
     "output_type": "execute_result"
    }
   ],
   "source": [
    "df.loc[:, ['A', 'B']]"
   ],
   "metadata": {
    "collapsed": false,
    "pycharm": {
     "name": "#%%\n"
    }
   }
  },
  {
   "cell_type": "code",
   "execution_count": 81,
   "outputs": [
    {
     "data": {
      "text/plain": "                   A         B\n2013-01-02 -1.687085  0.695406\n2013-01-03  0.332463  2.115827\n2013-01-04 -0.014927 -1.635122",
      "text/html": "<div>\n<style scoped>\n    .dataframe tbody tr th:only-of-type {\n        vertical-align: middle;\n    }\n\n    .dataframe tbody tr th {\n        vertical-align: top;\n    }\n\n    .dataframe thead th {\n        text-align: right;\n    }\n</style>\n<table border=\"1\" class=\"dataframe\">\n  <thead>\n    <tr style=\"text-align: right;\">\n      <th></th>\n      <th>A</th>\n      <th>B</th>\n    </tr>\n  </thead>\n  <tbody>\n    <tr>\n      <th>2013-01-02</th>\n      <td>-1.687085</td>\n      <td>0.695406</td>\n    </tr>\n    <tr>\n      <th>2013-01-03</th>\n      <td>0.332463</td>\n      <td>2.115827</td>\n    </tr>\n    <tr>\n      <th>2013-01-04</th>\n      <td>-0.014927</td>\n      <td>-1.635122</td>\n    </tr>\n  </tbody>\n</table>\n</div>"
     },
     "execution_count": 81,
     "metadata": {},
     "output_type": "execute_result"
    }
   ],
   "source": [
    "df.loc['20130102':'20130104', ['A','B']]"
   ],
   "metadata": {
    "collapsed": false,
    "pycharm": {
     "name": "#%%\n"
    }
   }
  },
  {
   "cell_type": "code",
   "execution_count": 82,
   "outputs": [
    {
     "data": {
      "text/plain": "A   -1.687085\nB    0.695406\nName: 2013-01-02 00:00:00, dtype: float64"
     },
     "execution_count": 82,
     "metadata": {},
     "output_type": "execute_result"
    }
   ],
   "source": [
    "df.loc['20130102', ['A', 'B']]"
   ],
   "metadata": {
    "collapsed": false,
    "pycharm": {
     "name": "#%%\n"
    }
   }
  },
  {
   "cell_type": "code",
   "execution_count": 83,
   "outputs": [
    {
     "data": {
      "text/plain": "-0.5551387762896798"
     },
     "execution_count": 83,
     "metadata": {},
     "output_type": "execute_result"
    }
   ],
   "source": [
    "# 시리즈에서 A 추출\n",
    "df.loc[dates[0], 'A']"
   ],
   "metadata": {
    "collapsed": false,
    "pycharm": {
     "name": "#%%\n"
    }
   }
  },
  {
   "cell_type": "code",
   "execution_count": 84,
   "outputs": [
    {
     "data": {
      "text/plain": "-0.5551387762896798"
     },
     "execution_count": 84,
     "metadata": {},
     "output_type": "execute_result"
    }
   ],
   "source": [
    "df.at[dates[0], 'A']"
   ],
   "metadata": {
    "collapsed": false,
    "pycharm": {
     "name": "#%%\n"
    }
   }
  }
 ],
 "metadata": {
  "kernelspec": {
   "display_name": "Python 3",
   "language": "python",
   "name": "python3"
  },
  "language_info": {
   "codemirror_mode": {
    "name": "ipython",
    "version": 2
   },
   "file_extension": ".py",
   "mimetype": "text/x-python",
   "name": "python",
   "nbconvert_exporter": "python",
   "pygments_lexer": "ipython2",
   "version": "2.7.6"
  }
 },
 "nbformat": 4,
 "nbformat_minor": 0
}