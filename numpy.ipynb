{
 "cells": [
  {
   "cell_type": "markdown",
   "metadata": {
    "collapsed": true,
    "pycharm": {
     "name": "#%% md\n"
    }
   },
   "source": [
    "# Numpy 정리\n",
    "Numpy의 공식 문서를 보고 정리합니다.\n",
    "\n",
    "- [공식 문서](https://numpy.org/doc/stable/contents.html)\n",
    "\n",
    "NumPy에 대한 설명 [링크](https://numpy.org/doc/stable/user/whatisnumpy.html)\n",
    "- 대충 번역해보면 파이썬에서 다차원 배열, 즉 여러 디멘션을 계산, 생성, 처리하기 위한 다양한 자료형과 메소드를 제공하는 라이브러리.\n",
    "\n",
    "NumPy의 특징\n",
    "- 일단 Python List와 다르게 NumPy의 Arrray는 fixed size이다.\n",
    "- NumPy Array의 모든 값은 모두 같은 자료형을 가져야한다. 또한 메모리에서 같은 사이즈여야한다.\n",
    "- NumPy Array는 큰 수의 여러가지 수학적인 동작들을 용이하게 한다. 보통 파이썬의 Built-In된 시퀀스로도 처리가능하긴 하다."
   ]
  },
  {
   "cell_type": "markdown",
   "source": [
    "## Quickstart Tutorial\n",
    "\n",
    "- `ndarray.ndim` : 배열의 dimensions 수\n",
    "- `ndarray.shape` : 매트릭스면 (row, column)인데 이 인자 수는 차원에 비례함\n",
    "- `ndarray.size` : 요소의 총합, product의 곱과 같다고 함\n",
    "- `ndarray.dtype` : 데이터타입\n",
    "- `ndarray.itemsize` : 아이템 하나의 byte size\n",
    "- `ndarray.data`(사용안함) : 실제 array 요소들을 가지고 있는 버퍼"
   ],
   "metadata": {
    "collapsed": false,
    "pycharm": {
     "name": "#%% md\n"
    }
   }
  },
  {
   "cell_type": "code",
   "execution_count": 22,
   "outputs": [
    {
     "data": {
      "text/plain": "array([[ 0,  1,  2,  3,  4],\n       [ 5,  6,  7,  8,  9],\n       [10, 11, 12, 13, 14],\n       [15, 16, 17, 18, 19]])"
     },
     "execution_count": 22,
     "metadata": {},
     "output_type": "execute_result"
    }
   ],
   "source": [
    "import numpy as np\n",
    "a = np.arange(20).reshape(4, 5)\n",
    "a"
   ],
   "metadata": {
    "collapsed": false,
    "pycharm": {
     "name": "#%%\n"
    }
   }
  },
  {
   "cell_type": "code",
   "execution_count": 23,
   "outputs": [
    {
     "data": {
      "text/plain": "(4, 5)"
     },
     "execution_count": 23,
     "metadata": {},
     "output_type": "execute_result"
    }
   ],
   "source": [
    "import numpy as np\n",
    "a = np.arange(20).reshape(4, 5)\n",
    "a.shape"
   ],
   "metadata": {
    "collapsed": false,
    "pycharm": {
     "name": "#%%\n"
    }
   }
  },
  {
   "cell_type": "code",
   "execution_count": 24,
   "outputs": [
    {
     "data": {
      "text/plain": "2"
     },
     "execution_count": 24,
     "metadata": {},
     "output_type": "execute_result"
    }
   ],
   "source": [
    "import numpy as np\n",
    "a = np.arange(20).reshape(4, 5)\n",
    "a.ndim"
   ],
   "metadata": {
    "collapsed": false,
    "pycharm": {
     "name": "#%%\n"
    }
   }
  },
  {
   "cell_type": "code",
   "execution_count": 25,
   "outputs": [
    {
     "data": {
      "text/plain": "'int32'"
     },
     "execution_count": 25,
     "metadata": {},
     "output_type": "execute_result"
    }
   ],
   "source": [
    "import numpy as np\n",
    "a = np.arange(20).reshape(4, 5)\n",
    "a.dtype.name"
   ],
   "metadata": {
    "collapsed": false,
    "pycharm": {
     "name": "#%%\n"
    }
   }
  },
  {
   "cell_type": "code",
   "execution_count": 26,
   "outputs": [
    {
     "data": {
      "text/plain": "4"
     },
     "execution_count": 26,
     "metadata": {},
     "output_type": "execute_result"
    }
   ],
   "source": [
    "import numpy as np\n",
    "a = np.arange(20).reshape(4, 5)\n",
    "a.itemsize"
   ],
   "metadata": {
    "collapsed": false,
    "pycharm": {
     "name": "#%%\n"
    }
   }
  },
  {
   "cell_type": "code",
   "execution_count": 27,
   "outputs": [
    {
     "data": {
      "text/plain": "<memory at 0x000001B2A4B05930>"
     },
     "execution_count": 27,
     "metadata": {},
     "output_type": "execute_result"
    }
   ],
   "source": [
    "# 쓸일 없음\n",
    "import numpy as np\n",
    "a = np.arange(20).reshape(4, 5)\n",
    "a.data"
   ],
   "metadata": {
    "collapsed": false,
    "pycharm": {
     "name": "#%%\n"
    }
   }
  },
  {
   "cell_type": "code",
   "execution_count": 28,
   "outputs": [
    {
     "data": {
      "text/plain": "array([[[ 0,  1,  2,  3,  4],\n        [ 5,  6,  7,  8,  9]],\n\n       [[10, 11, 12, 13, 14],\n        [15, 16, 17, 18, 19]]])"
     },
     "execution_count": 28,
     "metadata": {},
     "output_type": "execute_result"
    }
   ],
   "source": [
    "# 3차원\n",
    "b = np.arange(20).reshape(2, 2, 5)\n",
    "b\n",
    "# b.shape\n",
    "# b.ndim\n",
    "# b.dtype.name\n",
    "# b.itemsize\n",
    "# b.size"
   ],
   "metadata": {
    "collapsed": false,
    "pycharm": {
     "name": "#%%\n"
    }
   }
  }
 ],
 "metadata": {
  "kernelspec": {
   "display_name": "Python 3",
   "language": "python",
   "name": "python3"
  },
  "language_info": {
   "codemirror_mode": {
    "name": "ipython",
    "version": 2
   },
   "file_extension": ".py",
   "mimetype": "text/x-python",
   "name": "python",
   "nbconvert_exporter": "python",
   "pygments_lexer": "ipython2",
   "version": "2.7.6"
  }
 },
 "nbformat": 4,
 "nbformat_minor": 0
}