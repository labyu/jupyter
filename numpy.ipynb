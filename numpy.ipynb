{
 "cells": [
  {
   "cell_type": "markdown",
   "metadata": {
    "collapsed": true,
    "pycharm": {
     "name": "#%% md\n"
    }
   },
   "source": [
    "# Numpy 정리\n",
    "Numpy의 공식 문서를 보고 정리합니다.\n",
    "\n",
    "- [공식 문서](https://numpy.org/doc/stable/contents.html)\n",
    "\n",
    "NumPy에 대한 설명 [링크](https://numpy.org/doc/stable/user/whatisnumpy.html)\n",
    "- 대충 번역해보면 파이썬에서 다차원 배열, 즉 여러 디멘션을 계산, 생성, 처리하기 위한 다양한 자료형과 메소드를 제공하는 라이브러리.\n",
    "\n",
    "NumPy의 특징\n",
    "- 일단 Python List와 다르게 NumPy의 Arrray는 fixed size이다.\n",
    "- NumPy Array의 모든 값은 모두 같은 자료형을 가져야한다. 또한 메모리에서 같은 사이즈여야한다.\n",
    "- NumPy Array는 큰 수의 여러가지 수학적인 동작들을 용이하게 한다. 보통 파이썬의 Built-In된 시퀀스로도 처리가능하긴 하다."
   ]
  },
  {
   "cell_type": "markdown",
   "source": [
    "## Quickstart Tutorial\n",
    "\n",
    "- `ndarray.ndim` : 배열의 dimensions 수\n",
    "- `ndarray.shape` : 매트릭스면 (row, column)인데 이 인자 수는 차원에 비례함\n",
    "- `ndarray.size` : 요소의 총합, product의 곱과 같다고 함\n",
    "- `ndarray.dtype` : 데이터타입\n",
    "- `ndarray.itemsize` : 아이템 하나의 byte size\n",
    "- `ndarray.data`(사용안함) : 실제 array 요소들을 가지고 있는 버퍼"
   ],
   "metadata": {
    "collapsed": false,
    "pycharm": {
     "name": "#%% md\n"
    }
   }
  },
  {
   "cell_type": "code",
   "execution_count": 121,
   "outputs": [],
   "source": [
    "import numpy as np"
   ],
   "metadata": {
    "collapsed": false,
    "pycharm": {
     "name": "#%%\n"
    }
   }
  },
  {
   "cell_type": "code",
   "execution_count": 122,
   "outputs": [
    {
     "data": {
      "text/plain": "array([[ 0,  1,  2,  3,  4],\n       [ 5,  6,  7,  8,  9],\n       [10, 11, 12, 13, 14],\n       [15, 16, 17, 18, 19]])"
     },
     "execution_count": 122,
     "metadata": {},
     "output_type": "execute_result"
    }
   ],
   "source": [
    "a = np.arange(20).reshape(4, 5)\n",
    "a"
   ],
   "metadata": {
    "collapsed": false,
    "pycharm": {
     "name": "#%%\n"
    }
   }
  },
  {
   "cell_type": "code",
   "execution_count": 123,
   "outputs": [
    {
     "data": {
      "text/plain": "(4, 5)"
     },
     "execution_count": 123,
     "metadata": {},
     "output_type": "execute_result"
    }
   ],
   "source": [
    "a = np.arange(20).reshape(4, 5)\n",
    "a.shape"
   ],
   "metadata": {
    "collapsed": false,
    "pycharm": {
     "name": "#%%\n"
    }
   }
  },
  {
   "cell_type": "code",
   "execution_count": 124,
   "outputs": [
    {
     "data": {
      "text/plain": "2"
     },
     "execution_count": 124,
     "metadata": {},
     "output_type": "execute_result"
    }
   ],
   "source": [
    "a = np.arange(20).reshape(4, 5)\n",
    "a.ndim"
   ],
   "metadata": {
    "collapsed": false,
    "pycharm": {
     "name": "#%%\n"
    }
   }
  },
  {
   "cell_type": "code",
   "execution_count": 125,
   "outputs": [
    {
     "data": {
      "text/plain": "'int32'"
     },
     "execution_count": 125,
     "metadata": {},
     "output_type": "execute_result"
    }
   ],
   "source": [
    "a = np.arange(20).reshape(4, 5)\n",
    "a.dtype.name"
   ],
   "metadata": {
    "collapsed": false,
    "pycharm": {
     "name": "#%%\n"
    }
   }
  },
  {
   "cell_type": "code",
   "execution_count": 126,
   "outputs": [
    {
     "data": {
      "text/plain": "4"
     },
     "execution_count": 126,
     "metadata": {},
     "output_type": "execute_result"
    }
   ],
   "source": [
    "a = np.arange(20).reshape(4, 5)\n",
    "a.itemsize"
   ],
   "metadata": {
    "collapsed": false,
    "pycharm": {
     "name": "#%%\n"
    }
   }
  },
  {
   "cell_type": "code",
   "execution_count": 127,
   "outputs": [
    {
     "data": {
      "text/plain": "<memory at 0x0000020D9D0CF520>"
     },
     "execution_count": 127,
     "metadata": {},
     "output_type": "execute_result"
    }
   ],
   "source": [
    "# 쓸일 없음\n",
    "a = np.arange(20).reshape(4, 5)\n",
    "a.data"
   ],
   "metadata": {
    "collapsed": false,
    "pycharm": {
     "name": "#%%\n"
    }
   }
  },
  {
   "cell_type": "code",
   "execution_count": 128,
   "outputs": [
    {
     "data": {
      "text/plain": "array([[[ 0,  1,  2,  3,  4],\n        [ 5,  6,  7,  8,  9]],\n\n       [[10, 11, 12, 13, 14],\n        [15, 16, 17, 18, 19]]])"
     },
     "execution_count": 128,
     "metadata": {},
     "output_type": "execute_result"
    }
   ],
   "source": [
    "# 3차원\n",
    "b = np.arange(20).reshape(2, 2, 5)\n",
    "b\n",
    "# b.shape\n",
    "# b.ndim\n",
    "# b.dtype.name\n",
    "# b.itemsize\n",
    "# b.size"
   ],
   "metadata": {
    "collapsed": false,
    "pycharm": {
     "name": "#%%\n"
    }
   }
  },
  {
   "cell_type": "code",
   "source": [
    "# Python 리스트로부터 NumPy array 만들기\n",
    "a = np.array([1, 2, 3, 4])\n",
    "a"
   ],
   "metadata": {
    "collapsed": false,
    "pycharm": {
     "name": "#%%\n"
    }
   },
   "execution_count": 129,
   "outputs": [
    {
     "data": {
      "text/plain": "array([1, 2, 3, 4])"
     },
     "execution_count": 129,
     "metadata": {},
     "output_type": "execute_result"
    }
   ]
  },
  {
   "cell_type": "code",
   "execution_count": 130,
   "outputs": [
    {
     "data": {
      "text/plain": "array([[0., 0., 0., 0.],\n       [0., 0., 0., 0.],\n       [0., 0., 0., 0.]])"
     },
     "execution_count": 130,
     "metadata": {},
     "output_type": "execute_result"
    }
   ],
   "source": [
    "# 0 으로 채워진 배열\n",
    "a = np.zeros((3, 4))\n",
    "a"
   ],
   "metadata": {
    "collapsed": false,
    "pycharm": {
     "name": "#%%\n"
    }
   }
  },
  {
   "cell_type": "code",
   "execution_count": 131,
   "outputs": [
    {
     "data": {
      "text/plain": "array([1, 3, 5, 7, 9])"
     },
     "execution_count": 131,
     "metadata": {},
     "output_type": "execute_result"
    }
   ],
   "source": [
    "# 1부터 10까지 2씩 증가\n",
    "a = np.arange(1, 10, 2)\n",
    "a"
   ],
   "metadata": {
    "collapsed": false,
    "pycharm": {
     "name": "#%%\n"
    }
   }
  },
  {
   "cell_type": "code",
   "execution_count": 132,
   "outputs": [
    {
     "name": "stdout",
     "output_type": "stream",
     "text": [
      "[   0    1    2 ... 9997 9998 9999]\n"
     ]
    }
   ],
   "source": [
    "# 모두 출력\n",
    "# np.set_printoptions(threshold=sys.maxsize)\n",
    "# np.set_printoptions(threshold=10)\n",
    "print(np.arange(10000))"
   ],
   "metadata": {
    "collapsed": false,
    "pycharm": {
     "name": "#%%\n"
    }
   }
  },
  {
   "cell_type": "code",
   "source": [
    "# Basic Operations\n",
    "# NumPy Array 기본적인 행렬 연산이 가능함\n",
    "# 정말 다양한 연산(삼각함수, 행렬, 지수, 집합함수 등)이 가능하고 좋은 레퍼런스는 아래 링크\n",
    "# https://rfriend.tistory.com/294?category=675917\n",
    "# 찾아보니 데이터 전처리에 이용되는 차원 확장과 축소도 NumPy로 가능\n",
    "a = np.array([20, 30, 40, 50])\n",
    "b = np.array([0, 1, 2, 3])\n",
    "\n",
    "print(a + b)  # 요소간 덧셈\n",
    "print(a - b)  # 요소간 뺄셈\n",
    "print(b**2)   # 요소에 제곱\n",
    "print(np.sin(a)) # 요소에 사인함수\n",
    "print(np.cos(a)) # 요소에 코사인함수\n",
    "print(np.tan(a)) # 요소에 탄젠트함수\n",
    "print(a < 35)    # 요소마다 Boolean으로 결과나옴\n",
    "\n",
    "# NumPy Array는 자동 형번환이 안되기 때문에 NumPy Array간 연산을 할 때 dType을 맞춰주어야함"
   ],
   "metadata": {
    "collapsed": false,
    "pycharm": {
     "name": "#%%\n"
    }
   },
   "execution_count": 135,
   "outputs": [
    {
     "name": "stdout",
     "output_type": "stream",
     "text": [
      "[20 31 42 53]\n",
      "[20 29 38 47]\n",
      "[0 1 4 9]\n",
      "[ 0.91294525 -0.98803162  0.74511316 -0.26237485]\n",
      "[ 0.40808206  0.15425145 -0.66693806  0.96496603]\n",
      "[ 2.23716094 -6.4053312  -1.11721493 -0.27190061]\n",
      "[ True  True False False]\n",
      "[  0  30  80 150]\n",
      "260\n",
      "260\n",
      "[[ 0  1  2  3]\n",
      " [ 4  5  6  7]\n",
      " [ 8  9 10 11]]\n",
      "[12 15 18 21]\n",
      "[ 6 22 38]\n"
     ]
    }
   ]
  },
  {
   "cell_type": "code",
   "execution_count": null,
   "outputs": [],
   "source": [
    "## 곱셈\n",
    "print(a * b) # 요소간 곱셈\n",
    "print(a @ b) # 행렬곱\n",
    "print(a.dot(b)) # 행렬곱"
   ],
   "metadata": {
    "collapsed": false,
    "pycharm": {
     "name": "#%%\n"
    }
   }
  },
  {
   "cell_type": "code",
   "execution_count": 138,
   "outputs": [
    {
     "name": "stdout",
     "output_type": "stream",
     "text": [
      "[[ 0  1  2  3]\n",
      " [ 4  5  6  7]\n",
      " [ 8  9 10 11]]\n",
      "[12 15 18 21]\n",
      "[ 6 22 38]\n",
      "[ 8  9 10 11]\n",
      "[0 4 8]\n",
      "[[ 0  1  3  6]\n",
      " [ 4  9 15 22]\n",
      " [ 8 17 27 38]]\n"
     ]
    }
   ],
   "source": [
    "# 집계 함수\n",
    "c = np.arange(12).reshape(3, 4)\n",
    "print(c)\n",
    "\n",
    "# axis 는 방향, 0 = column, 1 = row\n",
    "print(c.sum(axis=0))\n",
    "print(c.sum(axis=1))\n",
    "\n",
    "print(c.max(axis=0))\n",
    "print(c.min(axis=1))\n",
    "\n",
    "print(c.cumsum(axis=1))"
   ],
   "metadata": {
    "collapsed": false,
    "pycharm": {
     "name": "#%%\n"
    }
   }
  },
  {
   "cell_type": "code",
   "execution_count": null,
   "outputs": [],
   "source": [
    "# Universal Functions\n",
    "# np.exp() 자연상수 e^x꼴로 만들어주는 함수\n",
    "b = np.arange(3)\n",
    "print(np.exp(b))\n",
    "print(np.sqrt(b))"
   ],
   "metadata": {
    "collapsed": false,
    "pycharm": {
     "name": "#%%\n"
    }
   }
  },
  {
   "cell_type": "code",
   "execution_count": 140,
   "outputs": [
    {
     "name": "stdout",
     "output_type": "stream",
     "text": [
      "[  0   1   8  27  64 125 216 343 512 729]\n",
      "[ 8 64]\n"
     ]
    }
   ],
   "source": [
    "# Indexing, Slicing and Iterating\n",
    "\n",
    "# 1차원에서는 파이썬 리스트처럼 사용가능\n",
    "a = np.arange(10) ** 3\n",
    "print(a)\n",
    "print(a[2:6:2])"
   ],
   "metadata": {
    "collapsed": false,
    "pycharm": {
     "name": "#%%\n"
    }
   }
  },
  {
   "cell_type": "code",
   "execution_count": 146,
   "outputs": [
    {
     "name": "stdout",
     "output_type": "stream",
     "text": [
      "[[0 1 2 3 4]\n",
      " [5 6 7 8 9]]\n",
      "[[0 1]]\n",
      "===========\n",
      "[[0 1 2 3 4]]\n",
      "[[0 1 2 3 4]]\n",
      "<numpy.flatiter object at 0x0000020D9A0BD740>\n"
     ]
    }
   ],
   "source": [
    "# 2차원에서는 axis별로 인덱스를 가짐\n",
    "# 슬라이싱할 때 콤마로 구분하는데, dot(...)으로 생략 가능함\n",
    "a = np.arange(10).reshape(2, 5)\n",
    "print(a)\n",
    "print(a[:1,:2])\n",
    "\n",
    "print(\"===========\")\n",
    "print(a[:1,:])\n",
    "print(a[:1,...])\n",
    "\n",
    "# flat을 사용하면 1 dimension처럼 iterate할 수 있음\n",
    "# print(a.flat)"
   ],
   "metadata": {
    "collapsed": false,
    "pycharm": {
     "name": "#%%\n"
    }
   }
  },
  {
   "cell_type": "code",
   "execution_count": 147,
   "outputs": [
    {
     "name": "stdout",
     "output_type": "stream",
     "text": [
      "[[9. 0. 8. 7.]\n",
      " [6. 5. 9. 3.]\n",
      " [1. 4. 3. 6.]]\n"
     ]
    }
   ],
   "source": [
    "# Shape Manipulation\n",
    "rg = np.random\n",
    "a = np.floor(10 * rg.random((3, 4)))\n",
    "print(a)\n",
    "\n",
    "print(a.ravel())\n",
    "print(a.reshape(6, 2))\n",
    "print(a.T) # 전치행렬\n"
   ],
   "metadata": {
    "collapsed": false,
    "pycharm": {
     "name": "#%%\n"
    }
   }
  }
 ],
 "metadata": {
  "kernelspec": {
   "display_name": "Python 3",
   "language": "python",
   "name": "python3"
  },
  "language_info": {
   "codemirror_mode": {
    "name": "ipython",
    "version": 2
   },
   "file_extension": ".py",
   "mimetype": "text/x-python",
   "name": "python",
   "nbconvert_exporter": "python",
   "pygments_lexer": "ipython2",
   "version": "2.7.6"
  }
 },
 "nbformat": 4,
 "nbformat_minor": 0
}